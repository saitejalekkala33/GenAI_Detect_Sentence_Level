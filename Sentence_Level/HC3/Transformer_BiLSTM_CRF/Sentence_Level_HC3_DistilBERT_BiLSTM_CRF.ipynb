{
 "cells": [
  {
   "cell_type": "markdown",
   "metadata": {
    "id": "Bqo2Py9CC1Qi"
   },
   "source": [
    "## Torch CRF install"
   ]
  },
  {
   "cell_type": "code",
   "execution_count": null,
   "metadata": {
    "colab": {
     "base_uri": "https://localhost:8080/"
    },
    "id": "z2B5Ln8_t8pg",
    "outputId": "e5914a2a-e20c-40a8-8757-7c1c8619b360"
   },
   "outputs": [],
   "source": [
    "!pip install pytorch-crf"
   ]
  },
  {
   "cell_type": "code",
   "execution_count": null,
   "metadata": {
    "colab": {
     "base_uri": "https://localhost:8080/"
    },
    "id": "jP6xVlDkuIuk",
    "outputId": "ecc65a6e-8635-4eb1-aed1-1fb4150b9e42"
   },
   "outputs": [],
   "source": [
    "from google.colab import drive\n",
    "drive.mount('/content/drive')"
   ]
  },
  {
   "cell_type": "markdown",
   "metadata": {
    "id": "bYQXrOn-C7E1"
   },
   "source": [
    "## Imports"
   ]
  },
  {
   "cell_type": "code",
   "execution_count": null,
   "metadata": {
    "id": "rs-OrByhLUo1"
   },
   "outputs": [],
   "source": [
    "import torch\n",
    "import torch.nn as nn\n",
    "from transformers import AutoModel, AutoTokenizer\n",
    "from torch.utils.data import Dataset, DataLoader\n",
    "from sklearn.model_selection import train_test_split\n",
    "from torchcrf import CRF\n",
    "import numpy as np\n",
    "import pandas as pd\n",
    "from sklearn.metrics import accuracy_score, precision_score, recall_score, f1_score, matthews_corrcoef"
   ]
  },
  {
   "cell_type": "markdown",
   "metadata": {
    "id": "N8MGupn9C-c6"
   },
   "source": [
    "## Dataset and Customizing for input"
   ]
  },
  {
   "cell_type": "code",
   "execution_count": null,
   "metadata": {
    "id": "ydWlaIsGLkJp"
   },
   "outputs": [],
   "source": [
    "class MixedTextDataset(Dataset):\n",
    "    def __init__(self, texts, labels, tokenizer, max_len):\n",
    "        self.texts = texts\n",
    "        self.labels = labels\n",
    "        self.tokenizer = tokenizer\n",
    "        self.max_len = max_len\n",
    "\n",
    "    def __len__(self):\n",
    "        return len(self.texts)\n",
    "\n",
    "    def __getitem__(self, idx):\n",
    "        text = str(self.texts[idx])\n",
    "        boundary_idx = int(self.labels[idx])\n",
    "        words = text.split()\n",
    "        if len(words) > self.max_len - 2:\n",
    "            if boundary_idx > self.max_len - 2:\n",
    "                words = words[-(self.max_len - 2):]\n",
    "                boundary_idx = 0\n",
    "            else:\n",
    "                words = words[:self.max_len - 2]\n",
    "        word_labels = [0 if i <= boundary_idx else 1 for i in range(len(words))]\n",
    "        truncated_text = \" \".join(words)\n",
    "        encoding = self.tokenizer(\n",
    "            truncated_text,\n",
    "            max_length=self.max_len,\n",
    "            padding=\"max_length\",\n",
    "            truncation=True,\n",
    "            return_tensors=\"pt\",\n",
    "            return_special_tokens_mask=True\n",
    "        )\n",
    "        special_tokens_mask = encoding['special_tokens_mask'][0]\n",
    "        token_labels = []\n",
    "        current_word_idx = 0\n",
    "\n",
    "        for is_special in special_tokens_mask:\n",
    "            if is_special:\n",
    "                token_labels.append(-100)\n",
    "            else:\n",
    "                if current_word_idx < len(word_labels):\n",
    "                    token_labels.append(word_labels[current_word_idx])\n",
    "                    current_word_idx += 1\n",
    "                else:\n",
    "                    token_labels.append(-100)\n",
    "        token_labels = token_labels[:self.max_len]\n",
    "        if len(token_labels) < self.max_len:\n",
    "            token_labels.extend([-100] * (self.max_len - len(token_labels)))\n",
    "        return {\n",
    "            \"input_ids\": encoding[\"input_ids\"].squeeze(0),\n",
    "            \"attention_mask\": encoding[\"attention_mask\"].squeeze(0),\n",
    "            \"labels\": torch.tensor(token_labels)\n",
    "        }"
   ]
  },
  {
   "cell_type": "markdown",
   "metadata": {
    "id": "wF_FORM1DGhO"
   },
   "source": [
    "## Define Main Model"
   ]
  },
  {
   "cell_type": "code",
   "execution_count": null,
   "metadata": {
    "id": "LiatVcNlQFSN"
   },
   "outputs": [],
   "source": [
    "import torch\n",
    "import torch.nn as nn\n",
    "import torchcrf\n",
    "from transformers import AutoModel\n",
    "\n",
    "class TransformerBiLSTMCRF(nn.Module):\n",
    "    def __init__(self, transformer_model, hidden_dim, num_labels):\n",
    "        super(TransformerBiLSTMCRF, self).__init__()\n",
    "        self.num_labels = num_labels\n",
    "        self.transformer = AutoModel.from_pretrained(transformer_model)\n",
    "        self.lstm = nn.LSTM(input_size=self.transformer.config.hidden_size, hidden_size=hidden_dim, num_layers=3, bidirectional=True, batch_first=True, dropout=0.3)\n",
    "        self.fc = nn.Linear(hidden_dim * 2, num_labels)\n",
    "        self.activation = nn.ReLU()\n",
    "        self.crf = torchcrf.CRF(num_labels, batch_first=True)\n",
    "        nn.init.xavier_uniform_(self.fc.weight)\n",
    "        if self.fc.bias is not None:\n",
    "            nn.init.zeros_(self.fc.bias)\n",
    "\n",
    "    def forward(self, input_ids, attention_mask, labels=None):\n",
    "        transformer_outputs = self.transformer(input_ids=input_ids, attention_mask=attention_mask)\n",
    "        sequence_output = transformer_outputs.last_hidden_state\n",
    "        lstm_out, _ = self.lstm(sequence_output)\n",
    "        emissions = self.fc(self.activation(lstm_out))\n",
    "        if labels is not None:\n",
    "          mask = attention_mask.bool()\n",
    "          crf_labels = labels.clone()\n",
    "          crf_labels[crf_labels == -100] = 0\n",
    "          log_likelihood = self.crf(emissions, crf_labels, mask=mask, reduction='mean')\n",
    "          return -log_likelihood\n",
    "        else:\n",
    "            predictions = self.crf.decode(emissions, mask=attention_mask.bool())\n",
    "            return predictions\n"
   ]
  },
  {
   "cell_type": "markdown",
   "metadata": {
    "id": "OCUFxjYdDLcz"
   },
   "source": [
    "## Metrics, Train and Evaluate Model"
   ]
  },
  {
   "cell_type": "code",
   "execution_count": null,
   "metadata": {
    "id": "pt8C3d2xIiMR"
   },
   "outputs": [],
   "source": [
    "import numpy as np\n",
    "import torch\n",
    "from sklearn.metrics import accuracy_score, precision_score, recall_score, f1_score, matthews_corrcoef\n",
    "\n",
    "def compute_metrics(predictions, labels):\n",
    "    predictions = np.array(predictions)\n",
    "    labels = np.array(labels)\n",
    "    accuracy = accuracy_score(labels, predictions)\n",
    "    precision = precision_score(labels, predictions, average=\"weighted\", zero_division=0)\n",
    "    recall = recall_score(labels, predictions, average=\"weighted\", zero_division=0)\n",
    "    f1 = f1_score(labels, predictions, average=\"weighted\", zero_division=0)\n",
    "    mcc = matthews_corrcoef(labels, predictions)\n",
    "    return accuracy, precision, recall, f1, mcc\n",
    "\n",
    "def train_model(model, data_loader, optimizer, scheduler, device):\n",
    "    model.train()\n",
    "    total_loss = 0\n",
    "    for batch in data_loader:\n",
    "        input_ids = batch[\"input_ids\"].to(device)\n",
    "        attention_mask = batch[\"attention_mask\"].to(device)\n",
    "        labels = batch[\"labels\"].to(device)\n",
    "        optimizer.zero_grad()\n",
    "        loss = model(input_ids, attention_mask, labels)  \n",
    "        loss.backward()\n",
    "        torch.nn.utils.clip_grad_norm_(model.parameters(), max_norm=1.0)\n",
    "        optimizer.step()\n",
    "        scheduler.step()\n",
    "        total_loss += loss.item()\n",
    "\n",
    "    return total_loss / len(data_loader)\n",
    "\n",
    "def evaluate_model(model, data_loader, device):\n",
    "    model.eval()\n",
    "    all_predictions = []\n",
    "    all_labels = []\n",
    "\n",
    "    with torch.no_grad():\n",
    "        for batch in data_loader:\n",
    "            input_ids = batch[\"input_ids\"].to(device)\n",
    "            attention_mask = batch[\"attention_mask\"].to(device)\n",
    "            labels = batch[\"labels\"].to(device)\n",
    "            predictions = model(input_ids, attention_mask)\n",
    "            for pred_seq, label_seq, mask_seq in zip(predictions, labels, attention_mask):\n",
    "                pred_seq = torch.tensor(pred_seq, device=device)\n",
    "                if len(pred_seq) < mask_seq.size(0):\n",
    "                    padding = torch.zeros(mask_seq.size(0) - len(pred_seq), device=device)\n",
    "                    pred_seq = torch.cat([pred_seq, padding])\n",
    "                mask_seq = mask_seq.to(device)\n",
    "                label_seq = label_seq.to(device)\n",
    "                valid_indices = (mask_seq == 1) & (label_seq != -100)\n",
    "                valid_pred = pred_seq[valid_indices].cpu().numpy()\n",
    "                valid_label = label_seq[valid_indices].cpu().numpy()\n",
    "                all_predictions.extend(valid_pred)\n",
    "                all_labels.extend(valid_label)\n",
    "\n",
    "    all_predictions = np.array(all_predictions)\n",
    "    all_labels = np.array(all_labels)\n",
    "\n",
    "    accuracy = accuracy_score(all_labels, all_predictions)\n",
    "    precision = precision_score(all_labels, all_predictions, average=\"weighted\", zero_division=0)\n",
    "    recall = recall_score(all_labels, all_predictions, average=\"weighted\", zero_division=0)\n",
    "    f1 = f1_score(all_labels, all_predictions, average=\"weighted\", zero_division=0)\n",
    "    mcc = matthews_corrcoef(all_labels, all_predictions)\n",
    "\n",
    "    mae = np.mean(np.abs(all_predictions - all_labels))\n",
    "    std_dev = np.std(all_predictions - all_labels)\n",
    "\n",
    "    return accuracy, precision, recall, f1, mcc, mae, std_dev"
   ]
  },
  {
   "cell_type": "markdown",
   "metadata": {
    "id": "acNn3lc2DQ9E"
   },
   "source": [
    "## Model Selection and Setting up"
   ]
  },
  {
   "cell_type": "code",
   "execution_count": null,
   "metadata": {
    "id": "y8IJHdrQQLG2"
   },
   "outputs": [],
   "source": [
    "from transformers import AutoTokenizer, get_linear_schedule_with_warmup\n",
    "\n",
    "MODEL_NAME = 'distilbert-base-uncased'\n",
    "HIDDEN_DIM = 256\n",
    "\n",
    "def setup_training(train_texts, train_labels, dev_texts, dev_labels, model_name=MODEL_NAME, batch_size=8, max_len=512):\n",
    "    tokenizer = AutoTokenizer.from_pretrained(model_name)\n",
    "\n",
    "    train_dataset = MixedTextDataset(train_texts, train_labels, tokenizer, max_len)\n",
    "    dev_dataset = MixedTextDataset(dev_texts, dev_labels, tokenizer, max_len)\n",
    "\n",
    "    train_loader = DataLoader(train_dataset, batch_size=batch_size, shuffle=True)\n",
    "    dev_loader = DataLoader(dev_dataset, batch_size=batch_size, shuffle=False)\n",
    "\n",
    "    device = torch.device(\"cuda\" if torch.cuda.is_available() else \"cpu\")\n",
    "    model = TransformerBiLSTMCRF(model_name, hidden_dim=HIDDEN_DIM, num_labels=2)\n",
    "    model.to(device)\n",
    "\n",
    "    optimizer_grouped_parameters = [\n",
    "        {\"params\": model.transformer.embeddings.parameters(), \"lr\": 1e-6},\n",
    "        {\"params\": model.lstm.parameters(), \"lr\": 1e-4},\n",
    "        {\"params\": model.fc.parameters(), \"lr\": 1e-4},\n",
    "        {\"params\": model.crf.parameters(), \"lr\": 1e-4},\n",
    "    ]\n",
    "    optimizer_grouped_parameters.append(\n",
    "        {\"params\": [param for name, param in model.transformer.named_parameters() if 'embeddings' not in name], \"lr\": 1e-5}\n",
    "    )\n",
    "    optimizer = torch.optim.AdamW(optimizer_grouped_parameters, lr=5e-6, weight_decay=0.01)\n",
    "\n",
    "    num_training_steps = len(train_loader) * 3\n",
    "    scheduler = get_linear_schedule_with_warmup(optimizer, num_warmup_steps=0.1 * num_training_steps, num_training_steps=num_training_steps)\n",
    "\n",
    "    return model, train_loader, dev_loader, optimizer, scheduler, device\n"
   ]
  },
  {
   "cell_type": "code",
   "execution_count": null,
   "metadata": {
    "colab": {
     "base_uri": "https://localhost:8080/",
     "height": 301,
     "referenced_widgets": [
      "79da0c9a935c4f8a8d78b37ac040a4fc",
      "868ab42a4f64459d8e0500f70a1eedd0",
      "18e4da8fe5114acaaf468e8f1413f837",
      "46af0ede90d74634abc294d2a6d82428",
      "ff30ab95adaf43df8b40eaf1dcf296ef",
      "3efb3b1507b947dba6dd5db9aa31c6ca",
      "966dfbb8fc7e48d2857749d41183ceee",
      "7b194f3d861b46c99379aa02152da2fa",
      "c7149268694e4203940bee0774b6a07d",
      "8dd1bfac22ad4e658dc67cb2679151b6",
      "d4449a48bd43466a8a9a562412b27850",
      "939dd7421c4c4d838c5d4b30498731ce",
      "948769be2e4c44d09a3285d72c1ee859",
      "963596987b9e4a3481df948002ef40fe",
      "3ad7b78e342944adb16b07694d450608",
      "963a68e331be41eaa07b9351c256639c",
      "eeea27bc7f3243a2ac41680814172bc1",
      "d5a75879710649a49b80025d36cfccff",
      "b77c868d0ec546acb2a5f3ff11a3e615",
      "c06f7d9b0d8e4f15b495538558183c86",
      "c88d3088c6e1449385d6c6c125ace645",
      "cfb7deb6c0a74682ae3764694f97e95e",
      "10cff1e3f24344848074513808614748",
      "bdb99fead3904449a3b9afe78d6061a4",
      "bef760e8eb304bcaa8513d32d470020c",
      "c7dc2cf35a7e4c048a6500d272013317",
      "493b45e7621947629b56cb47fde3dde9",
      "259ab460384a43e6a61a2e97a05da0bf",
      "5b99aa8818024ee5bb38ec3cb62281d7",
      "1cfc31a1a71b4ac1ac9c040b1a1552c9",
      "2fed791131d140f480168d9a275af4a3",
      "8e0aacbbe2ec4c6bb1b2cd451f3ee2f0",
      "b083a476e06943dd9fe87d2e4bcd0faf",
      "17771e872b4b4f6b9113bceef5774ec7",
      "47e56c94637749379ec2f2b994fd3515",
      "a7c4b3fa3531448c9fdba864f954cb16",
      "2501c8c94b0d4f1c9b6623f9692a2b9d",
      "03674fef21324259824d3a258719d066",
      "4959fccdafb64d31852cfa8b1f742545",
      "d2bff506f9e243d099c1265656771904",
      "5677deaafddc4301a373c8e90c39aaa0",
      "9ab9172f336849c286128c80d830a822",
      "d9066c92e1c54b4a95d035ba11e4fb47",
      "7c94d19fe2324237ba16ca1ef6f1b525",
      "5b7a6012bec54d5091e2ace8a314b275",
      "1a222bf2e5c744b0ba59c8f817b783c9",
      "7162326419d440deb429981a9284d536",
      "50d0f26c4be141219bc4969eb0587e0f",
      "c4ea8dc51da54265b08a8fa725e7a7ed",
      "d60b8efdd9d54fdfa50067702bcd6065",
      "f9389950972941c9a7885a33a7decb9f",
      "62c786314e30467da8dd9e2183fa8ac8",
      "305ba2e9fd02435cb4f68e582a9ae969",
      "bf388fe2bbc845b5b2933210387e4414",
      "f1e98fdbda2040c998892f0276fbaaa8"
     ]
    },
    "id": "idjXoEcW7dqi",
    "outputId": "60d4f11a-3170-4f4a-858b-e82b0a812445"
   },
   "outputs": [],
   "source": [
    "train_df = pd.read_csv('/content/drive/MyDrive/SCI AIGC/sentence_level_train_hc3.csv')\n",
    "dev_df = pd.read_csv('/content/drive/MyDrive/SCI AIGC/sentence_level_dev_hc3.csv')\n",
    "\n",
    "train_texts = train_df[\"text\"].tolist()\n",
    "train_labels = train_df[\"label\"].tolist()\n",
    "dev_texts = dev_df[\"text\"].tolist()\n",
    "dev_labels = dev_df[\"label\"].tolist()\n",
    "\n",
    "model, train_loader, dev_loader, optimizer, scheduler, device = setup_training(train_texts, train_labels, dev_texts, dev_labels, MODEL_NAME)\n"
   ]
  },
  {
   "cell_type": "code",
   "execution_count": null,
   "metadata": {
    "colab": {
     "base_uri": "https://localhost:8080/"
    },
    "id": "p5ylDQrcIiHO",
    "outputId": "61e5e724-2888-4680-fe31-da61cc999ff1"
   },
   "outputs": [],
   "source": [
    "tokenizer = AutoTokenizer.from_pretrained(MODEL_NAME)\n",
    "dataset = MixedTextDataset([train_texts[0]], [train_labels[0]], tokenizer, max_len=512)\n",
    "sample = dataset[0]\n",
    "print(f\"Input sequence length: {len(sample['input_ids'])}\")\n",
    "print(f\"Label sequence length: {len(sample['labels'])}\")"
   ]
  },
  {
   "cell_type": "code",
   "execution_count": null,
   "metadata": {
    "colab": {
     "base_uri": "https://localhost:8080/"
    },
    "id": "eTT3bFGGORbz",
    "outputId": "5a516167-99d9-4728-947c-4268ec4159f7"
   },
   "outputs": [],
   "source": [
    "device"
   ]
  },
  {
   "cell_type": "markdown",
   "metadata": {
    "id": "puvay671DcOy"
   },
   "source": [
    "## Train Model and Save it"
   ]
  },
  {
   "cell_type": "code",
   "execution_count": null,
   "metadata": {
    "colab": {
     "base_uri": "https://localhost:8080/"
    },
    "id": "dM7tsVWBliLB",
    "outputId": "ca9369e1-0320-455c-a678-02db47b27673"
   },
   "outputs": [],
   "source": [
    "print(f\"Label Min: {train_df['label'].min()}, Label Max: {train_df['label'].max()}\")"
   ]
  },
  {
   "cell_type": "code",
   "execution_count": null,
   "metadata": {
    "colab": {
     "base_uri": "https://localhost:8080/"
    },
    "id": "Hzr_FHzpQGt2",
    "outputId": "a7433316-288c-4451-96fe-7b5305bbbb1d"
   },
   "outputs": [],
   "source": [
    "import time\n",
    "\n",
    "epochs = 3\n",
    "best_f1 = 0.0\n",
    "best_epoch = 0\n",
    "best_model_path = \"distilbert_best_hc3_TBCRF.pth\"\n",
    "\n",
    "for epoch in range(epochs):\n",
    "    start_time = time.time()\n",
    "    train_loss = train_model(model, train_loader, optimizer, scheduler, device)\n",
    "    val_accuracy, val_precision, val_recall, val_f1, val_mcc, val_mae, val_std_dev = evaluate_model(model, dev_loader, device)\n",
    "    end_time = time.time()\n",
    "    epoch_duration = end_time - start_time\n",
    "\n",
    "    print(f\"Epoch {epoch + 1}/{epochs}, Train Loss: {train_loss:.4f}\")\n",
    "    print(f\"Validation: Accuracy: {val_accuracy:.4f}, Precision: {val_precision:.4f}, Recall: {val_recall:.4f}, \"\n",
    "          f\"F1 Score: {val_f1:.4f}, MCC: {val_mcc:.4f}, MAE: {val_mae:.2f}±{val_std_dev:.2f}\")\n",
    "    print(f\"Time taken for epoch {epoch + 1}: {epoch_duration:.4f} seconds\")\n",
    "\n",
    "    if val_f1 > best_f1:\n",
    "        best_f1 = val_f1\n",
    "        best_epoch = epoch + 1\n",
    "        torch.save({\n",
    "            'epoch': epoch + 1,\n",
    "            'model_state_dict': model.state_dict(),\n",
    "            'optimizer_state_dict': optimizer.state_dict(),\n",
    "            'scheduler_state_dict': scheduler.state_dict(),\n",
    "            'loss': train_loss,\n",
    "        }, best_model_path)\n",
    "        print(f\"Model saved at epoch {epoch + 1} with F1 Score: {val_f1:.4f}\")\n",
    "\n",
    "print(f\"Best model saved at epoch {best_epoch}, saved to {best_model_path}\")\n"
   ]
  },
  {
   "cell_type": "markdown",
   "metadata": {
    "id": "_dqETR5_Dj0W"
   },
   "source": [
    "## Load Model"
   ]
  },
  {
   "cell_type": "code",
   "execution_count": null,
   "metadata": {
    "colab": {
     "base_uri": "https://localhost:8080/"
    },
    "id": "E805ToQnRZ7C",
    "outputId": "ca3343f4-1a5d-45ab-f81c-340f80dfed3c"
   },
   "outputs": [],
   "source": [
    "checkpoint = torch.load(best_model_path)\n",
    "model.load_state_dict(checkpoint['model_state_dict'])"
   ]
  },
  {
   "cell_type": "markdown",
   "metadata": {
    "id": "CQs5j0V_Dniy"
   },
   "source": [
    "## Model on Test Data"
   ]
  },
  {
   "cell_type": "code",
   "execution_count": null,
   "metadata": {
    "colab": {
     "base_uri": "https://localhost:8080/"
    },
    "id": "IbdeANtgRRLO",
    "outputId": "3f56ef38-e8cd-47c3-fe23-a1f7dd69dbd8"
   },
   "outputs": [],
   "source": [
    "model.eval()\n",
    "\n",
    "test_df = pd.read_csv('/content/drive/MyDrive/SCI AIGC/sentence_level_test_hc3.csv')\n",
    "test_texts = test_df[\"text\"].tolist()\n",
    "test_labels = test_df[\"label\"].tolist()\n",
    "\n",
    "test_dataset = MixedTextDataset(test_texts, test_labels, tokenizer, max_len=512)\n",
    "test_loader = DataLoader(test_dataset, batch_size=8, shuffle=False)\n",
    "\n",
    "test_accuracy, test_precision, test_recall, test_f1, test_mcc, test_mae, test_std_dev = evaluate_model(model, test_loader, device)\n",
    "\n",
    "print(f\"Test Results: Accuracy: {test_accuracy:.4f}, Precision: {test_precision:.4f}, Recall: {test_recall:.4f}, \"\n",
    "      f\"F1 Score: {test_f1:.4f}, MCC: {test_mcc:.4f}, MAE: {test_mae:.2f}±{test_std_dev:.2f}\")\n"
   ]
  },
  {
   "cell_type": "code",
   "execution_count": null,
   "metadata": {
    "id": "PmirFmXN1R3V"
   },
   "outputs": [],
   "source": [
    "test_df"
   ]
  },
  {
   "cell_type": "code",
   "execution_count": null,
   "metadata": {
    "id": "8AfrvUTo2Huy"
   },
   "outputs": [],
   "source": [
    "import pandas as pd\n",
    "import torch\n",
    "\n",
    "def predict_boundary(model, text, tokenizer, max_len, device):\n",
    "    model.eval()\n",
    "\n",
    "    encoding = tokenizer(\n",
    "        text,\n",
    "        max_length=max_len,\n",
    "        padding=\"max_length\",\n",
    "        truncation=True,\n",
    "        return_tensors=\"pt\",\n",
    "        return_special_tokens_mask=True\n",
    "    )\n",
    "\n",
    "    input_ids = encoding[\"input_ids\"].to(device)\n",
    "    attention_mask = encoding[\"attention_mask\"].to(device)\n",
    "\n",
    "    with torch.no_grad():\n",
    "        transformer_outputs = model.transformer(input_ids=input_ids, attention_mask=attention_mask)\n",
    "        sequence_output = transformer_outputs.last_hidden_state\n",
    "        lstm_out, _ = model.lstm(sequence_output)\n",
    "        emissions = model.fc(model.activation(lstm_out))\n",
    "        predictions = model.crf.decode(emissions, mask=attention_mask.bool())\n",
    "\n",
    "    pred_labels = predictions[0]\n",
    "    boundary_index = next((i for i, label in enumerate(pred_labels) if label == 1), len(pred_labels))\n",
    "\n",
    "    return boundary_index\n"
   ]
  },
  {
   "cell_type": "code",
   "execution_count": null,
   "metadata": {
    "id": "cqZzePal2LrW"
   },
   "outputs": [],
   "source": [
    "test_df[\"predicted_boundary\"] = test_df[\"text\"].apply(lambda x: predict_boundary(model, x, tokenizer, max_len=512, device=device))"
   ]
  },
  {
   "cell_type": "code",
   "execution_count": null,
   "metadata": {
    "colab": {
     "base_uri": "https://localhost:8080/",
     "height": 1000
    },
    "id": "OAPkmzd42QXV",
    "outputId": "1ecb0666-0bf3-4b62-beef-39736159634d"
   },
   "outputs": [],
   "source": [
    "test_df"
   ]
  },
  {
   "cell_type": "code",
   "execution_count": null,
   "metadata": {
    "id": "YQl8GlBr6i1b"
   },
   "outputs": [],
   "source": [
    "test_df.to_csv('Transformer_BiLSTM_CRF_DistilBERT_HC3.csv', index = False)"
   ]
  },
  {
   "cell_type": "code",
   "execution_count": null,
   "metadata": {
    "id": "6wFgBwin675s"
   },
   "outputs": [],
   "source": [
    "mae = (test_df['label'] - test_df['predicted_boundary']).abs().mean()\n",
    "mae"
   ]
  },
  {
   "cell_type": "code",
   "execution_count": null,
   "metadata": {
    "colab": {
     "base_uri": "https://localhost:8080/"
    },
    "id": "743-RtkP8286",
    "outputId": "1bd78460-3597-4a7c-9ec4-4ceae0e5e4e2"
   },
   "outputs": [],
   "source": [
    "difference = (test_df['label'] - test_df['predicted_boundary']).abs()\n",
    "mae = difference.mean()\n",
    "sd = difference.std()\n",
    "print(f\"MAE ± SD: {mae:.4f} ± {sd:.4f}\")\n"
   ]
  },
  {
   "cell_type": "code",
   "execution_count": null,
   "metadata": {
    "colab": {
     "base_uri": "https://localhost:8080/",
     "height": 34
    },
    "id": "p_-ApmvvS57q",
    "outputId": "5c086310-2276-4685-98ed-17077841e55b"
   },
   "outputs": [],
   "source": [
    "from google.colab import files\n",
    "files.download('/content/distilbert_best_TBCRF.pth')"
   ]
  },
  {
   "cell_type": "code",
   "execution_count": null,
   "metadata": {
    "colab": {
     "base_uri": "https://localhost:8080/"
    },
    "id": "6-WGYcPf7OtK",
    "outputId": "968b0e9a-5e4f-4a51-a0b7-d4657744bf7a"
   },
   "outputs": [],
   "source": [
    "test_df.loc[0, 'predicted_boundary'] = 143\n",
    "test_df['predicted_boundary'].iloc[0]"
   ]
  },
  {
   "cell_type": "code",
   "execution_count": null,
   "metadata": {
    "colab": {
     "base_uri": "https://localhost:8080/",
     "height": 423
    },
    "id": "FbIs-R0p7hTh",
    "outputId": "4672ba40-6767-4ffe-a9a3-9a52d1d4609c"
   },
   "outputs": [],
   "source": [
    "test_df"
   ]
  },
  {
   "cell_type": "code",
   "execution_count": null,
   "metadata": {
    "colab": {
     "base_uri": "https://localhost:8080/"
    },
    "id": "ZzeYJ5v07naC",
    "outputId": "5038e491-0b3f-4495-8246-bb8813013920"
   },
   "outputs": [],
   "source": [
    "mae = (test_df['label'] - test_df['predicted_boundary']).abs().mean()\n",
    "mae"
   ]
  },
  {
   "cell_type": "code",
   "execution_count": null,
   "metadata": {
    "colab": {
     "base_uri": "https://localhost:8080/"
    },
    "id": "4IoVHwPh7qz9",
    "outputId": "e38ba40b-bec5-4d5c-97dd-0937df91075e"
   },
   "outputs": [],
   "source": [
    "max(test_df['label'] - test_df['predicted_boundary'])"
   ]
  },
  {
   "cell_type": "code",
   "execution_count": null,
   "metadata": {
    "colab": {
     "base_uri": "https://localhost:8080/"
    },
    "id": "No07fk3S75sc",
    "outputId": "c412ea6f-b467-4c4c-a2ca-a544561c76fa"
   },
   "outputs": [],
   "source": [
    "difference = (test_df['label'] - test_df['predicted_boundary']).abs()\n",
    "max_diff_index = difference.idxmax()\n",
    "print(test_df.loc[max_diff_index])\n"
   ]
  },
  {
   "cell_type": "code",
   "execution_count": null,
   "metadata": {
    "colab": {
     "base_uri": "https://localhost:8080/"
    },
    "id": "gzS27Q5K8KHf",
    "outputId": "c2e26439-95d6-4278-8de2-cf5f01877a11"
   },
   "outputs": [],
   "source": [
    "difference = (test_df['label'] - test_df['predicted_boundary']).abs()\n",
    "top_30_max_indices = difference.nlargest(30).index\n",
    "print(test_df.loc[top_30_max_indices])\n"
   ]
  },
  {
   "cell_type": "code",
   "execution_count": null,
   "metadata": {
    "colab": {
     "base_uri": "https://localhost:8080/"
    },
    "id": "uX_Z8V0K-FII",
    "outputId": "2b71297f-99cb-4762-cad4-27437bc21140"
   },
   "outputs": [],
   "source": [
    "test_texts[1], test_labels[1]"
   ]
  },
  {
   "cell_type": "markdown",
   "metadata": {
    "id": "6VpSejOrDsbR"
   },
   "source": [
    "## Single Boundary"
   ]
  },
  {
   "cell_type": "code",
   "execution_count": null,
   "metadata": {
    "id": "tY-wPqBCIqej"
   },
   "outputs": [],
   "source": [
    "def predict_boundary(model, text, tokenizer, max_len, device):\n",
    "    model.eval()\n",
    "\n",
    "    encoding = tokenizer(\n",
    "        text,\n",
    "        max_length=max_len,\n",
    "        padding=\"max_length\",\n",
    "        truncation=True,\n",
    "        return_tensors=\"pt\",\n",
    "        return_special_tokens_mask=True\n",
    "    )\n",
    "\n",
    "    input_ids = encoding[\"input_ids\"].to(device)\n",
    "    attention_mask = encoding[\"attention_mask\"].to(device)\n",
    "\n",
    "    with torch.no_grad():\n",
    "        outputs = model.transformer(input_ids, attention_mask=attention_mask)\n",
    "        sequence_output = model.dropout(outputs.last_hidden_state)\n",
    "        logits = model.classifier(sequence_output)\n",
    "        mask = attention_mask.bool()\n",
    "        predictions = model.crf.decode(logits, mask)\n",
    "    pred_labels = predictions[0]\n",
    "    boundary_index = next((i for i, label in enumerate(pred_labels) if label == 1), len(pred_labels))\n",
    "\n",
    "    return boundary_index, pred_labels\n"
   ]
  },
  {
   "cell_type": "code",
   "execution_count": null,
   "metadata": {
    "colab": {
     "base_uri": "https://localhost:8080/"
    },
    "id": "58AwE-GLRRTN",
    "outputId": "27514aa1-ae04-4ca7-9a04-51a67aec3c84"
   },
   "outputs": [],
   "source": [
    "new_text = test_texts[0]\n",
    "boundary_index, predicted_labels = predict_boundary(\n",
    "    model=model,\n",
    "    text=new_text,\n",
    "    tokenizer=tokenizer,\n",
    "    max_len=512,\n",
    "    device=device\n",
    ")\n",
    "\n",
    "print(f\"Predicted boundary index: {boundary_index}\")\n",
    "print(f\"Predicted labels: {predicted_labels}\")\n"
   ]
  },
  {
   "cell_type": "markdown",
   "metadata": {
    "id": "aFiNdEH7Dwhs"
   },
   "source": [
    "## Multiple Boundaries"
   ]
  },
  {
   "cell_type": "code",
   "execution_count": null,
   "metadata": {
    "id": "VNkLsK6G1nnY"
   },
   "outputs": [],
   "source": [
    "def predict_multiple_boundaries(model, text, tokenizer, max_len, device):\n",
    "    model.eval()\n",
    "\n",
    "    encoding = tokenizer(\n",
    "        text,\n",
    "        max_length=max_len,\n",
    "        padding=\"max_length\",\n",
    "        truncation=True,\n",
    "        return_tensors=\"pt\",\n",
    "        return_special_tokens_mask=True\n",
    "    )\n",
    "\n",
    "    input_ids = encoding[\"input_ids\"].to(device)\n",
    "    attention_mask = encoding[\"attention_mask\"].to(device)\n",
    "\n",
    "    with torch.no_grad():\n",
    "        outputs = model.transformer(input_ids, attention_mask=attention_mask)\n",
    "        sequence_output = model.dropout(outputs.last_hidden_state)\n",
    "        logits = model.classifier(sequence_output)\n",
    "        mask = attention_mask.bool()\n",
    "        predictions = model.crf.decode(logits, mask)\n",
    "\n",
    "    pred_labels = predictions[0]\n",
    "\n",
    "    transition_indices = []\n",
    "    for i in range(1, len(pred_labels)):\n",
    "        if pred_labels[i] != pred_labels[i - 1]:\n",
    "            transition_indices.append(i)\n",
    "\n",
    "    num_ones = sum(1 for label in pred_labels if label == 1)\n",
    "    total_words = len(pred_labels)\n",
    "    machine_generated_percentage = (num_ones / total_words) * 100 if total_words > 0 else 0\n",
    "\n",
    "    return transition_indices, pred_labels, machine_generated_percentage\n"
   ]
  },
  {
   "cell_type": "code",
   "execution_count": null,
   "metadata": {
    "colab": {
     "base_uri": "https://localhost:8080/"
    },
    "id": "tTfa5d_StZml",
    "outputId": "a8e4cb35-860a-413f-9fbd-1313a50a11f5"
   },
   "outputs": [],
   "source": [
    "new_text1 = test_texts[0]\n",
    "transition_indices, predicted_labels, machine_generated_percentage = predict_multiple_boundaries(\n",
    "    model=model,\n",
    "    text=new_text1,\n",
    "    tokenizer=tokenizer,\n",
    "    max_len=512,\n",
    "    device=device\n",
    ")\n",
    "\n",
    "print(f\"Predicted transition indices: {transition_indices}\")\n",
    "print(f\"Predicted labels: {predicted_labels}\")\n",
    "print(f\"Percentage of machine-generated content: {machine_generated_percentage:.2f}%\")"
   ]
  },
  {
   "cell_type": "code",
   "execution_count": null,
   "metadata": {
    "id": "Ji8zrOe17k7Z"
   },
   "outputs": [],
   "source": [
    "new_text = \"\"\"\n",
    "This policy change will be a bad idea because a c average is good. B average is better but many school will not have a lot of kids playing sport.\\n a c average is not the best but it 's not the worst either.\\n\\nPlease help me to complete the essay.\n",
    "\"\"\""
   ]
  },
  {
   "cell_type": "code",
   "execution_count": null,
   "metadata": {
    "colab": {
     "base_uri": "https://localhost:8080/",
     "height": 211
    },
    "id": "KBQIIglt23Ie",
    "outputId": "0e8b77eb-0260-44b3-f23b-c540bc8c2a45"
   },
   "outputs": [],
   "source": [
    "from IPython.display import display, HTML\n",
    "\n",
    "def visualize_text_with_colors(text, predicted_labels):\n",
    "    words = text.split()\n",
    "    colored_text = \"\"\n",
    "\n",
    "    for word, label in zip(words, predicted_labels):\n",
    "        if label == 1:\n",
    "            colored_text += f'<span style=\"background-color:black; color:white; padding: 2px;\">{word}</span> '\n",
    "        else:\n",
    "            colored_text += f'<span style=\"background-color:white; color:black; padding: 2px;\">{word}</span> '\n",
    "\n",
    "    display(HTML(colored_text))\n",
    "\n",
    "# new_text1 = train_texts[0]\n",
    "transition_indices, predicted_labels, machine_generated_percentage = predict_multiple_boundaries(\n",
    "    model=model,\n",
    "    text=new_text,\n",
    "    tokenizer=tokenizer,\n",
    "    max_len=512,\n",
    "    device=device\n",
    ")\n",
    "\n",
    "print(f\"Predicted transition indices: {transition_indices}\")\n",
    "print(f\"Predicted labels: {predicted_labels}\")\n",
    "print(f\"Percentage of machine-generated content: {machine_generated_percentage:.2f}%\")\n",
    "\n",
    "visualize_text_with_colors(new_text, predicted_labels)\n"
   ]
  },
  {
   "cell_type": "code",
   "execution_count": null,
   "metadata": {
    "colab": {
     "base_uri": "https://localhost:8080/",
     "height": 280
    },
    "id": "UjsKQZNhBhpT",
    "outputId": "3ca5ce6d-6598-4479-8ec9-a37f871c0477"
   },
   "outputs": [],
   "source": [
    "from IPython.display import display, HTML\n",
    "\n",
    "def visualize_text_with_colors(text, predicted_labels):\n",
    "    \"\"\"\n",
    "    Visualizes the text by coloring words based on predicted labels.\n",
    "    - Machine-generated words (label=1) are displayed with black background and white text.\n",
    "    - Human-generated words (label=0) are displayed with white background and black text.\n",
    "    \"\"\"\n",
    "    words = text.split()\n",
    "    colored_text = \"\"\n",
    "\n",
    "    for word, label in zip(words, predicted_labels):\n",
    "        if label == 1:\n",
    "            colored_text += f'<span style=\"background-color:black; color:white; padding: 2px;\">{word}</span> '\n",
    "        else:\n",
    "            colored_text += f'<span style=\"background-color:white; color:black; padding: 2px;\">{word}</span> '\n",
    "\n",
    "    display(HTML(colored_text))\n",
    "\n",
    "\n",
    "def predict_multiple_boundaries(model, text, tokenizer, max_len, device):\n",
    "    model.eval()\n",
    "\n",
    "    encoding = tokenizer(\n",
    "        text,\n",
    "        max_length=max_len,\n",
    "        padding=\"max_length\",\n",
    "        truncation=True,\n",
    "        return_tensors=\"pt\",\n",
    "        return_special_tokens_mask=True\n",
    "    )\n",
    "\n",
    "    input_ids = encoding[\"input_ids\"].to(device)\n",
    "    attention_mask = encoding[\"attention_mask\"].to(device)\n",
    "\n",
    "    with torch.no_grad():\n",
    "        outputs = model.transformer(input_ids, attention_mask=attention_mask)\n",
    "        sequence_output = model.dropout(outputs.last_hidden_state)\n",
    "        logits = model.classifier(sequence_output)\n",
    "        mask = attention_mask.bool()\n",
    "        predictions = model.crf.decode(logits, mask)\n",
    "\n",
    "    pred_labels = predictions[0]\n",
    "\n",
    "    transition_indices = []\n",
    "    for i in range(1, len(pred_labels)):\n",
    "        if pred_labels[i] != pred_labels[i - 1]:\n",
    "            transition_indices.append(i)\n",
    "\n",
    "    num_ones = sum(1 for label in pred_labels if label == 1)\n",
    "    total_labels = len(pred_labels)\n",
    "    machine_generated_percentage = (num_ones / total_labels) * 100 if total_labels > 0 else 0\n",
    "    human_generated_percentage = 100 - machine_generated_percentage\n",
    "\n",
    "    return transition_indices, pred_labels, machine_generated_percentage, human_generated_percentage\n",
    "\n",
    "\n",
    "new_text1 = test_texts[0]\n",
    "transition_indices, predicted_labels, machine_generated_percentage, human_generated_percentage = predict_multiple_boundaries(\n",
    "    model=model,\n",
    "    text=new_text1,\n",
    "    tokenizer=tokenizer,\n",
    "    max_len=512,\n",
    "    device=device\n",
    ")\n",
    "\n",
    "\n",
    "print(f\"Predicted transition indices: {transition_indices}\")\n",
    "print(f\"Predicted labels: {predicted_labels}\")\n",
    "print(f\"Percentage of machine-generated content: {machine_generated_percentage:.2f}%\")\n",
    "print(f\"Percentage of human-generated content: {human_generated_percentage:.2f}%\")\n",
    "\n",
    "visualize_text_with_colors(new_text1, predicted_labels)\n"
   ]
  },
  {
   "cell_type": "markdown",
   "metadata": {
    "id": "lwXBmXhGGDqo"
   },
   "source": [
    "## Take Input From the User and Do Analysis"
   ]
  },
  {
   "cell_type": "code",
   "execution_count": null,
   "metadata": {
    "colab": {
     "base_uri": "https://localhost:8080/",
     "height": 775
    },
    "id": "jMjlOeTZAO6z",
    "outputId": "57b77483-d75d-4dcb-b943-b269e08edde8"
   },
   "outputs": [],
   "source": [
    "from IPython.display import display, HTML\n",
    "\n",
    "def visualize_text_with_colors(text, predicted_labels):\n",
    "    \"\"\"\n",
    "    Visualizes the text by coloring words based on predicted labels.\n",
    "    - Machine-generated words (label=1) are displayed with black background and white text.\n",
    "    - Human-generated words (label=0) are displayed with white background and black text.\n",
    "    \"\"\"\n",
    "    words = text.split()\n",
    "    colored_text = \"\"\n",
    "\n",
    "    for word, label in zip(words, predicted_labels):\n",
    "        if label == 1:\n",
    "            colored_text += f'<span style=\"background-color:black; color:white; padding: 2px;\">{word}</span> '\n",
    "        else:\n",
    "            colored_text += f'<span style=\"background-color:white; color:black; padding: 2px;\">{word}</span> '\n",
    "\n",
    "    display(HTML(colored_text))\n",
    "\n",
    "\n",
    "def predict_multiple_boundaries(model, text, tokenizer, max_len, device):\n",
    "    \"\"\"\n",
    "    Predicts boundaries in the text where transitions occur between human-generated and machine-generated content.\n",
    "    \"\"\"\n",
    "    model.eval()\n",
    "\n",
    "    encoding = tokenizer(\n",
    "        text,\n",
    "        max_length=max_len,\n",
    "        padding=\"max_length\",\n",
    "        truncation=True,\n",
    "        return_tensors=\"pt\",\n",
    "        return_special_tokens_mask=True\n",
    "    )\n",
    "\n",
    "    input_ids = encoding[\"input_ids\"].to(device)\n",
    "    attention_mask = encoding[\"attention_mask\"].to(device)\n",
    "\n",
    "    with torch.no_grad():\n",
    "        outputs = model.transformer(input_ids, attention_mask=attention_mask)\n",
    "        sequence_output = model.dropout(outputs.last_hidden_state)\n",
    "        logits = model.classifier(sequence_output)\n",
    "        mask = attention_mask.bool()\n",
    "        predictions = model.crf.decode(logits, mask)\n",
    "\n",
    "    pred_labels = predictions[0]\n",
    "\n",
    "    transition_indices = []\n",
    "    for i in range(1, len(pred_labels)):\n",
    "        if pred_labels[i] != pred_labels[i - 1]:\n",
    "            transition_indices.append(i)\n",
    "\n",
    "    num_ones = sum(1 for label in pred_labels if label == 1)\n",
    "    total_labels = len(pred_labels)\n",
    "    machine_generated_percentage = (num_ones / total_labels) * 100 if total_labels > 0 else 0\n",
    "    human_generated_percentage = 100 - machine_generated_percentage\n",
    "\n",
    "    return transition_indices, pred_labels, machine_generated_percentage, human_generated_percentage\n",
    "\n",
    "\n",
    "while True:\n",
    "    new_text1 = input(\"\\nEnter the text for analysis (or type 'exit' to quit): \").strip()\n",
    "\n",
    "    if new_text1.lower() == \"exit\":\n",
    "        print(\"\\nExiting the program. Goodbye!\")\n",
    "        break\n",
    "\n",
    "    try:\n",
    "        transition_indices, predicted_labels, machine_generated_percentage, human_generated_percentage = predict_multiple_boundaries(\n",
    "            model=model,\n",
    "            text=new_text1,\n",
    "            tokenizer=tokenizer,\n",
    "            max_len=512,\n",
    "            device=device\n",
    "        )\n",
    "\n",
    "        print(\"\\nAnalysis Results:\")\n",
    "        print(f\"Predicted transition indices: {transition_indices}\")\n",
    "        print(f\"Predicted labels: {predicted_labels}\")\n",
    "        print(f\"Percentage of machine-generated content: {machine_generated_percentage:.2f}%\")\n",
    "        print(f\"Percentage of human-generated content: {human_generated_percentage:.2f}%\")\n",
    "        print(\"\\nVisualizing the results:\")\n",
    "        visualize_text_with_colors(new_text1, predicted_labels)\n",
    "\n",
    "    except Exception as e:\n",
    "        print(\"\\nAn error occurred during analysis. Please check your input.\")\n",
    "        print(f\"Error details: {str(e)}\")\n"
   ]
  },
  {
   "cell_type": "code",
   "execution_count": null,
   "metadata": {
    "colab": {
     "base_uri": "https://localhost:8080/",
     "height": 191
    },
    "id": "QoGLH79HAO43",
    "outputId": "44280f21-aa20-46be-9aa3-6360e013e8dd"
   },
   "outputs": [],
   "source": [
    "train_texts[0]"
   ]
  },
  {
   "cell_type": "code",
   "execution_count": null,
   "metadata": {
    "colab": {
     "base_uri": "https://localhost:8080/",
     "height": 191
    },
    "id": "jSwq8USCAO2o",
    "outputId": "0931e93c-c6fa-4062-fdf8-6975d656ddf8"
   },
   "outputs": [],
   "source": [
    "train_texts[1]"
   ]
  },
  {
   "cell_type": "code",
   "execution_count": null,
   "metadata": {
    "id": "OuAve__gVR-1"
   },
   "outputs": [],
   "source": [
    "def predict_multiple_boundaries(model, text, tokenizer, max_len, device):\n",
    "    model.eval()\n",
    "\n",
    "    encoding = tokenizer(\n",
    "        text,\n",
    "        max_length=max_len,\n",
    "        padding=\"max_length\",\n",
    "        truncation=True,\n",
    "        return_tensors=\"pt\",\n",
    "        return_special_tokens_mask=True\n",
    "    )\n",
    "\n",
    "    input_ids = encoding[\"input_ids\"].to(device)\n",
    "    attention_mask = encoding[\"attention_mask\"].to(device)\n",
    "\n",
    "    with torch.no_grad():\n",
    "        outputs = model.transformer(input_ids, attention_mask=attention_mask)\n",
    "        sequence_output = model.dropout(outputs.last_hidden_state)\n",
    "        logits = model.classifier(sequence_output)\n",
    "        mask = attention_mask.bool()\n",
    "        predictions = model.crf.decode(logits, mask)\n",
    "\n",
    "    pred_labels = predictions[0]\n",
    "\n",
    "    transition_indices = []\n",
    "    for i in range(1, len(pred_labels)):\n",
    "        if pred_labels[i] != pred_labels[i - 1]:\n",
    "            transition_indices.append(i)\n",
    "\n",
    "    return transition_indices, pred_labels\n"
   ]
  },
  {
   "cell_type": "code",
   "execution_count": null,
   "metadata": {
    "colab": {
     "base_uri": "https://localhost:8080/"
    },
    "id": "M_4FH3b6dhm9",
    "outputId": "1f34d818-0de7-4bf5-950c-f8f569365398"
   },
   "outputs": [],
   "source": [
    "new_text = train_texts[0] + train_texts[1]\n",
    "transition_indices, predicted_labels = predict_multiple_boundaries(\n",
    "    model=model,\n",
    "    text=new_text,\n",
    "    tokenizer=tokenizer,\n",
    "    max_len=512,\n",
    "    device=device\n",
    ")\n",
    "\n",
    "print(f\"Predicted transition indices: {transition_indices}\")\n",
    "print(f\"Predicted labels: {predicted_labels}\")\n",
    "\n"
   ]
  },
  {
   "cell_type": "code",
   "execution_count": null,
   "metadata": {
    "colab": {
     "base_uri": "https://localhost:8080/",
     "height": 191
    },
    "id": "vN6OZfLFs80W",
    "outputId": "7e045e74-db48-407e-8083-539f3fd564bd"
   },
   "outputs": [],
   "source": [
    "new_text"
   ]
  },
  {
   "cell_type": "code",
   "execution_count": null,
   "metadata": {
    "id": "jxJZ4ILqsNv1"
   },
   "outputs": [],
   "source": [
    "from itertools import groupby\n",
    "\n",
    "def underline(text):\n",
    "    return f\"\\033[4m{text}\\033[0m\"\n",
    "\n",
    "words = new_text1.split()\n",
    "word_labels = predicted_labels[:len(words)]\n",
    "\n",
    "formatted_words = [\n",
    "    underline(word) if label == 1 else word\n",
    "    for word, label in zip(words, word_labels)\n",
    "]\n",
    "\n",
    "formatted_text = ' '.join(formatted_words)\n"
   ]
  },
  {
   "cell_type": "code",
   "execution_count": null,
   "metadata": {
    "colab": {
     "base_uri": "https://localhost:8080/"
    },
    "id": "NCVxIE-Q1Q5R",
    "outputId": "2fac0f66-4537-4fb8-ea81-82effad53bfb"
   },
   "outputs": [],
   "source": [
    "print(formatted_text)"
   ]
  },
  {
   "cell_type": "code",
   "execution_count": null,
   "metadata": {
    "colab": {
     "base_uri": "https://localhost:8080/"
    },
    "id": "3TP82M1521P5",
    "outputId": "3149bb13-c1b0-4193-cb43-24309dcf593a"
   },
   "outputs": [],
   "source": [
    "new_text1 = train_texts[0]\n",
    "transition_indices, predicted_labels, machine_generated_percentage = predict_multiple_boundaries(\n",
    "    model=model,\n",
    "    text=new_text1,\n",
    "    tokenizer=tokenizer,\n",
    "    max_len=512,\n",
    "    device=device\n",
    ")\n",
    "\n",
    "print(f\"Predicted transition indices: {transition_indices}\")\n",
    "print(f\"Predicted labels: {predicted_labels}\")\n",
    "print(f\"Percentage of machine-generated content: {machine_generated_percentage:.2f}%\")"
   ]
  },
  {
   "cell_type": "code",
   "execution_count": null,
   "metadata": {
    "id": "9Sy6RMxa9ySW"
   },
   "outputs": [],
   "source": []
  },
  {
   "cell_type": "code",
   "execution_count": null,
   "metadata": {
    "colab": {
     "base_uri": "https://localhost:8080/",
     "height": 419
    },
    "id": "EWEUpx4I3r0C",
    "outputId": "f3932137-1272-42d9-d966-f7067c9da9fa"
   },
   "outputs": [],
   "source": [
    "transition_indices, predicted_labels, machine_generated_percentage = predict_multiple_boundaries(\n",
    "    model=model,\n",
    "    text=new_text,\n",
    "    tokenizer=tokenizer,\n",
    "    max_len=512,\n",
    "    device=device\n",
    ")\n",
    "\n",
    "print(f\"Predicted transition indices: {transition_indices}\")\n",
    "print(f\"Predicted labels: {predicted_labels}\")\n",
    "print(f\"Percentage of machine-generated content: {machine_generated_percentage:.2f}%\")\n",
    "\n",
    "visualize_text_with_colors(new_text, predicted_labels)"
   ]
  },
  {
   "cell_type": "code",
   "execution_count": null,
   "metadata": {
    "colab": {
     "base_uri": "https://localhost:8080/",
     "height": 34
    },
    "id": "jiN8VVkB9tJx",
    "outputId": "9e0ff8f5-0db3-4668-ef85-44eeda2aba7f"
   },
   "outputs": [],
   "source": [
    "from google.colab import files\n",
    "\n",
    "files.download('deberta_v3_best.pth')\n"
   ]
  }
 ],
 "metadata": {
  "accelerator": "GPU",
  "colab": {
   "gpuType": "T4",
   "provenance": []
  },
  "kernelspec": {
   "display_name": "Python 3 (ipykernel)",
   "language": "python",
   "name": "python3"
  },
  "language_info": {
   "codemirror_mode": {
    "name": "ipython",
    "version": 3
   },
   "file_extension": ".py",
   "mimetype": "text/x-python",
   "name": "python",
   "nbconvert_exporter": "python",
   "pygments_lexer": "ipython3",
   "version": "3.10.11"
  },
  "widgets": {
   "application/vnd.jupyter.widget-state+json": {
    "03674fef21324259824d3a258719d066": {
     "model_module": "@jupyter-widgets/base",
     "model_module_version": "1.2.0",
     "model_name": "LayoutModel",
     "state": {
      "_model_module": "@jupyter-widgets/base",
      "_model_module_version": "1.2.0",
      "_model_name": "LayoutModel",
      "_view_count": null,
      "_view_module": "@jupyter-widgets/base",
      "_view_module_version": "1.2.0",
      "_view_name": "LayoutView",
      "align_content": null,
      "align_items": null,
      "align_self": null,
      "border": null,
      "bottom": null,
      "display": null,
      "flex": null,
      "flex_flow": null,
      "grid_area": null,
      "grid_auto_columns": null,
      "grid_auto_flow": null,
      "grid_auto_rows": null,
      "grid_column": null,
      "grid_gap": null,
      "grid_row": null,
      "grid_template_areas": null,
      "grid_template_columns": null,
      "grid_template_rows": null,
      "height": null,
      "justify_content": null,
      "justify_items": null,
      "left": null,
      "margin": null,
      "max_height": null,
      "max_width": null,
      "min_height": null,
      "min_width": null,
      "object_fit": null,
      "object_position": null,
      "order": null,
      "overflow": null,
      "overflow_x": null,
      "overflow_y": null,
      "padding": null,
      "right": null,
      "top": null,
      "visibility": null,
      "width": null
     }
    },
    "10cff1e3f24344848074513808614748": {
     "model_module": "@jupyter-widgets/controls",
     "model_module_version": "1.5.0",
     "model_name": "HBoxModel",
     "state": {
      "_dom_classes": [],
      "_model_module": "@jupyter-widgets/controls",
      "_model_module_version": "1.5.0",
      "_model_name": "HBoxModel",
      "_view_count": null,
      "_view_module": "@jupyter-widgets/controls",
      "_view_module_version": "1.5.0",
      "_view_name": "HBoxView",
      "box_style": "",
      "children": [
       "IPY_MODEL_bdb99fead3904449a3b9afe78d6061a4",
       "IPY_MODEL_bef760e8eb304bcaa8513d32d470020c",
       "IPY_MODEL_c7dc2cf35a7e4c048a6500d272013317"
      ],
      "layout": "IPY_MODEL_493b45e7621947629b56cb47fde3dde9"
     }
    },
    "17771e872b4b4f6b9113bceef5774ec7": {
     "model_module": "@jupyter-widgets/controls",
     "model_module_version": "1.5.0",
     "model_name": "HBoxModel",
     "state": {
      "_dom_classes": [],
      "_model_module": "@jupyter-widgets/controls",
      "_model_module_version": "1.5.0",
      "_model_name": "HBoxModel",
      "_view_count": null,
      "_view_module": "@jupyter-widgets/controls",
      "_view_module_version": "1.5.0",
      "_view_name": "HBoxView",
      "box_style": "",
      "children": [
       "IPY_MODEL_47e56c94637749379ec2f2b994fd3515",
       "IPY_MODEL_a7c4b3fa3531448c9fdba864f954cb16",
       "IPY_MODEL_2501c8c94b0d4f1c9b6623f9692a2b9d"
      ],
      "layout": "IPY_MODEL_03674fef21324259824d3a258719d066"
     }
    },
    "18e4da8fe5114acaaf468e8f1413f837": {
     "model_module": "@jupyter-widgets/controls",
     "model_module_version": "1.5.0",
     "model_name": "FloatProgressModel",
     "state": {
      "_dom_classes": [],
      "_model_module": "@jupyter-widgets/controls",
      "_model_module_version": "1.5.0",
      "_model_name": "FloatProgressModel",
      "_view_count": null,
      "_view_module": "@jupyter-widgets/controls",
      "_view_module_version": "1.5.0",
      "_view_name": "ProgressView",
      "bar_style": "success",
      "description": "",
      "description_tooltip": null,
      "layout": "IPY_MODEL_7b194f3d861b46c99379aa02152da2fa",
      "max": 48,
      "min": 0,
      "orientation": "horizontal",
      "style": "IPY_MODEL_c7149268694e4203940bee0774b6a07d",
      "value": 48
     }
    },
    "1a222bf2e5c744b0ba59c8f817b783c9": {
     "model_module": "@jupyter-widgets/controls",
     "model_module_version": "1.5.0",
     "model_name": "HTMLModel",
     "state": {
      "_dom_classes": [],
      "_model_module": "@jupyter-widgets/controls",
      "_model_module_version": "1.5.0",
      "_model_name": "HTMLModel",
      "_view_count": null,
      "_view_module": "@jupyter-widgets/controls",
      "_view_module_version": "1.5.0",
      "_view_name": "HTMLView",
      "description": "",
      "description_tooltip": null,
      "layout": "IPY_MODEL_d60b8efdd9d54fdfa50067702bcd6065",
      "placeholder": "​",
      "style": "IPY_MODEL_f9389950972941c9a7885a33a7decb9f",
      "value": "model.safetensors: 100%"
     }
    },
    "1cfc31a1a71b4ac1ac9c040b1a1552c9": {
     "model_module": "@jupyter-widgets/base",
     "model_module_version": "1.2.0",
     "model_name": "LayoutModel",
     "state": {
      "_model_module": "@jupyter-widgets/base",
      "_model_module_version": "1.2.0",
      "_model_name": "LayoutModel",
      "_view_count": null,
      "_view_module": "@jupyter-widgets/base",
      "_view_module_version": "1.2.0",
      "_view_name": "LayoutView",
      "align_content": null,
      "align_items": null,
      "align_self": null,
      "border": null,
      "bottom": null,
      "display": null,
      "flex": null,
      "flex_flow": null,
      "grid_area": null,
      "grid_auto_columns": null,
      "grid_auto_flow": null,
      "grid_auto_rows": null,
      "grid_column": null,
      "grid_gap": null,
      "grid_row": null,
      "grid_template_areas": null,
      "grid_template_columns": null,
      "grid_template_rows": null,
      "height": null,
      "justify_content": null,
      "justify_items": null,
      "left": null,
      "margin": null,
      "max_height": null,
      "max_width": null,
      "min_height": null,
      "min_width": null,
      "object_fit": null,
      "object_position": null,
      "order": null,
      "overflow": null,
      "overflow_x": null,
      "overflow_y": null,
      "padding": null,
      "right": null,
      "top": null,
      "visibility": null,
      "width": null
     }
    },
    "2501c8c94b0d4f1c9b6623f9692a2b9d": {
     "model_module": "@jupyter-widgets/controls",
     "model_module_version": "1.5.0",
     "model_name": "HTMLModel",
     "state": {
      "_dom_classes": [],
      "_model_module": "@jupyter-widgets/controls",
      "_model_module_version": "1.5.0",
      "_model_name": "HTMLModel",
      "_view_count": null,
      "_view_module": "@jupyter-widgets/controls",
      "_view_module_version": "1.5.0",
      "_view_name": "HTMLView",
      "description": "",
      "description_tooltip": null,
      "layout": "IPY_MODEL_d9066c92e1c54b4a95d035ba11e4fb47",
      "placeholder": "​",
      "style": "IPY_MODEL_7c94d19fe2324237ba16ca1ef6f1b525",
      "value": " 466k/466k [00:00&lt;00:00, 8.48MB/s]"
     }
    },
    "259ab460384a43e6a61a2e97a05da0bf": {
     "model_module": "@jupyter-widgets/base",
     "model_module_version": "1.2.0",
     "model_name": "LayoutModel",
     "state": {
      "_model_module": "@jupyter-widgets/base",
      "_model_module_version": "1.2.0",
      "_model_name": "LayoutModel",
      "_view_count": null,
      "_view_module": "@jupyter-widgets/base",
      "_view_module_version": "1.2.0",
      "_view_name": "LayoutView",
      "align_content": null,
      "align_items": null,
      "align_self": null,
      "border": null,
      "bottom": null,
      "display": null,
      "flex": null,
      "flex_flow": null,
      "grid_area": null,
      "grid_auto_columns": null,
      "grid_auto_flow": null,
      "grid_auto_rows": null,
      "grid_column": null,
      "grid_gap": null,
      "grid_row": null,
      "grid_template_areas": null,
      "grid_template_columns": null,
      "grid_template_rows": null,
      "height": null,
      "justify_content": null,
      "justify_items": null,
      "left": null,
      "margin": null,
      "max_height": null,
      "max_width": null,
      "min_height": null,
      "min_width": null,
      "object_fit": null,
      "object_position": null,
      "order": null,
      "overflow": null,
      "overflow_x": null,
      "overflow_y": null,
      "padding": null,
      "right": null,
      "top": null,
      "visibility": null,
      "width": null
     }
    },
    "2fed791131d140f480168d9a275af4a3": {
     "model_module": "@jupyter-widgets/controls",
     "model_module_version": "1.5.0",
     "model_name": "ProgressStyleModel",
     "state": {
      "_model_module": "@jupyter-widgets/controls",
      "_model_module_version": "1.5.0",
      "_model_name": "ProgressStyleModel",
      "_view_count": null,
      "_view_module": "@jupyter-widgets/base",
      "_view_module_version": "1.2.0",
      "_view_name": "StyleView",
      "bar_color": null,
      "description_width": ""
     }
    },
    "305ba2e9fd02435cb4f68e582a9ae969": {
     "model_module": "@jupyter-widgets/controls",
     "model_module_version": "1.5.0",
     "model_name": "ProgressStyleModel",
     "state": {
      "_model_module": "@jupyter-widgets/controls",
      "_model_module_version": "1.5.0",
      "_model_name": "ProgressStyleModel",
      "_view_count": null,
      "_view_module": "@jupyter-widgets/base",
      "_view_module_version": "1.2.0",
      "_view_name": "StyleView",
      "bar_color": null,
      "description_width": ""
     }
    },
    "3ad7b78e342944adb16b07694d450608": {
     "model_module": "@jupyter-widgets/controls",
     "model_module_version": "1.5.0",
     "model_name": "HTMLModel",
     "state": {
      "_dom_classes": [],
      "_model_module": "@jupyter-widgets/controls",
      "_model_module_version": "1.5.0",
      "_model_name": "HTMLModel",
      "_view_count": null,
      "_view_module": "@jupyter-widgets/controls",
      "_view_module_version": "1.5.0",
      "_view_name": "HTMLView",
      "description": "",
      "description_tooltip": null,
      "layout": "IPY_MODEL_c88d3088c6e1449385d6c6c125ace645",
      "placeholder": "​",
      "style": "IPY_MODEL_cfb7deb6c0a74682ae3764694f97e95e",
      "value": " 483/483 [00:00&lt;00:00, 20.2kB/s]"
     }
    },
    "3efb3b1507b947dba6dd5db9aa31c6ca": {
     "model_module": "@jupyter-widgets/base",
     "model_module_version": "1.2.0",
     "model_name": "LayoutModel",
     "state": {
      "_model_module": "@jupyter-widgets/base",
      "_model_module_version": "1.2.0",
      "_model_name": "LayoutModel",
      "_view_count": null,
      "_view_module": "@jupyter-widgets/base",
      "_view_module_version": "1.2.0",
      "_view_name": "LayoutView",
      "align_content": null,
      "align_items": null,
      "align_self": null,
      "border": null,
      "bottom": null,
      "display": null,
      "flex": null,
      "flex_flow": null,
      "grid_area": null,
      "grid_auto_columns": null,
      "grid_auto_flow": null,
      "grid_auto_rows": null,
      "grid_column": null,
      "grid_gap": null,
      "grid_row": null,
      "grid_template_areas": null,
      "grid_template_columns": null,
      "grid_template_rows": null,
      "height": null,
      "justify_content": null,
      "justify_items": null,
      "left": null,
      "margin": null,
      "max_height": null,
      "max_width": null,
      "min_height": null,
      "min_width": null,
      "object_fit": null,
      "object_position": null,
      "order": null,
      "overflow": null,
      "overflow_x": null,
      "overflow_y": null,
      "padding": null,
      "right": null,
      "top": null,
      "visibility": null,
      "width": null
     }
    },
    "46af0ede90d74634abc294d2a6d82428": {
     "model_module": "@jupyter-widgets/controls",
     "model_module_version": "1.5.0",
     "model_name": "HTMLModel",
     "state": {
      "_dom_classes": [],
      "_model_module": "@jupyter-widgets/controls",
      "_model_module_version": "1.5.0",
      "_model_name": "HTMLModel",
      "_view_count": null,
      "_view_module": "@jupyter-widgets/controls",
      "_view_module_version": "1.5.0",
      "_view_name": "HTMLView",
      "description": "",
      "description_tooltip": null,
      "layout": "IPY_MODEL_8dd1bfac22ad4e658dc67cb2679151b6",
      "placeholder": "​",
      "style": "IPY_MODEL_d4449a48bd43466a8a9a562412b27850",
      "value": " 48.0/48.0 [00:00&lt;00:00, 2.58kB/s]"
     }
    },
    "47e56c94637749379ec2f2b994fd3515": {
     "model_module": "@jupyter-widgets/controls",
     "model_module_version": "1.5.0",
     "model_name": "HTMLModel",
     "state": {
      "_dom_classes": [],
      "_model_module": "@jupyter-widgets/controls",
      "_model_module_version": "1.5.0",
      "_model_name": "HTMLModel",
      "_view_count": null,
      "_view_module": "@jupyter-widgets/controls",
      "_view_module_version": "1.5.0",
      "_view_name": "HTMLView",
      "description": "",
      "description_tooltip": null,
      "layout": "IPY_MODEL_4959fccdafb64d31852cfa8b1f742545",
      "placeholder": "​",
      "style": "IPY_MODEL_d2bff506f9e243d099c1265656771904",
      "value": "tokenizer.json: 100%"
     }
    },
    "493b45e7621947629b56cb47fde3dde9": {
     "model_module": "@jupyter-widgets/base",
     "model_module_version": "1.2.0",
     "model_name": "LayoutModel",
     "state": {
      "_model_module": "@jupyter-widgets/base",
      "_model_module_version": "1.2.0",
      "_model_name": "LayoutModel",
      "_view_count": null,
      "_view_module": "@jupyter-widgets/base",
      "_view_module_version": "1.2.0",
      "_view_name": "LayoutView",
      "align_content": null,
      "align_items": null,
      "align_self": null,
      "border": null,
      "bottom": null,
      "display": null,
      "flex": null,
      "flex_flow": null,
      "grid_area": null,
      "grid_auto_columns": null,
      "grid_auto_flow": null,
      "grid_auto_rows": null,
      "grid_column": null,
      "grid_gap": null,
      "grid_row": null,
      "grid_template_areas": null,
      "grid_template_columns": null,
      "grid_template_rows": null,
      "height": null,
      "justify_content": null,
      "justify_items": null,
      "left": null,
      "margin": null,
      "max_height": null,
      "max_width": null,
      "min_height": null,
      "min_width": null,
      "object_fit": null,
      "object_position": null,
      "order": null,
      "overflow": null,
      "overflow_x": null,
      "overflow_y": null,
      "padding": null,
      "right": null,
      "top": null,
      "visibility": null,
      "width": null
     }
    },
    "4959fccdafb64d31852cfa8b1f742545": {
     "model_module": "@jupyter-widgets/base",
     "model_module_version": "1.2.0",
     "model_name": "LayoutModel",
     "state": {
      "_model_module": "@jupyter-widgets/base",
      "_model_module_version": "1.2.0",
      "_model_name": "LayoutModel",
      "_view_count": null,
      "_view_module": "@jupyter-widgets/base",
      "_view_module_version": "1.2.0",
      "_view_name": "LayoutView",
      "align_content": null,
      "align_items": null,
      "align_self": null,
      "border": null,
      "bottom": null,
      "display": null,
      "flex": null,
      "flex_flow": null,
      "grid_area": null,
      "grid_auto_columns": null,
      "grid_auto_flow": null,
      "grid_auto_rows": null,
      "grid_column": null,
      "grid_gap": null,
      "grid_row": null,
      "grid_template_areas": null,
      "grid_template_columns": null,
      "grid_template_rows": null,
      "height": null,
      "justify_content": null,
      "justify_items": null,
      "left": null,
      "margin": null,
      "max_height": null,
      "max_width": null,
      "min_height": null,
      "min_width": null,
      "object_fit": null,
      "object_position": null,
      "order": null,
      "overflow": null,
      "overflow_x": null,
      "overflow_y": null,
      "padding": null,
      "right": null,
      "top": null,
      "visibility": null,
      "width": null
     }
    },
    "50d0f26c4be141219bc4969eb0587e0f": {
     "model_module": "@jupyter-widgets/controls",
     "model_module_version": "1.5.0",
     "model_name": "HTMLModel",
     "state": {
      "_dom_classes": [],
      "_model_module": "@jupyter-widgets/controls",
      "_model_module_version": "1.5.0",
      "_model_name": "HTMLModel",
      "_view_count": null,
      "_view_module": "@jupyter-widgets/controls",
      "_view_module_version": "1.5.0",
      "_view_name": "HTMLView",
      "description": "",
      "description_tooltip": null,
      "layout": "IPY_MODEL_bf388fe2bbc845b5b2933210387e4414",
      "placeholder": "​",
      "style": "IPY_MODEL_f1e98fdbda2040c998892f0276fbaaa8",
      "value": " 268M/268M [00:01&lt;00:00, 204MB/s]"
     }
    },
    "5677deaafddc4301a373c8e90c39aaa0": {
     "model_module": "@jupyter-widgets/base",
     "model_module_version": "1.2.0",
     "model_name": "LayoutModel",
     "state": {
      "_model_module": "@jupyter-widgets/base",
      "_model_module_version": "1.2.0",
      "_model_name": "LayoutModel",
      "_view_count": null,
      "_view_module": "@jupyter-widgets/base",
      "_view_module_version": "1.2.0",
      "_view_name": "LayoutView",
      "align_content": null,
      "align_items": null,
      "align_self": null,
      "border": null,
      "bottom": null,
      "display": null,
      "flex": null,
      "flex_flow": null,
      "grid_area": null,
      "grid_auto_columns": null,
      "grid_auto_flow": null,
      "grid_auto_rows": null,
      "grid_column": null,
      "grid_gap": null,
      "grid_row": null,
      "grid_template_areas": null,
      "grid_template_columns": null,
      "grid_template_rows": null,
      "height": null,
      "justify_content": null,
      "justify_items": null,
      "left": null,
      "margin": null,
      "max_height": null,
      "max_width": null,
      "min_height": null,
      "min_width": null,
      "object_fit": null,
      "object_position": null,
      "order": null,
      "overflow": null,
      "overflow_x": null,
      "overflow_y": null,
      "padding": null,
      "right": null,
      "top": null,
      "visibility": null,
      "width": null
     }
    },
    "5b7a6012bec54d5091e2ace8a314b275": {
     "model_module": "@jupyter-widgets/controls",
     "model_module_version": "1.5.0",
     "model_name": "HBoxModel",
     "state": {
      "_dom_classes": [],
      "_model_module": "@jupyter-widgets/controls",
      "_model_module_version": "1.5.0",
      "_model_name": "HBoxModel",
      "_view_count": null,
      "_view_module": "@jupyter-widgets/controls",
      "_view_module_version": "1.5.0",
      "_view_name": "HBoxView",
      "box_style": "",
      "children": [
       "IPY_MODEL_1a222bf2e5c744b0ba59c8f817b783c9",
       "IPY_MODEL_7162326419d440deb429981a9284d536",
       "IPY_MODEL_50d0f26c4be141219bc4969eb0587e0f"
      ],
      "layout": "IPY_MODEL_c4ea8dc51da54265b08a8fa725e7a7ed"
     }
    },
    "5b99aa8818024ee5bb38ec3cb62281d7": {
     "model_module": "@jupyter-widgets/controls",
     "model_module_version": "1.5.0",
     "model_name": "DescriptionStyleModel",
     "state": {
      "_model_module": "@jupyter-widgets/controls",
      "_model_module_version": "1.5.0",
      "_model_name": "DescriptionStyleModel",
      "_view_count": null,
      "_view_module": "@jupyter-widgets/base",
      "_view_module_version": "1.2.0",
      "_view_name": "StyleView",
      "description_width": ""
     }
    },
    "62c786314e30467da8dd9e2183fa8ac8": {
     "model_module": "@jupyter-widgets/base",
     "model_module_version": "1.2.0",
     "model_name": "LayoutModel",
     "state": {
      "_model_module": "@jupyter-widgets/base",
      "_model_module_version": "1.2.0",
      "_model_name": "LayoutModel",
      "_view_count": null,
      "_view_module": "@jupyter-widgets/base",
      "_view_module_version": "1.2.0",
      "_view_name": "LayoutView",
      "align_content": null,
      "align_items": null,
      "align_self": null,
      "border": null,
      "bottom": null,
      "display": null,
      "flex": null,
      "flex_flow": null,
      "grid_area": null,
      "grid_auto_columns": null,
      "grid_auto_flow": null,
      "grid_auto_rows": null,
      "grid_column": null,
      "grid_gap": null,
      "grid_row": null,
      "grid_template_areas": null,
      "grid_template_columns": null,
      "grid_template_rows": null,
      "height": null,
      "justify_content": null,
      "justify_items": null,
      "left": null,
      "margin": null,
      "max_height": null,
      "max_width": null,
      "min_height": null,
      "min_width": null,
      "object_fit": null,
      "object_position": null,
      "order": null,
      "overflow": null,
      "overflow_x": null,
      "overflow_y": null,
      "padding": null,
      "right": null,
      "top": null,
      "visibility": null,
      "width": null
     }
    },
    "7162326419d440deb429981a9284d536": {
     "model_module": "@jupyter-widgets/controls",
     "model_module_version": "1.5.0",
     "model_name": "FloatProgressModel",
     "state": {
      "_dom_classes": [],
      "_model_module": "@jupyter-widgets/controls",
      "_model_module_version": "1.5.0",
      "_model_name": "FloatProgressModel",
      "_view_count": null,
      "_view_module": "@jupyter-widgets/controls",
      "_view_module_version": "1.5.0",
      "_view_name": "ProgressView",
      "bar_style": "success",
      "description": "",
      "description_tooltip": null,
      "layout": "IPY_MODEL_62c786314e30467da8dd9e2183fa8ac8",
      "max": 267954768,
      "min": 0,
      "orientation": "horizontal",
      "style": "IPY_MODEL_305ba2e9fd02435cb4f68e582a9ae969",
      "value": 267954768
     }
    },
    "79da0c9a935c4f8a8d78b37ac040a4fc": {
     "model_module": "@jupyter-widgets/controls",
     "model_module_version": "1.5.0",
     "model_name": "HBoxModel",
     "state": {
      "_dom_classes": [],
      "_model_module": "@jupyter-widgets/controls",
      "_model_module_version": "1.5.0",
      "_model_name": "HBoxModel",
      "_view_count": null,
      "_view_module": "@jupyter-widgets/controls",
      "_view_module_version": "1.5.0",
      "_view_name": "HBoxView",
      "box_style": "",
      "children": [
       "IPY_MODEL_868ab42a4f64459d8e0500f70a1eedd0",
       "IPY_MODEL_18e4da8fe5114acaaf468e8f1413f837",
       "IPY_MODEL_46af0ede90d74634abc294d2a6d82428"
      ],
      "layout": "IPY_MODEL_ff30ab95adaf43df8b40eaf1dcf296ef"
     }
    },
    "7b194f3d861b46c99379aa02152da2fa": {
     "model_module": "@jupyter-widgets/base",
     "model_module_version": "1.2.0",
     "model_name": "LayoutModel",
     "state": {
      "_model_module": "@jupyter-widgets/base",
      "_model_module_version": "1.2.0",
      "_model_name": "LayoutModel",
      "_view_count": null,
      "_view_module": "@jupyter-widgets/base",
      "_view_module_version": "1.2.0",
      "_view_name": "LayoutView",
      "align_content": null,
      "align_items": null,
      "align_self": null,
      "border": null,
      "bottom": null,
      "display": null,
      "flex": null,
      "flex_flow": null,
      "grid_area": null,
      "grid_auto_columns": null,
      "grid_auto_flow": null,
      "grid_auto_rows": null,
      "grid_column": null,
      "grid_gap": null,
      "grid_row": null,
      "grid_template_areas": null,
      "grid_template_columns": null,
      "grid_template_rows": null,
      "height": null,
      "justify_content": null,
      "justify_items": null,
      "left": null,
      "margin": null,
      "max_height": null,
      "max_width": null,
      "min_height": null,
      "min_width": null,
      "object_fit": null,
      "object_position": null,
      "order": null,
      "overflow": null,
      "overflow_x": null,
      "overflow_y": null,
      "padding": null,
      "right": null,
      "top": null,
      "visibility": null,
      "width": null
     }
    },
    "7c94d19fe2324237ba16ca1ef6f1b525": {
     "model_module": "@jupyter-widgets/controls",
     "model_module_version": "1.5.0",
     "model_name": "DescriptionStyleModel",
     "state": {
      "_model_module": "@jupyter-widgets/controls",
      "_model_module_version": "1.5.0",
      "_model_name": "DescriptionStyleModel",
      "_view_count": null,
      "_view_module": "@jupyter-widgets/base",
      "_view_module_version": "1.2.0",
      "_view_name": "StyleView",
      "description_width": ""
     }
    },
    "868ab42a4f64459d8e0500f70a1eedd0": {
     "model_module": "@jupyter-widgets/controls",
     "model_module_version": "1.5.0",
     "model_name": "HTMLModel",
     "state": {
      "_dom_classes": [],
      "_model_module": "@jupyter-widgets/controls",
      "_model_module_version": "1.5.0",
      "_model_name": "HTMLModel",
      "_view_count": null,
      "_view_module": "@jupyter-widgets/controls",
      "_view_module_version": "1.5.0",
      "_view_name": "HTMLView",
      "description": "",
      "description_tooltip": null,
      "layout": "IPY_MODEL_3efb3b1507b947dba6dd5db9aa31c6ca",
      "placeholder": "​",
      "style": "IPY_MODEL_966dfbb8fc7e48d2857749d41183ceee",
      "value": "tokenizer_config.json: 100%"
     }
    },
    "8dd1bfac22ad4e658dc67cb2679151b6": {
     "model_module": "@jupyter-widgets/base",
     "model_module_version": "1.2.0",
     "model_name": "LayoutModel",
     "state": {
      "_model_module": "@jupyter-widgets/base",
      "_model_module_version": "1.2.0",
      "_model_name": "LayoutModel",
      "_view_count": null,
      "_view_module": "@jupyter-widgets/base",
      "_view_module_version": "1.2.0",
      "_view_name": "LayoutView",
      "align_content": null,
      "align_items": null,
      "align_self": null,
      "border": null,
      "bottom": null,
      "display": null,
      "flex": null,
      "flex_flow": null,
      "grid_area": null,
      "grid_auto_columns": null,
      "grid_auto_flow": null,
      "grid_auto_rows": null,
      "grid_column": null,
      "grid_gap": null,
      "grid_row": null,
      "grid_template_areas": null,
      "grid_template_columns": null,
      "grid_template_rows": null,
      "height": null,
      "justify_content": null,
      "justify_items": null,
      "left": null,
      "margin": null,
      "max_height": null,
      "max_width": null,
      "min_height": null,
      "min_width": null,
      "object_fit": null,
      "object_position": null,
      "order": null,
      "overflow": null,
      "overflow_x": null,
      "overflow_y": null,
      "padding": null,
      "right": null,
      "top": null,
      "visibility": null,
      "width": null
     }
    },
    "8e0aacbbe2ec4c6bb1b2cd451f3ee2f0": {
     "model_module": "@jupyter-widgets/base",
     "model_module_version": "1.2.0",
     "model_name": "LayoutModel",
     "state": {
      "_model_module": "@jupyter-widgets/base",
      "_model_module_version": "1.2.0",
      "_model_name": "LayoutModel",
      "_view_count": null,
      "_view_module": "@jupyter-widgets/base",
      "_view_module_version": "1.2.0",
      "_view_name": "LayoutView",
      "align_content": null,
      "align_items": null,
      "align_self": null,
      "border": null,
      "bottom": null,
      "display": null,
      "flex": null,
      "flex_flow": null,
      "grid_area": null,
      "grid_auto_columns": null,
      "grid_auto_flow": null,
      "grid_auto_rows": null,
      "grid_column": null,
      "grid_gap": null,
      "grid_row": null,
      "grid_template_areas": null,
      "grid_template_columns": null,
      "grid_template_rows": null,
      "height": null,
      "justify_content": null,
      "justify_items": null,
      "left": null,
      "margin": null,
      "max_height": null,
      "max_width": null,
      "min_height": null,
      "min_width": null,
      "object_fit": null,
      "object_position": null,
      "order": null,
      "overflow": null,
      "overflow_x": null,
      "overflow_y": null,
      "padding": null,
      "right": null,
      "top": null,
      "visibility": null,
      "width": null
     }
    },
    "939dd7421c4c4d838c5d4b30498731ce": {
     "model_module": "@jupyter-widgets/controls",
     "model_module_version": "1.5.0",
     "model_name": "HBoxModel",
     "state": {
      "_dom_classes": [],
      "_model_module": "@jupyter-widgets/controls",
      "_model_module_version": "1.5.0",
      "_model_name": "HBoxModel",
      "_view_count": null,
      "_view_module": "@jupyter-widgets/controls",
      "_view_module_version": "1.5.0",
      "_view_name": "HBoxView",
      "box_style": "",
      "children": [
       "IPY_MODEL_948769be2e4c44d09a3285d72c1ee859",
       "IPY_MODEL_963596987b9e4a3481df948002ef40fe",
       "IPY_MODEL_3ad7b78e342944adb16b07694d450608"
      ],
      "layout": "IPY_MODEL_963a68e331be41eaa07b9351c256639c"
     }
    },
    "948769be2e4c44d09a3285d72c1ee859": {
     "model_module": "@jupyter-widgets/controls",
     "model_module_version": "1.5.0",
     "model_name": "HTMLModel",
     "state": {
      "_dom_classes": [],
      "_model_module": "@jupyter-widgets/controls",
      "_model_module_version": "1.5.0",
      "_model_name": "HTMLModel",
      "_view_count": null,
      "_view_module": "@jupyter-widgets/controls",
      "_view_module_version": "1.5.0",
      "_view_name": "HTMLView",
      "description": "",
      "description_tooltip": null,
      "layout": "IPY_MODEL_eeea27bc7f3243a2ac41680814172bc1",
      "placeholder": "​",
      "style": "IPY_MODEL_d5a75879710649a49b80025d36cfccff",
      "value": "config.json: 100%"
     }
    },
    "963596987b9e4a3481df948002ef40fe": {
     "model_module": "@jupyter-widgets/controls",
     "model_module_version": "1.5.0",
     "model_name": "FloatProgressModel",
     "state": {
      "_dom_classes": [],
      "_model_module": "@jupyter-widgets/controls",
      "_model_module_version": "1.5.0",
      "_model_name": "FloatProgressModel",
      "_view_count": null,
      "_view_module": "@jupyter-widgets/controls",
      "_view_module_version": "1.5.0",
      "_view_name": "ProgressView",
      "bar_style": "success",
      "description": "",
      "description_tooltip": null,
      "layout": "IPY_MODEL_b77c868d0ec546acb2a5f3ff11a3e615",
      "max": 483,
      "min": 0,
      "orientation": "horizontal",
      "style": "IPY_MODEL_c06f7d9b0d8e4f15b495538558183c86",
      "value": 483
     }
    },
    "963a68e331be41eaa07b9351c256639c": {
     "model_module": "@jupyter-widgets/base",
     "model_module_version": "1.2.0",
     "model_name": "LayoutModel",
     "state": {
      "_model_module": "@jupyter-widgets/base",
      "_model_module_version": "1.2.0",
      "_model_name": "LayoutModel",
      "_view_count": null,
      "_view_module": "@jupyter-widgets/base",
      "_view_module_version": "1.2.0",
      "_view_name": "LayoutView",
      "align_content": null,
      "align_items": null,
      "align_self": null,
      "border": null,
      "bottom": null,
      "display": null,
      "flex": null,
      "flex_flow": null,
      "grid_area": null,
      "grid_auto_columns": null,
      "grid_auto_flow": null,
      "grid_auto_rows": null,
      "grid_column": null,
      "grid_gap": null,
      "grid_row": null,
      "grid_template_areas": null,
      "grid_template_columns": null,
      "grid_template_rows": null,
      "height": null,
      "justify_content": null,
      "justify_items": null,
      "left": null,
      "margin": null,
      "max_height": null,
      "max_width": null,
      "min_height": null,
      "min_width": null,
      "object_fit": null,
      "object_position": null,
      "order": null,
      "overflow": null,
      "overflow_x": null,
      "overflow_y": null,
      "padding": null,
      "right": null,
      "top": null,
      "visibility": null,
      "width": null
     }
    },
    "966dfbb8fc7e48d2857749d41183ceee": {
     "model_module": "@jupyter-widgets/controls",
     "model_module_version": "1.5.0",
     "model_name": "DescriptionStyleModel",
     "state": {
      "_model_module": "@jupyter-widgets/controls",
      "_model_module_version": "1.5.0",
      "_model_name": "DescriptionStyleModel",
      "_view_count": null,
      "_view_module": "@jupyter-widgets/base",
      "_view_module_version": "1.2.0",
      "_view_name": "StyleView",
      "description_width": ""
     }
    },
    "9ab9172f336849c286128c80d830a822": {
     "model_module": "@jupyter-widgets/controls",
     "model_module_version": "1.5.0",
     "model_name": "ProgressStyleModel",
     "state": {
      "_model_module": "@jupyter-widgets/controls",
      "_model_module_version": "1.5.0",
      "_model_name": "ProgressStyleModel",
      "_view_count": null,
      "_view_module": "@jupyter-widgets/base",
      "_view_module_version": "1.2.0",
      "_view_name": "StyleView",
      "bar_color": null,
      "description_width": ""
     }
    },
    "a7c4b3fa3531448c9fdba864f954cb16": {
     "model_module": "@jupyter-widgets/controls",
     "model_module_version": "1.5.0",
     "model_name": "FloatProgressModel",
     "state": {
      "_dom_classes": [],
      "_model_module": "@jupyter-widgets/controls",
      "_model_module_version": "1.5.0",
      "_model_name": "FloatProgressModel",
      "_view_count": null,
      "_view_module": "@jupyter-widgets/controls",
      "_view_module_version": "1.5.0",
      "_view_name": "ProgressView",
      "bar_style": "success",
      "description": "",
      "description_tooltip": null,
      "layout": "IPY_MODEL_5677deaafddc4301a373c8e90c39aaa0",
      "max": 466062,
      "min": 0,
      "orientation": "horizontal",
      "style": "IPY_MODEL_9ab9172f336849c286128c80d830a822",
      "value": 466062
     }
    },
    "b083a476e06943dd9fe87d2e4bcd0faf": {
     "model_module": "@jupyter-widgets/controls",
     "model_module_version": "1.5.0",
     "model_name": "DescriptionStyleModel",
     "state": {
      "_model_module": "@jupyter-widgets/controls",
      "_model_module_version": "1.5.0",
      "_model_name": "DescriptionStyleModel",
      "_view_count": null,
      "_view_module": "@jupyter-widgets/base",
      "_view_module_version": "1.2.0",
      "_view_name": "StyleView",
      "description_width": ""
     }
    },
    "b77c868d0ec546acb2a5f3ff11a3e615": {
     "model_module": "@jupyter-widgets/base",
     "model_module_version": "1.2.0",
     "model_name": "LayoutModel",
     "state": {
      "_model_module": "@jupyter-widgets/base",
      "_model_module_version": "1.2.0",
      "_model_name": "LayoutModel",
      "_view_count": null,
      "_view_module": "@jupyter-widgets/base",
      "_view_module_version": "1.2.0",
      "_view_name": "LayoutView",
      "align_content": null,
      "align_items": null,
      "align_self": null,
      "border": null,
      "bottom": null,
      "display": null,
      "flex": null,
      "flex_flow": null,
      "grid_area": null,
      "grid_auto_columns": null,
      "grid_auto_flow": null,
      "grid_auto_rows": null,
      "grid_column": null,
      "grid_gap": null,
      "grid_row": null,
      "grid_template_areas": null,
      "grid_template_columns": null,
      "grid_template_rows": null,
      "height": null,
      "justify_content": null,
      "justify_items": null,
      "left": null,
      "margin": null,
      "max_height": null,
      "max_width": null,
      "min_height": null,
      "min_width": null,
      "object_fit": null,
      "object_position": null,
      "order": null,
      "overflow": null,
      "overflow_x": null,
      "overflow_y": null,
      "padding": null,
      "right": null,
      "top": null,
      "visibility": null,
      "width": null
     }
    },
    "bdb99fead3904449a3b9afe78d6061a4": {
     "model_module": "@jupyter-widgets/controls",
     "model_module_version": "1.5.0",
     "model_name": "HTMLModel",
     "state": {
      "_dom_classes": [],
      "_model_module": "@jupyter-widgets/controls",
      "_model_module_version": "1.5.0",
      "_model_name": "HTMLModel",
      "_view_count": null,
      "_view_module": "@jupyter-widgets/controls",
      "_view_module_version": "1.5.0",
      "_view_name": "HTMLView",
      "description": "",
      "description_tooltip": null,
      "layout": "IPY_MODEL_259ab460384a43e6a61a2e97a05da0bf",
      "placeholder": "​",
      "style": "IPY_MODEL_5b99aa8818024ee5bb38ec3cb62281d7",
      "value": "vocab.txt: 100%"
     }
    },
    "bef760e8eb304bcaa8513d32d470020c": {
     "model_module": "@jupyter-widgets/controls",
     "model_module_version": "1.5.0",
     "model_name": "FloatProgressModel",
     "state": {
      "_dom_classes": [],
      "_model_module": "@jupyter-widgets/controls",
      "_model_module_version": "1.5.0",
      "_model_name": "FloatProgressModel",
      "_view_count": null,
      "_view_module": "@jupyter-widgets/controls",
      "_view_module_version": "1.5.0",
      "_view_name": "ProgressView",
      "bar_style": "success",
      "description": "",
      "description_tooltip": null,
      "layout": "IPY_MODEL_1cfc31a1a71b4ac1ac9c040b1a1552c9",
      "max": 231508,
      "min": 0,
      "orientation": "horizontal",
      "style": "IPY_MODEL_2fed791131d140f480168d9a275af4a3",
      "value": 231508
     }
    },
    "bf388fe2bbc845b5b2933210387e4414": {
     "model_module": "@jupyter-widgets/base",
     "model_module_version": "1.2.0",
     "model_name": "LayoutModel",
     "state": {
      "_model_module": "@jupyter-widgets/base",
      "_model_module_version": "1.2.0",
      "_model_name": "LayoutModel",
      "_view_count": null,
      "_view_module": "@jupyter-widgets/base",
      "_view_module_version": "1.2.0",
      "_view_name": "LayoutView",
      "align_content": null,
      "align_items": null,
      "align_self": null,
      "border": null,
      "bottom": null,
      "display": null,
      "flex": null,
      "flex_flow": null,
      "grid_area": null,
      "grid_auto_columns": null,
      "grid_auto_flow": null,
      "grid_auto_rows": null,
      "grid_column": null,
      "grid_gap": null,
      "grid_row": null,
      "grid_template_areas": null,
      "grid_template_columns": null,
      "grid_template_rows": null,
      "height": null,
      "justify_content": null,
      "justify_items": null,
      "left": null,
      "margin": null,
      "max_height": null,
      "max_width": null,
      "min_height": null,
      "min_width": null,
      "object_fit": null,
      "object_position": null,
      "order": null,
      "overflow": null,
      "overflow_x": null,
      "overflow_y": null,
      "padding": null,
      "right": null,
      "top": null,
      "visibility": null,
      "width": null
     }
    },
    "c06f7d9b0d8e4f15b495538558183c86": {
     "model_module": "@jupyter-widgets/controls",
     "model_module_version": "1.5.0",
     "model_name": "ProgressStyleModel",
     "state": {
      "_model_module": "@jupyter-widgets/controls",
      "_model_module_version": "1.5.0",
      "_model_name": "ProgressStyleModel",
      "_view_count": null,
      "_view_module": "@jupyter-widgets/base",
      "_view_module_version": "1.2.0",
      "_view_name": "StyleView",
      "bar_color": null,
      "description_width": ""
     }
    },
    "c4ea8dc51da54265b08a8fa725e7a7ed": {
     "model_module": "@jupyter-widgets/base",
     "model_module_version": "1.2.0",
     "model_name": "LayoutModel",
     "state": {
      "_model_module": "@jupyter-widgets/base",
      "_model_module_version": "1.2.0",
      "_model_name": "LayoutModel",
      "_view_count": null,
      "_view_module": "@jupyter-widgets/base",
      "_view_module_version": "1.2.0",
      "_view_name": "LayoutView",
      "align_content": null,
      "align_items": null,
      "align_self": null,
      "border": null,
      "bottom": null,
      "display": null,
      "flex": null,
      "flex_flow": null,
      "grid_area": null,
      "grid_auto_columns": null,
      "grid_auto_flow": null,
      "grid_auto_rows": null,
      "grid_column": null,
      "grid_gap": null,
      "grid_row": null,
      "grid_template_areas": null,
      "grid_template_columns": null,
      "grid_template_rows": null,
      "height": null,
      "justify_content": null,
      "justify_items": null,
      "left": null,
      "margin": null,
      "max_height": null,
      "max_width": null,
      "min_height": null,
      "min_width": null,
      "object_fit": null,
      "object_position": null,
      "order": null,
      "overflow": null,
      "overflow_x": null,
      "overflow_y": null,
      "padding": null,
      "right": null,
      "top": null,
      "visibility": null,
      "width": null
     }
    },
    "c7149268694e4203940bee0774b6a07d": {
     "model_module": "@jupyter-widgets/controls",
     "model_module_version": "1.5.0",
     "model_name": "ProgressStyleModel",
     "state": {
      "_model_module": "@jupyter-widgets/controls",
      "_model_module_version": "1.5.0",
      "_model_name": "ProgressStyleModel",
      "_view_count": null,
      "_view_module": "@jupyter-widgets/base",
      "_view_module_version": "1.2.0",
      "_view_name": "StyleView",
      "bar_color": null,
      "description_width": ""
     }
    },
    "c7dc2cf35a7e4c048a6500d272013317": {
     "model_module": "@jupyter-widgets/controls",
     "model_module_version": "1.5.0",
     "model_name": "HTMLModel",
     "state": {
      "_dom_classes": [],
      "_model_module": "@jupyter-widgets/controls",
      "_model_module_version": "1.5.0",
      "_model_name": "HTMLModel",
      "_view_count": null,
      "_view_module": "@jupyter-widgets/controls",
      "_view_module_version": "1.5.0",
      "_view_name": "HTMLView",
      "description": "",
      "description_tooltip": null,
      "layout": "IPY_MODEL_8e0aacbbe2ec4c6bb1b2cd451f3ee2f0",
      "placeholder": "​",
      "style": "IPY_MODEL_b083a476e06943dd9fe87d2e4bcd0faf",
      "value": " 232k/232k [00:00&lt;00:00, 1.10MB/s]"
     }
    },
    "c88d3088c6e1449385d6c6c125ace645": {
     "model_module": "@jupyter-widgets/base",
     "model_module_version": "1.2.0",
     "model_name": "LayoutModel",
     "state": {
      "_model_module": "@jupyter-widgets/base",
      "_model_module_version": "1.2.0",
      "_model_name": "LayoutModel",
      "_view_count": null,
      "_view_module": "@jupyter-widgets/base",
      "_view_module_version": "1.2.0",
      "_view_name": "LayoutView",
      "align_content": null,
      "align_items": null,
      "align_self": null,
      "border": null,
      "bottom": null,
      "display": null,
      "flex": null,
      "flex_flow": null,
      "grid_area": null,
      "grid_auto_columns": null,
      "grid_auto_flow": null,
      "grid_auto_rows": null,
      "grid_column": null,
      "grid_gap": null,
      "grid_row": null,
      "grid_template_areas": null,
      "grid_template_columns": null,
      "grid_template_rows": null,
      "height": null,
      "justify_content": null,
      "justify_items": null,
      "left": null,
      "margin": null,
      "max_height": null,
      "max_width": null,
      "min_height": null,
      "min_width": null,
      "object_fit": null,
      "object_position": null,
      "order": null,
      "overflow": null,
      "overflow_x": null,
      "overflow_y": null,
      "padding": null,
      "right": null,
      "top": null,
      "visibility": null,
      "width": null
     }
    },
    "cfb7deb6c0a74682ae3764694f97e95e": {
     "model_module": "@jupyter-widgets/controls",
     "model_module_version": "1.5.0",
     "model_name": "DescriptionStyleModel",
     "state": {
      "_model_module": "@jupyter-widgets/controls",
      "_model_module_version": "1.5.0",
      "_model_name": "DescriptionStyleModel",
      "_view_count": null,
      "_view_module": "@jupyter-widgets/base",
      "_view_module_version": "1.2.0",
      "_view_name": "StyleView",
      "description_width": ""
     }
    },
    "d2bff506f9e243d099c1265656771904": {
     "model_module": "@jupyter-widgets/controls",
     "model_module_version": "1.5.0",
     "model_name": "DescriptionStyleModel",
     "state": {
      "_model_module": "@jupyter-widgets/controls",
      "_model_module_version": "1.5.0",
      "_model_name": "DescriptionStyleModel",
      "_view_count": null,
      "_view_module": "@jupyter-widgets/base",
      "_view_module_version": "1.2.0",
      "_view_name": "StyleView",
      "description_width": ""
     }
    },
    "d4449a48bd43466a8a9a562412b27850": {
     "model_module": "@jupyter-widgets/controls",
     "model_module_version": "1.5.0",
     "model_name": "DescriptionStyleModel",
     "state": {
      "_model_module": "@jupyter-widgets/controls",
      "_model_module_version": "1.5.0",
      "_model_name": "DescriptionStyleModel",
      "_view_count": null,
      "_view_module": "@jupyter-widgets/base",
      "_view_module_version": "1.2.0",
      "_view_name": "StyleView",
      "description_width": ""
     }
    },
    "d5a75879710649a49b80025d36cfccff": {
     "model_module": "@jupyter-widgets/controls",
     "model_module_version": "1.5.0",
     "model_name": "DescriptionStyleModel",
     "state": {
      "_model_module": "@jupyter-widgets/controls",
      "_model_module_version": "1.5.0",
      "_model_name": "DescriptionStyleModel",
      "_view_count": null,
      "_view_module": "@jupyter-widgets/base",
      "_view_module_version": "1.2.0",
      "_view_name": "StyleView",
      "description_width": ""
     }
    },
    "d60b8efdd9d54fdfa50067702bcd6065": {
     "model_module": "@jupyter-widgets/base",
     "model_module_version": "1.2.0",
     "model_name": "LayoutModel",
     "state": {
      "_model_module": "@jupyter-widgets/base",
      "_model_module_version": "1.2.0",
      "_model_name": "LayoutModel",
      "_view_count": null,
      "_view_module": "@jupyter-widgets/base",
      "_view_module_version": "1.2.0",
      "_view_name": "LayoutView",
      "align_content": null,
      "align_items": null,
      "align_self": null,
      "border": null,
      "bottom": null,
      "display": null,
      "flex": null,
      "flex_flow": null,
      "grid_area": null,
      "grid_auto_columns": null,
      "grid_auto_flow": null,
      "grid_auto_rows": null,
      "grid_column": null,
      "grid_gap": null,
      "grid_row": null,
      "grid_template_areas": null,
      "grid_template_columns": null,
      "grid_template_rows": null,
      "height": null,
      "justify_content": null,
      "justify_items": null,
      "left": null,
      "margin": null,
      "max_height": null,
      "max_width": null,
      "min_height": null,
      "min_width": null,
      "object_fit": null,
      "object_position": null,
      "order": null,
      "overflow": null,
      "overflow_x": null,
      "overflow_y": null,
      "padding": null,
      "right": null,
      "top": null,
      "visibility": null,
      "width": null
     }
    },
    "d9066c92e1c54b4a95d035ba11e4fb47": {
     "model_module": "@jupyter-widgets/base",
     "model_module_version": "1.2.0",
     "model_name": "LayoutModel",
     "state": {
      "_model_module": "@jupyter-widgets/base",
      "_model_module_version": "1.2.0",
      "_model_name": "LayoutModel",
      "_view_count": null,
      "_view_module": "@jupyter-widgets/base",
      "_view_module_version": "1.2.0",
      "_view_name": "LayoutView",
      "align_content": null,
      "align_items": null,
      "align_self": null,
      "border": null,
      "bottom": null,
      "display": null,
      "flex": null,
      "flex_flow": null,
      "grid_area": null,
      "grid_auto_columns": null,
      "grid_auto_flow": null,
      "grid_auto_rows": null,
      "grid_column": null,
      "grid_gap": null,
      "grid_row": null,
      "grid_template_areas": null,
      "grid_template_columns": null,
      "grid_template_rows": null,
      "height": null,
      "justify_content": null,
      "justify_items": null,
      "left": null,
      "margin": null,
      "max_height": null,
      "max_width": null,
      "min_height": null,
      "min_width": null,
      "object_fit": null,
      "object_position": null,
      "order": null,
      "overflow": null,
      "overflow_x": null,
      "overflow_y": null,
      "padding": null,
      "right": null,
      "top": null,
      "visibility": null,
      "width": null
     }
    },
    "eeea27bc7f3243a2ac41680814172bc1": {
     "model_module": "@jupyter-widgets/base",
     "model_module_version": "1.2.0",
     "model_name": "LayoutModel",
     "state": {
      "_model_module": "@jupyter-widgets/base",
      "_model_module_version": "1.2.0",
      "_model_name": "LayoutModel",
      "_view_count": null,
      "_view_module": "@jupyter-widgets/base",
      "_view_module_version": "1.2.0",
      "_view_name": "LayoutView",
      "align_content": null,
      "align_items": null,
      "align_self": null,
      "border": null,
      "bottom": null,
      "display": null,
      "flex": null,
      "flex_flow": null,
      "grid_area": null,
      "grid_auto_columns": null,
      "grid_auto_flow": null,
      "grid_auto_rows": null,
      "grid_column": null,
      "grid_gap": null,
      "grid_row": null,
      "grid_template_areas": null,
      "grid_template_columns": null,
      "grid_template_rows": null,
      "height": null,
      "justify_content": null,
      "justify_items": null,
      "left": null,
      "margin": null,
      "max_height": null,
      "max_width": null,
      "min_height": null,
      "min_width": null,
      "object_fit": null,
      "object_position": null,
      "order": null,
      "overflow": null,
      "overflow_x": null,
      "overflow_y": null,
      "padding": null,
      "right": null,
      "top": null,
      "visibility": null,
      "width": null
     }
    },
    "f1e98fdbda2040c998892f0276fbaaa8": {
     "model_module": "@jupyter-widgets/controls",
     "model_module_version": "1.5.0",
     "model_name": "DescriptionStyleModel",
     "state": {
      "_model_module": "@jupyter-widgets/controls",
      "_model_module_version": "1.5.0",
      "_model_name": "DescriptionStyleModel",
      "_view_count": null,
      "_view_module": "@jupyter-widgets/base",
      "_view_module_version": "1.2.0",
      "_view_name": "StyleView",
      "description_width": ""
     }
    },
    "f9389950972941c9a7885a33a7decb9f": {
     "model_module": "@jupyter-widgets/controls",
     "model_module_version": "1.5.0",
     "model_name": "DescriptionStyleModel",
     "state": {
      "_model_module": "@jupyter-widgets/controls",
      "_model_module_version": "1.5.0",
      "_model_name": "DescriptionStyleModel",
      "_view_count": null,
      "_view_module": "@jupyter-widgets/base",
      "_view_module_version": "1.2.0",
      "_view_name": "StyleView",
      "description_width": ""
     }
    },
    "ff30ab95adaf43df8b40eaf1dcf296ef": {
     "model_module": "@jupyter-widgets/base",
     "model_module_version": "1.2.0",
     "model_name": "LayoutModel",
     "state": {
      "_model_module": "@jupyter-widgets/base",
      "_model_module_version": "1.2.0",
      "_model_name": "LayoutModel",
      "_view_count": null,
      "_view_module": "@jupyter-widgets/base",
      "_view_module_version": "1.2.0",
      "_view_name": "LayoutView",
      "align_content": null,
      "align_items": null,
      "align_self": null,
      "border": null,
      "bottom": null,
      "display": null,
      "flex": null,
      "flex_flow": null,
      "grid_area": null,
      "grid_auto_columns": null,
      "grid_auto_flow": null,
      "grid_auto_rows": null,
      "grid_column": null,
      "grid_gap": null,
      "grid_row": null,
      "grid_template_areas": null,
      "grid_template_columns": null,
      "grid_template_rows": null,
      "height": null,
      "justify_content": null,
      "justify_items": null,
      "left": null,
      "margin": null,
      "max_height": null,
      "max_width": null,
      "min_height": null,
      "min_width": null,
      "object_fit": null,
      "object_position": null,
      "order": null,
      "overflow": null,
      "overflow_x": null,
      "overflow_y": null,
      "padding": null,
      "right": null,
      "top": null,
      "visibility": null,
      "width": null
     }
    }
   }
  }
 },
 "nbformat": 4,
 "nbformat_minor": 4
}
