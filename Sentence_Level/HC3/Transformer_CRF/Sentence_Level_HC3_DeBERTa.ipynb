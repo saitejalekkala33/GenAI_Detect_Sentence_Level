{
 "cells": [
  {
   "cell_type": "markdown",
   "metadata": {
    "id": "Bqo2Py9CC1Qi"
   },
   "source": [
    "## Torch CRF install"
   ]
  },
  {
   "cell_type": "code",
   "execution_count": null,
   "metadata": {
    "colab": {
     "base_uri": "https://localhost:8080/"
    },
    "id": "z2B5Ln8_t8pg",
    "outputId": "c05ca89c-d06b-4793-9d37-3dd6198ca110"
   },
   "outputs": [],
   "source": [
    "!pip install pytorch-crf"
   ]
  },
  {
   "cell_type": "code",
   "execution_count": null,
   "metadata": {
    "colab": {
     "base_uri": "https://localhost:8080/"
    },
    "id": "jP6xVlDkuIuk",
    "outputId": "c6ff9865-3a9b-4110-c2ae-2d2e97b62065"
   },
   "outputs": [],
   "source": [
    "from google.colab import drive\n",
    "drive.mount('/content/drive')"
   ]
  },
  {
   "cell_type": "markdown",
   "metadata": {
    "id": "bYQXrOn-C7E1"
   },
   "source": [
    "## Imports"
   ]
  },
  {
   "cell_type": "code",
   "execution_count": null,
   "metadata": {
    "id": "rs-OrByhLUo1"
   },
   "outputs": [],
   "source": [
    "import torch\n",
    "import torch.nn as nn\n",
    "from transformers import AutoModel, AutoTokenizer\n",
    "from torch.utils.data import Dataset, DataLoader\n",
    "from sklearn.model_selection import train_test_split\n",
    "from torchcrf import CRF\n",
    "import numpy as np\n",
    "import pandas as pd\n",
    "from sklearn.metrics import accuracy_score, precision_score, recall_score, f1_score, matthews_corrcoef"
   ]
  },
  {
   "cell_type": "markdown",
   "metadata": {
    "id": "N8MGupn9C-c6"
   },
   "source": [
    "## Dataset and Customizing for input"
   ]
  },
  {
   "cell_type": "code",
   "execution_count": null,
   "metadata": {
    "id": "ydWlaIsGLkJp"
   },
   "outputs": [],
   "source": [
    "class MixedTextDataset(Dataset):\n",
    "    def __init__(self, texts, labels, tokenizer, max_len):\n",
    "        self.texts = texts\n",
    "        self.labels = labels\n",
    "        self.tokenizer = tokenizer\n",
    "        self.max_len = max_len\n",
    "\n",
    "    def __len__(self):\n",
    "        return len(self.texts)\n",
    "\n",
    "    def __getitem__(self, idx):\n",
    "        text = str(self.texts[idx])\n",
    "        boundary_idx = int(self.labels[idx])\n",
    "        words = text.split()\n",
    "        if len(words) > self.max_len - 2:\n",
    "            if boundary_idx > self.max_len - 2:\n",
    "                words = words[-(self.max_len - 2):]\n",
    "                boundary_idx = 0\n",
    "            else:\n",
    "                words = words[:self.max_len - 2]\n",
    "        word_labels = [0 if i <= boundary_idx else 1 for i in range(len(words))]\n",
    "        truncated_text = \" \".join(words)\n",
    "        encoding = self.tokenizer(\n",
    "            truncated_text,\n",
    "            max_length=self.max_len,\n",
    "            padding=\"max_length\",\n",
    "            truncation=True,\n",
    "            return_tensors=\"pt\",\n",
    "            return_special_tokens_mask=True\n",
    "        )\n",
    "        special_tokens_mask = encoding['special_tokens_mask'][0]\n",
    "        token_labels = []\n",
    "        current_word_idx = 0\n",
    "\n",
    "        for is_special in special_tokens_mask:\n",
    "            if is_special:\n",
    "                token_labels.append(-100)\n",
    "            else:\n",
    "                if current_word_idx < len(word_labels):\n",
    "                    token_labels.append(word_labels[current_word_idx])\n",
    "                    current_word_idx += 1\n",
    "                else:\n",
    "                    token_labels.append(-100)\n",
    "        token_labels = token_labels[:self.max_len]\n",
    "        if len(token_labels) < self.max_len:\n",
    "            token_labels.extend([-100] * (self.max_len - len(token_labels)))\n",
    "        return {\n",
    "            \"input_ids\": encoding[\"input_ids\"].squeeze(0),\n",
    "            \"attention_mask\": encoding[\"attention_mask\"].squeeze(0),\n",
    "            \"labels\": torch.tensor(token_labels)\n",
    "        }"
   ]
  },
  {
   "cell_type": "markdown",
   "metadata": {
    "id": "wF_FORM1DGhO"
   },
   "source": [
    "## Define Main Model"
   ]
  },
  {
   "cell_type": "code",
   "execution_count": null,
   "metadata": {
    "id": "LiatVcNlQFSN"
   },
   "outputs": [],
   "source": [
    "class TransformerTaggerCRF(nn.Module):\n",
    "    def __init__(self, model_name, num_labels):\n",
    "        super(TransformerTaggerCRF, self).__init__()\n",
    "        self.num_labels = num_labels\n",
    "        self.transformer = AutoModel.from_pretrained(model_name)\n",
    "        self.dropout = nn.Dropout(0.1)\n",
    "        hidden_size = self.transformer.config.hidden_size\n",
    "        self.classifier = nn.Linear(hidden_size, num_labels)\n",
    "        nn.init.xavier_uniform_(self.classifier.weight)\n",
    "        nn.init.constant_(self.classifier.bias, 0)\n",
    "        self.crf = CRF(num_labels, batch_first=True)\n",
    "\n",
    "    def forward(self, input_ids, attention_mask, labels=None):\n",
    "        outputs = self.transformer(input_ids, attention_mask=attention_mask)\n",
    "        sequence_output = self.dropout(outputs.last_hidden_state)\n",
    "        logits = self.classifier(sequence_output)\n",
    "\n",
    "        if labels is not None:\n",
    "            mask = attention_mask.bool()\n",
    "            crf_labels = labels.clone()\n",
    "            crf_labels[crf_labels == -100] = 0\n",
    "            loss = -self.crf(logits, crf_labels, mask=mask, reduction='mean')\n",
    "            return loss\n",
    "        else:\n",
    "            mask = attention_mask.bool()\n",
    "            predictions = self.crf.decode(logits, mask=mask)\n",
    "            return torch.tensor(predictions)"
   ]
  },
  {
   "cell_type": "markdown",
   "metadata": {
    "id": "OCUFxjYdDLcz"
   },
   "source": [
    "## Metrics, Train and Evaluate Model"
   ]
  },
  {
   "cell_type": "code",
   "execution_count": null,
   "metadata": {
    "id": "pt8C3d2xIiMR"
   },
   "outputs": [],
   "source": [
    "def compute_metrics(predictions, labels):\n",
    "    predictions = np.array(predictions)\n",
    "    labels = np.array(labels)\n",
    "\n",
    "    accuracy = accuracy_score(labels, predictions)\n",
    "    precision = precision_score(labels, predictions, average=\"binary\", zero_division=0)\n",
    "    recall = recall_score(labels, predictions, average=\"binary\", zero_division=0)\n",
    "    f1 = f1_score(labels, predictions, average=\"binary\", zero_division=0)\n",
    "    mcc = matthews_corrcoef(labels, predictions)\n",
    "    return accuracy, precision, recall, f1, mcc\n",
    "\n",
    "def train_model(model, data_loader, optimizer, scheduler, device):\n",
    "    model.train()\n",
    "    total_loss = 0\n",
    "\n",
    "    for batch in data_loader:\n",
    "        input_ids = batch[\"input_ids\"].to(device)\n",
    "        attention_mask = batch[\"attention_mask\"].to(device)\n",
    "        labels = batch[\"labels\"].to(device)\n",
    "\n",
    "        optimizer.zero_grad()\n",
    "        loss = model(input_ids, attention_mask, labels)\n",
    "        loss.backward()\n",
    "        torch.nn.utils.clip_grad_norm_(model.parameters(), max_norm=1.0)\n",
    "        optimizer.step()\n",
    "        scheduler.step()\n",
    "        total_loss += loss.item()\n",
    "\n",
    "    return total_loss / len(data_loader)\n",
    "\n",
    "def evaluate_model(model, data_loader, device):\n",
    "    model.eval()\n",
    "    all_predictions = []\n",
    "    all_labels = []\n",
    "\n",
    "    with torch.no_grad():\n",
    "        for batch in data_loader:\n",
    "            input_ids = batch[\"input_ids\"].to(device)\n",
    "            attention_mask = batch[\"attention_mask\"].to(device)\n",
    "            labels = batch[\"labels\"].to(device)\n",
    "            outputs = model.transformer(input_ids, attention_mask=attention_mask)\n",
    "            sequence_output = model.dropout(outputs.last_hidden_state)\n",
    "            logits = model.classifier(sequence_output)\n",
    "            mask = attention_mask.bool()\n",
    "            predictions = model.crf.decode(logits, mask)\n",
    "            for pred_seq, label_seq, mask_seq in zip(predictions, labels, attention_mask):\n",
    "                pred_seq = torch.tensor(pred_seq, device=device)\n",
    "                if len(pred_seq) < mask_seq.size(0):\n",
    "                    padding = torch.zeros(mask_seq.size(0) - len(pred_seq), device=device)\n",
    "                    pred_seq = torch.cat([pred_seq, padding])\n",
    "                mask_seq = mask_seq.to(device)\n",
    "                label_seq = label_seq.to(device)\n",
    "                valid_indices = (mask_seq == 1) & (label_seq != -100)\n",
    "                valid_pred = pred_seq[valid_indices].cpu().numpy()\n",
    "                valid_label = label_seq[valid_indices].cpu().numpy()\n",
    "\n",
    "                all_predictions.extend(valid_pred)\n",
    "                all_labels.extend(valid_label)\n",
    "\n",
    "    all_predictions = np.array(all_predictions)\n",
    "    all_labels = np.array(all_labels)\n",
    "    absolute_errors = np.abs(all_predictions - all_labels)\n",
    "    mae = np.mean(absolute_errors)\n",
    "    std_dev = np.std(absolute_errors)\n",
    "    accuracy, precision, recall, f1, mcc = compute_metrics(all_predictions, all_labels)\n",
    "    return accuracy, precision, recall, f1, mcc, mae, std_dev"
   ]
  },
  {
   "cell_type": "markdown",
   "metadata": {
    "id": "acNn3lc2DQ9E"
   },
   "source": [
    "## Model Selection and Setting up"
   ]
  },
  {
   "cell_type": "code",
   "execution_count": null,
   "metadata": {
    "id": "y8IJHdrQQLG2"
   },
   "outputs": [],
   "source": [
    "MODEL_NAME = 'microsoft/deberta-v3-base'\n",
    "\n",
    "def setup_training(train_texts, train_labels, dev_texts, dev_labels, model_name=MODEL_NAME, batch_size=8, max_len=512):\n",
    "    tokenizer = AutoTokenizer.from_pretrained(model_name)\n",
    "\n",
    "    train_dataset = MixedTextDataset(train_texts, train_labels, tokenizer, max_len)\n",
    "    dev_dataset = MixedTextDataset(dev_texts, dev_labels, tokenizer, max_len)\n",
    "\n",
    "    train_loader = DataLoader(train_dataset, batch_size=batch_size, shuffle=True)\n",
    "    dev_loader = DataLoader(dev_dataset, batch_size=batch_size, shuffle=False)\n",
    "\n",
    "    device = torch.device(\"cuda\" if torch.cuda.is_available() else \"cpu\")\n",
    "    model = TransformerTaggerCRF(model_name, num_labels=2)\n",
    "    model.to(device)\n",
    "\n",
    "    optimizer_grouped_parameters = [\n",
    "        {\"params\": model.transformer.embeddings.parameters(), \"lr\": 1e-6},\n",
    "        {\"params\": model.transformer.encoder.layer[:6].parameters(), \"lr\": 5e-6},\n",
    "        {\"params\": model.transformer.encoder.layer[6:].parameters(), \"lr\": 1e-5},\n",
    "        {\"params\": model.classifier.parameters(), \"lr\": 1e-4},\n",
    "        {\"params\": model.crf.parameters(), \"lr\": 1e-4},\n",
    "    ]\n",
    "    optimizer = torch.optim.AdamW(optimizer_grouped_parameters, lr=5e-6, weight_decay=0.01)\n",
    "    train_steps = len(train_loader) * 3\n",
    "    scheduler = torch.optim.lr_scheduler.LinearLR(optimizer, start_factor=0.1, total_iters=train_steps)\n",
    "    return model, train_loader, dev_loader, optimizer, scheduler, device"
   ]
  },
  {
   "cell_type": "code",
   "execution_count": null,
   "metadata": {
    "colab": {
     "base_uri": "https://localhost:8080/"
    },
    "id": "idjXoEcW7dqi",
    "outputId": "4f3f71e8-a958-4d56-df4f-b34e2dce3f80"
   },
   "outputs": [],
   "source": [
    "train_df = pd.read_csv('/content/drive/MyDrive/SCI AIGC/sentence_level_train_hc3.csv')\n",
    "dev_df = pd.read_csv('/content/drive/MyDrive/SCI AIGC/sentence_level_dev_hc3.csv')\n",
    "\n",
    "train_texts = train_df[\"text\"].tolist()\n",
    "train_labels = train_df[\"label\"].tolist()\n",
    "dev_texts = dev_df[\"text\"].tolist()\n",
    "dev_labels = dev_df[\"label\"].tolist()\n",
    "\n",
    "model, train_loader, dev_loader, optimizer, scheduler, device = setup_training(train_texts, train_labels, dev_texts, dev_labels, MODEL_NAME)\n"
   ]
  },
  {
   "cell_type": "code",
   "execution_count": null,
   "metadata": {
    "colab": {
     "base_uri": "https://localhost:8080/"
    },
    "id": "p5ylDQrcIiHO",
    "outputId": "9017f0dc-d78b-4dac-fb96-e58d859b4130"
   },
   "outputs": [],
   "source": [
    "tokenizer = AutoTokenizer.from_pretrained(MODEL_NAME)\n",
    "dataset = MixedTextDataset([train_texts[0]], [train_labels[0]], tokenizer, max_len=512)\n",
    "sample = dataset[0]\n",
    "print(f\"Input sequence length: {len(sample['input_ids'])}\")\n",
    "print(f\"Label sequence length: {len(sample['labels'])}\")"
   ]
  },
  {
   "cell_type": "code",
   "execution_count": null,
   "metadata": {
    "colab": {
     "base_uri": "https://localhost:8080/"
    },
    "id": "eTT3bFGGORbz",
    "outputId": "1e0d0069-3119-4881-ff67-b148cd81a38b"
   },
   "outputs": [],
   "source": [
    "device"
   ]
  },
  {
   "cell_type": "markdown",
   "metadata": {
    "id": "puvay671DcOy"
   },
   "source": [
    "## Train Model and Save it"
   ]
  },
  {
   "cell_type": "code",
   "execution_count": null,
   "metadata": {
    "colab": {
     "base_uri": "https://localhost:8080/"
    },
    "id": "Hzr_FHzpQGt2",
    "outputId": "1f371c3c-7fee-4c98-fb4e-511a69af6a9c"
   },
   "outputs": [],
   "source": [
    "import time\n",
    "\n",
    "epochs = 3\n",
    "best_f1 = 0.0\n",
    "best_epoch = 0\n",
    "best_model_path = \"deberta_v3_best.pth\"\n",
    "\n",
    "for epoch in range(epochs):\n",
    "    start_time = time.time()\n",
    "    train_loss = train_model(model, train_loader, optimizer, scheduler, device)\n",
    "    val_accuracy, val_precision, val_recall, val_f1, val_mcc, val_mae, val_std_dev = evaluate_model(model, dev_loader, device)\n",
    "    end_time = time.time()\n",
    "    epoch_duration = end_time - start_time\n",
    "\n",
    "    print(f\"Epoch {epoch + 1}/{epochs}, Train Loss: {train_loss:.4f}\")\n",
    "    print(f\"Validation: Accuracy: {val_accuracy:.4f}, Precision: {val_precision:.4f}, Recall: {val_recall:.4f}, \"\n",
    "          f\"F1 Score: {val_f1:.4f}, MCC: {val_mcc:.4f}, MAE: {val_mae:.2f}±{val_std_dev:.2f}\")\n",
    "    print(f\"Time taken for epoch {epoch + 1}: {epoch_duration:.4f} seconds\")\n",
    "\n",
    "    if val_f1 > best_f1:\n",
    "        best_f1 = val_f1\n",
    "        best_epoch = epoch + 1\n",
    "        torch.save({\n",
    "            'epoch': epoch + 1,\n",
    "            'model_state_dict': model.state_dict(),\n",
    "            'optimizer_state_dict': optimizer.state_dict(),\n",
    "            'scheduler_state_dict': scheduler.state_dict(),\n",
    "            'loss': train_loss,\n",
    "        }, best_model_path)\n",
    "        print(f\"Model saved at epoch {epoch + 1} with F1 Score: {val_f1:.4f}\")\n",
    "\n",
    "print(f\"Best model saved at epoch {best_epoch}, saved to {best_model_path}\")\n"
   ]
  },
  {
   "cell_type": "markdown",
   "metadata": {
    "id": "_dqETR5_Dj0W"
   },
   "source": [
    "## Load Model"
   ]
  },
  {
   "cell_type": "code",
   "execution_count": null,
   "metadata": {
    "colab": {
     "base_uri": "https://localhost:8080/"
    },
    "id": "E805ToQnRZ7C",
    "outputId": "58b9c568-84d2-484a-d56a-f05ff97d4029"
   },
   "outputs": [],
   "source": [
    "checkpoint = torch.load(best_model_path)\n",
    "model.load_state_dict(checkpoint['model_state_dict'])"
   ]
  },
  {
   "cell_type": "markdown",
   "metadata": {
    "id": "CQs5j0V_Dniy"
   },
   "source": [
    "## Model on Test Data"
   ]
  },
  {
   "cell_type": "code",
   "execution_count": null,
   "metadata": {
    "colab": {
     "base_uri": "https://localhost:8080/"
    },
    "id": "IbdeANtgRRLO",
    "outputId": "bfcb85dc-5045-4cea-9a9f-97e31f1047ff"
   },
   "outputs": [],
   "source": [
    "model.eval()\n",
    "\n",
    "test_df = pd.read_csv('/content/drive/MyDrive/SCI AIGC/sentence_level_test_hc3.csv')\n",
    "test_texts = test_df[\"text\"].tolist()\n",
    "test_labels = test_df[\"label\"].tolist()\n",
    "\n",
    "test_dataset = MixedTextDataset(test_texts, test_labels, tokenizer, max_len=512)\n",
    "test_loader = DataLoader(test_dataset, batch_size=8, shuffle=False)\n",
    "\n",
    "test_accuracy, test_precision, test_recall, test_f1, test_mcc, test_mae, test_std_dev = evaluate_model(model, test_loader, device)\n",
    "\n",
    "print(f\"Test Results: Accuracy: {test_accuracy:.4f}, Precision: {test_precision:.4f}, Recall: {test_recall:.4f}, \"\n",
    "      f\"F1 Score: {test_f1:.4f}, MCC: {test_mcc:.4f}, MAE: {test_mae:.2f}±{test_std_dev:.2f}\")\n"
   ]
  },
  {
   "cell_type": "code",
   "execution_count": null,
   "metadata": {
    "colab": {
     "base_uri": "https://localhost:8080/",
     "height": 1000
    },
    "id": "PmirFmXN1R3V",
    "outputId": "4a2d658e-7e0a-4297-ba1e-69f42631cee3"
   },
   "outputs": [],
   "source": [
    "test_df"
   ]
  },
  {
   "cell_type": "code",
   "execution_count": null,
   "metadata": {
    "id": "8AfrvUTo2Huy"
   },
   "outputs": [],
   "source": [
    "import pandas as pd\n",
    "import torch\n",
    "\n",
    "def predict_boundary(model, text, tokenizer, max_len, device):\n",
    "    model.eval()\n",
    "\n",
    "    encoding = tokenizer(\n",
    "        text,\n",
    "        max_length=max_len,\n",
    "        padding=\"max_length\",\n",
    "        truncation=True,\n",
    "        return_tensors=\"pt\",\n",
    "        return_special_tokens_mask=True\n",
    "    )\n",
    "\n",
    "    input_ids = encoding[\"input_ids\"].to(device)\n",
    "    attention_mask = encoding[\"attention_mask\"].to(device)\n",
    "\n",
    "    with torch.no_grad():\n",
    "        outputs = model.transformer(input_ids, attention_mask=attention_mask)\n",
    "        sequence_output = model.dropout(outputs.last_hidden_state)\n",
    "        logits = model.classifier(sequence_output)\n",
    "        mask = attention_mask.bool()\n",
    "        predictions = model.crf.decode(logits, mask)\n",
    "\n",
    "    pred_labels = predictions[0]\n",
    "    boundary_index = next((i for i, label in enumerate(pred_labels) if label == 1), len(pred_labels))\n",
    "\n",
    "    return boundary_index\n"
   ]
  },
  {
   "cell_type": "code",
   "execution_count": null,
   "metadata": {
    "id": "cqZzePal2LrW"
   },
   "outputs": [],
   "source": [
    "test_df[\"predicted_boundary\"] = test_df[\"text\"].apply(lambda x: predict_boundary(model, x, tokenizer, max_len=512, device=device))"
   ]
  },
  {
   "cell_type": "code",
   "execution_count": null,
   "metadata": {
    "colab": {
     "base_uri": "https://localhost:8080/",
     "height": 1000
    },
    "id": "OAPkmzd42QXV",
    "outputId": "5bb1e113-a9c1-4ec6-c88c-b593d8ea4a03"
   },
   "outputs": [],
   "source": [
    "test_df"
   ]
  },
  {
   "cell_type": "code",
   "execution_count": null,
   "metadata": {
    "id": "YQl8GlBr6i1b"
   },
   "outputs": [],
   "source": [
    "test_df.to_csv('Transformer_CRF_DeBERTa_HC3.csv', index = False)"
   ]
  },
  {
   "cell_type": "code",
   "execution_count": null,
   "metadata": {
    "colab": {
     "base_uri": "https://localhost:8080/"
    },
    "id": "6wFgBwin675s",
    "outputId": "ba64d72a-2600-4849-b778-92b3eb55267e"
   },
   "outputs": [],
   "source": [
    "mae = (test_df['label'] - test_df['predicted_boundary']).abs().mean()\n",
    "mae"
   ]
  },
  {
   "cell_type": "code",
   "execution_count": null,
   "metadata": {
    "colab": {
     "base_uri": "https://localhost:8080/"
    },
    "id": "743-RtkP8286",
    "outputId": "9c1646a7-f088-49dd-f76b-e78df8a505b9"
   },
   "outputs": [],
   "source": [
    "difference = (test_df['label'] - test_df['predicted_boundary']).abs()\n",
    "mae = difference.mean()\n",
    "sd = difference.std()\n",
    "print(f\"MAE ± SD: {mae:.4f} ± {sd:.4f}\")\n"
   ]
  }
 ],
 "metadata": {
  "accelerator": "GPU",
  "colab": {
   "gpuType": "T4",
   "provenance": []
  },
  "kernelspec": {
   "display_name": "Python 3 (ipykernel)",
   "language": "python",
   "name": "python3"
  },
  "language_info": {
   "codemirror_mode": {
    "name": "ipython",
    "version": 3
   },
   "file_extension": ".py",
   "mimetype": "text/x-python",
   "name": "python",
   "nbconvert_exporter": "python",
   "pygments_lexer": "ipython3",
   "version": "3.10.11"
  }
 },
 "nbformat": 4,
 "nbformat_minor": 4
}
