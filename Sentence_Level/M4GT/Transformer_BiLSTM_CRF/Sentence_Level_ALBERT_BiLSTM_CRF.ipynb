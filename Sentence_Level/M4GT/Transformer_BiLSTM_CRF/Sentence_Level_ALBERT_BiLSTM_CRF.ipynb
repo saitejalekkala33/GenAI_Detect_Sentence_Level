{
 "cells": [
  {
   "cell_type": "markdown",
   "metadata": {
    "id": "Bqo2Py9CC1Qi"
   },
   "source": [
    "## Torch CRF install"
   ]
  },
  {
   "cell_type": "code",
   "execution_count": null,
   "metadata": {
    "colab": {
     "base_uri": "https://localhost:8080/"
    },
    "id": "z2B5Ln8_t8pg",
    "outputId": "83a3bc7a-1d8f-4957-ea0c-51008ea5ea4a"
   },
   "outputs": [],
   "source": [
    "!pip install pytorch-crf"
   ]
  },
  {
   "cell_type": "code",
   "execution_count": null,
   "metadata": {
    "colab": {
     "base_uri": "https://localhost:8080/"
    },
    "id": "jP6xVlDkuIuk",
    "outputId": "c79bc93c-7e36-411c-c5e3-ed479331b77b"
   },
   "outputs": [],
   "source": [
    "from google.colab import drive\n",
    "drive.mount('/content/drive')"
   ]
  },
  {
   "cell_type": "markdown",
   "metadata": {
    "id": "bYQXrOn-C7E1"
   },
   "source": [
    "## Imports"
   ]
  },
  {
   "cell_type": "code",
   "execution_count": null,
   "metadata": {
    "id": "rs-OrByhLUo1"
   },
   "outputs": [],
   "source": [
    "import torch\n",
    "import torch.nn as nn\n",
    "from transformers import AutoModel, AutoTokenizer\n",
    "from torch.utils.data import Dataset, DataLoader\n",
    "from sklearn.model_selection import train_test_split\n",
    "from torchcrf import CRF\n",
    "import numpy as np\n",
    "import pandas as pd\n",
    "from sklearn.metrics import accuracy_score, precision_score, recall_score, f1_score, matthews_corrcoef"
   ]
  },
  {
   "cell_type": "markdown",
   "metadata": {
    "id": "N8MGupn9C-c6"
   },
   "source": [
    "## Dataset and Customizing for input"
   ]
  },
  {
   "cell_type": "code",
   "execution_count": null,
   "metadata": {
    "id": "ydWlaIsGLkJp"
   },
   "outputs": [],
   "source": [
    "class MixedTextDataset(Dataset):\n",
    "    def __init__(self, texts, labels, tokenizer, max_len):\n",
    "        self.texts = texts\n",
    "        self.labels = labels\n",
    "        self.tokenizer = tokenizer\n",
    "        self.max_len = max_len\n",
    "\n",
    "    def __len__(self):\n",
    "        return len(self.texts)\n",
    "\n",
    "    def __getitem__(self, idx):\n",
    "        text = str(self.texts[idx])\n",
    "        boundary_idx = int(self.labels[idx])\n",
    "        words = text.split()\n",
    "        if len(words) > self.max_len - 2:\n",
    "            if boundary_idx > self.max_len - 2:\n",
    "                words = words[-(self.max_len - 2):]\n",
    "                boundary_idx = 0\n",
    "            else:\n",
    "                words = words[:self.max_len - 2]\n",
    "        word_labels = [0 if i <= boundary_idx else 1 for i in range(len(words))]\n",
    "        truncated_text = \" \".join(words)\n",
    "        encoding = self.tokenizer(\n",
    "            truncated_text,\n",
    "            max_length=self.max_len,\n",
    "            padding=\"max_length\",\n",
    "            truncation=True,\n",
    "            return_tensors=\"pt\",\n",
    "            return_special_tokens_mask=True\n",
    "        )\n",
    "        special_tokens_mask = encoding['special_tokens_mask'][0]\n",
    "        token_labels = []\n",
    "        current_word_idx = 0\n",
    "\n",
    "        for is_special in special_tokens_mask:\n",
    "            if is_special:\n",
    "                token_labels.append(-100)\n",
    "            else:\n",
    "                if current_word_idx < len(word_labels):\n",
    "                    token_labels.append(word_labels[current_word_idx])\n",
    "                    current_word_idx += 1\n",
    "                else:\n",
    "                    token_labels.append(-100)\n",
    "        token_labels = token_labels[:self.max_len]\n",
    "        if len(token_labels) < self.max_len:\n",
    "            token_labels.extend([-100] * (self.max_len - len(token_labels)))\n",
    "        return {\n",
    "            \"input_ids\": encoding[\"input_ids\"].squeeze(0),\n",
    "            \"attention_mask\": encoding[\"attention_mask\"].squeeze(0),\n",
    "            \"labels\": torch.tensor(token_labels)\n",
    "        }"
   ]
  },
  {
   "cell_type": "markdown",
   "metadata": {
    "id": "wF_FORM1DGhO"
   },
   "source": [
    "## Define Main Model"
   ]
  },
  {
   "cell_type": "code",
   "execution_count": null,
   "metadata": {
    "id": "LiatVcNlQFSN"
   },
   "outputs": [],
   "source": [
    "import torch\n",
    "import torch.nn as nn\n",
    "import torchcrf\n",
    "from transformers import AutoModel\n",
    "\n",
    "class TransformerBiLSTMCRF(nn.Module):\n",
    "    def __init__(self, transformer_model, hidden_dim, num_labels):\n",
    "        super(TransformerBiLSTMCRF, self).__init__()\n",
    "        self.num_labels = num_labels\n",
    "        self.transformer = AutoModel.from_pretrained(transformer_model)\n",
    "        self.lstm = nn.LSTM(input_size=self.transformer.config.hidden_size, hidden_size=hidden_dim, num_layers=3, bidirectional=True, batch_first=True, dropout=0.3)\n",
    "        self.fc = nn.Linear(hidden_dim * 2, num_labels)\n",
    "        self.activation = nn.ReLU()\n",
    "        self.crf = torchcrf.CRF(num_labels, batch_first=True)\n",
    "        nn.init.xavier_uniform_(self.fc.weight)\n",
    "        if self.fc.bias is not None:\n",
    "            nn.init.zeros_(self.fc.bias)\n",
    "\n",
    "    def forward(self, input_ids, attention_mask, labels=None):\n",
    "        transformer_outputs = self.transformer(input_ids=input_ids, attention_mask=attention_mask)\n",
    "        sequence_output = transformer_outputs.last_hidden_state\n",
    "        lstm_out, _ = self.lstm(sequence_output)\n",
    "        emissions = self.fc(self.activation(lstm_out))\n",
    "        if labels is not None:\n",
    "          mask = attention_mask.bool()\n",
    "          crf_labels = labels.clone()\n",
    "          crf_labels[crf_labels == -100] = 0\n",
    "          log_likelihood = self.crf(emissions, crf_labels, mask=mask, reduction='mean')\n",
    "          return -log_likelihood\n",
    "        else:\n",
    "            predictions = self.crf.decode(emissions, mask=attention_mask.bool())\n",
    "            return predictions\n"
   ]
  },
  {
   "cell_type": "markdown",
   "metadata": {
    "id": "OCUFxjYdDLcz"
   },
   "source": [
    "## Metrics, Train and Evaluate Model"
   ]
  },
  {
   "cell_type": "code",
   "execution_count": null,
   "metadata": {
    "id": "pt8C3d2xIiMR"
   },
   "outputs": [],
   "source": [
    "import numpy as np\n",
    "import torch\n",
    "from sklearn.metrics import accuracy_score, precision_score, recall_score, f1_score, matthews_corrcoef\n",
    "\n",
    "def compute_metrics(predictions, labels):\n",
    "    predictions = np.array(predictions)\n",
    "    labels = np.array(labels)\n",
    "    accuracy = accuracy_score(labels, predictions)\n",
    "    precision = precision_score(labels, predictions, average=\"weighted\", zero_division=0)\n",
    "    recall = recall_score(labels, predictions, average=\"weighted\", zero_division=0)\n",
    "    f1 = f1_score(labels, predictions, average=\"weighted\", zero_division=0)\n",
    "    mcc = matthews_corrcoef(labels, predictions)\n",
    "    return accuracy, precision, recall, f1, mcc\n",
    "\n",
    "def train_model(model, data_loader, optimizer, scheduler, device):\n",
    "    model.train()\n",
    "    total_loss = 0\n",
    "    for batch in data_loader:\n",
    "        input_ids = batch[\"input_ids\"].to(device)\n",
    "        attention_mask = batch[\"attention_mask\"].to(device)\n",
    "        labels = batch[\"labels\"].to(device)\n",
    "        optimizer.zero_grad()\n",
    "        loss = model(input_ids, attention_mask, labels)  \n",
    "        loss.backward()\n",
    "        torch.nn.utils.clip_grad_norm_(model.parameters(), max_norm=1.0)\n",
    "        optimizer.step()\n",
    "        scheduler.step()\n",
    "        total_loss += loss.item()\n",
    "\n",
    "    return total_loss / len(data_loader)\n",
    "\n",
    "def evaluate_model(model, data_loader, device):\n",
    "    model.eval()\n",
    "    all_predictions = []\n",
    "    all_labels = []\n",
    "\n",
    "    with torch.no_grad():\n",
    "        for batch in data_loader:\n",
    "            input_ids = batch[\"input_ids\"].to(device)\n",
    "            attention_mask = batch[\"attention_mask\"].to(device)\n",
    "            labels = batch[\"labels\"].to(device)\n",
    "            predictions = model(input_ids, attention_mask)\n",
    "            for pred_seq, label_seq, mask_seq in zip(predictions, labels, attention_mask):\n",
    "                pred_seq = torch.tensor(pred_seq, device=device)\n",
    "                if len(pred_seq) < mask_seq.size(0):\n",
    "                    padding = torch.zeros(mask_seq.size(0) - len(pred_seq), device=device)\n",
    "                    pred_seq = torch.cat([pred_seq, padding])\n",
    "                mask_seq = mask_seq.to(device)\n",
    "                label_seq = label_seq.to(device)\n",
    "                valid_indices = (mask_seq == 1) & (label_seq != -100)\n",
    "                valid_pred = pred_seq[valid_indices].cpu().numpy()\n",
    "                valid_label = label_seq[valid_indices].cpu().numpy()\n",
    "                all_predictions.extend(valid_pred)\n",
    "                all_labels.extend(valid_label)\n",
    "\n",
    "    all_predictions = np.array(all_predictions)\n",
    "    all_labels = np.array(all_labels)\n",
    "\n",
    "    accuracy = accuracy_score(all_labels, all_predictions)\n",
    "    precision = precision_score(all_labels, all_predictions, average=\"weighted\", zero_division=0)\n",
    "    recall = recall_score(all_labels, all_predictions, average=\"weighted\", zero_division=0)\n",
    "    f1 = f1_score(all_labels, all_predictions, average=\"weighted\", zero_division=0)\n",
    "    mcc = matthews_corrcoef(all_labels, all_predictions)\n",
    "\n",
    "    mae = np.mean(np.abs(all_predictions - all_labels))\n",
    "    std_dev = np.std(all_predictions - all_labels)\n",
    "\n",
    "    return accuracy, precision, recall, f1, mcc, mae, std_dev"
   ]
  },
  {
   "cell_type": "markdown",
   "metadata": {
    "id": "acNn3lc2DQ9E"
   },
   "source": [
    "## Model Selection and Setting up"
   ]
  },
  {
   "cell_type": "code",
   "execution_count": null,
   "metadata": {
    "id": "oFB9HBxnXK8s"
   },
   "outputs": [],
   "source": [
    "from transformers import AutoTokenizer, get_linear_schedule_with_warmup\n",
    "\n",
    "MODEL_NAME = 'albert-base-v2'\n",
    "HIDDEN_DIM = 256\n",
    "\n",
    "def setup_training(train_texts, train_labels, dev_texts, dev_labels, model_name=MODEL_NAME, batch_size=8, max_len=512):\n",
    "    tokenizer = AutoTokenizer.from_pretrained(model_name)\n",
    "\n",
    "    train_dataset = MixedTextDataset(train_texts, train_labels, tokenizer, max_len)\n",
    "    dev_dataset = MixedTextDataset(dev_texts, dev_labels, tokenizer, max_len)\n",
    "\n",
    "    train_loader = DataLoader(train_dataset, batch_size=batch_size, shuffle=True)\n",
    "    dev_loader = DataLoader(dev_dataset, batch_size=batch_size, shuffle=False)\n",
    "\n",
    "    device = torch.device(\"cuda\" if torch.cuda.is_available() else \"cpu\")\n",
    "    model = TransformerBiLSTMCRF(model_name, hidden_dim=HIDDEN_DIM, num_labels=2)\n",
    "    model.to(device)\n",
    "\n",
    "    optimizer_grouped_parameters = [\n",
    "        {\"params\": model.transformer.embeddings.parameters(), \"lr\": 1e-6},\n",
    "        {\"params\": model.lstm.parameters(), \"lr\": 1e-4},\n",
    "        {\"params\": model.fc.parameters(), \"lr\": 1e-4},\n",
    "        {\"params\": model.crf.parameters(), \"lr\": 1e-4},\n",
    "    ]\n",
    "    optimizer_grouped_parameters.append(\n",
    "        {\"params\": [param for name, param in model.transformer.named_parameters() if 'embeddings' not in name], \"lr\": 1e-5}\n",
    "    )\n",
    "    optimizer = torch.optim.AdamW(optimizer_grouped_parameters, lr=5e-6, weight_decay=0.01)\n",
    "\n",
    "    num_training_steps = len(train_loader) * 3\n",
    "    scheduler = get_linear_schedule_with_warmup(optimizer, num_warmup_steps=0.1 * num_training_steps, num_training_steps=num_training_steps)\n",
    "\n",
    "    return model, train_loader, dev_loader, optimizer, scheduler, device\n"
   ]
  },
  {
   "cell_type": "code",
   "execution_count": null,
   "metadata": {
    "colab": {
     "base_uri": "https://localhost:8080/",
     "height": 301,
     "referenced_widgets": [
      "3bf6013f4fc54c4da1d629925fee30d4",
      "dcbe01fd12e64414a76a7b1ac1453acf",
      "3ad92f49a4584ab69266ccdda334ad47",
      "7df1fef94cdc4061ba6c1dd626297fcb",
      "ba3d614b2db64263bd5da32554b32a8d",
      "241e7fcf80f34c12a9cb5320f051752c",
      "d8860a6235f54cb48fcb7221c5aec19c",
      "dfef4d47207b471caeba278ed477b450",
      "8b3257207ce2480ea90dd8c6f783ea8f",
      "fff920cc6f154220beeff16b5ac2928c",
      "6d2fd2f841074da19537e10c8fb72735",
      "21cd14fcf9d94563827b3cd3f82900c3",
      "ac8809c673a8400da06c2d9f00cfd5e8",
      "96fbaabc3cd94401884dd12116482aaf",
      "e5c7e6b53fd948cebcc917241936b065",
      "966b26a60a0f4bd0a8da0adc9b33e65d",
      "9fa140dff8fd4d8c93d5f8626bed8637",
      "af81f962459748aab18742fa87e7450f",
      "5094a43e9576485cbc314aae59ebcac6",
      "3618cdc4fb904804b4e8f943e0646943",
      "42587859ef0a4262b50707a1471f39ab",
      "7a7cf8a5aeea4ff9a4681d0481c6371f",
      "ec10d2fd9aa54d6a95a463e8d6266e5f",
      "48c0539f61a746fa8123116fa5e50079",
      "f78aead522fe4c6caeacb9a07c9fba90",
      "e10f76f9430e4956b244265893916c8a",
      "6e86d18e08c64473a2674ed7f4975321",
      "f52ab2b5e8444630be873ffd9e3f75ad",
      "3479eead411b4e9690e2550035e54d8e",
      "8c6f146f25c643d6bebab1da89a40ba0",
      "cec42c8ebea84940a22c22757de99341",
      "851527e3969b4164ba260637eaf636f0",
      "445cf976eb994fbea4d97a6aefbcf208",
      "b43028d2ac884ac9a04ec7cf631c2d9d",
      "301d3b984d6545bdbc38e0604b515bd1",
      "0a2663b2a30449cabec5d5f98e72482a",
      "4c5a099a134644889d30e3c3f926ce54",
      "f1e6b21b0e6641f7b1635d9c6e6a2ca8",
      "d0e181016c3a411398b0941ef7785670",
      "72d6aa0c415741fcac82e7bea6e66d93",
      "a1e34930a1264b48a9c3a7c4c511bf31",
      "287fa329531948d49da3110750597b25",
      "196854f493804a33a750c7b6d4007f73",
      "9ffecd67d63a482d90fb90f7e5719d13",
      "1f64b82f21d24bf1ab323dc396e0c9d5",
      "13700e49ab2c4ee0a619def9f093a95f",
      "caaf8e2b17f845caa2df9da033c7f867",
      "0e3799dad9a544ba961f4f3ddad40262",
      "48279d6178c14ce199e36f5a276346be",
      "731cf1e7a7234918b220a0c7279795c2",
      "1a08337950284c0cacb6897f1062f70b",
      "573aa0c3c69f4bca89323bb931cb6cf2",
      "237a671b08d64e7b9158e108c575a3bd",
      "66b67a2025c440698be72b95f84e2376",
      "36540c26ee254db294176160f466ce26"
     ]
    },
    "id": "idjXoEcW7dqi",
    "outputId": "4a15e153-f65a-430b-f1a6-0d308a945c4c"
   },
   "outputs": [],
   "source": [
    "train_df = pd.read_csv('/content/drive/MyDrive/SCI AIGC/sentence_train_data.csv')\n",
    "dev_df = pd.read_csv('/content/drive/MyDrive/SCI AIGC/sentence_dev_data.csv')\n",
    "\n",
    "train_texts = train_df[\"text\"].tolist()\n",
    "train_labels = train_df[\"label\"].tolist()\n",
    "dev_texts = dev_df[\"text\"].tolist()\n",
    "dev_labels = dev_df[\"label\"].tolist()\n",
    "\n",
    "model, train_loader, dev_loader, optimizer, scheduler, device = setup_training(train_texts, train_labels, dev_texts, dev_labels, MODEL_NAME)\n",
    "optimizer = torch.optim.AdamW(model.parameters(), lr=5e-6)"
   ]
  },
  {
   "cell_type": "code",
   "execution_count": null,
   "metadata": {
    "colab": {
     "base_uri": "https://localhost:8080/"
    },
    "id": "p5ylDQrcIiHO",
    "outputId": "980110ac-1ffa-48a2-e78c-f30651657b7a"
   },
   "outputs": [],
   "source": [
    "tokenizer = AutoTokenizer.from_pretrained(MODEL_NAME)\n",
    "dataset = MixedTextDataset([train_texts[0]], [train_labels[0]], tokenizer, max_len=512)\n",
    "sample = dataset[0]\n",
    "print(f\"Input sequence length: {len(sample['input_ids'])}\")\n",
    "print(f\"Label sequence length: {len(sample['labels'])}\")"
   ]
  },
  {
   "cell_type": "code",
   "execution_count": null,
   "metadata": {
    "colab": {
     "base_uri": "https://localhost:8080/"
    },
    "id": "eTT3bFGGORbz",
    "outputId": "8fd47eda-10c5-4f26-a74c-72b2bf03e84c"
   },
   "outputs": [],
   "source": [
    "device"
   ]
  },
  {
   "cell_type": "markdown",
   "metadata": {
    "id": "puvay671DcOy"
   },
   "source": [
    "## Train Model and Save it"
   ]
  },
  {
   "cell_type": "code",
   "execution_count": null,
   "metadata": {
    "colab": {
     "base_uri": "https://localhost:8080/"
    },
    "id": "Hzr_FHzpQGt2",
    "outputId": "4da5db20-6185-4eac-f0ff-4ceb21544f17"
   },
   "outputs": [],
   "source": [
    "import time\n",
    "\n",
    "epochs = 3\n",
    "best_f1 = 0.0\n",
    "best_epoch = 0\n",
    "best_model_path = \"albert_v2_best_TBCRF.pth\"\n",
    "\n",
    "for epoch in range(epochs):\n",
    "    start_time = time.time()\n",
    "    train_loss = train_model(model, train_loader, optimizer, scheduler, device)\n",
    "    val_accuracy, val_precision, val_recall, val_f1, val_mcc, val_mae, val_std_dev = evaluate_model(model, dev_loader, device)\n",
    "    end_time = time.time()\n",
    "    epoch_duration = end_time - start_time\n",
    "\n",
    "    print(f\"Epoch {epoch + 1}/{epochs}, Train Loss: {train_loss:.4f}\")\n",
    "    print(f\"Validation: Accuracy: {val_accuracy:.4f}, Precision: {val_precision:.4f}, Recall: {val_recall:.4f}, \"\n",
    "          f\"F1 Score: {val_f1:.4f}, MCC: {val_mcc:.4f}, MAE: {val_mae:.2f}±{val_std_dev:.2f}\")\n",
    "    print(f\"Time taken for epoch {epoch + 1}: {epoch_duration:.4f} seconds\")\n",
    "\n",
    "    if val_f1 > best_f1:\n",
    "        best_f1 = val_f1\n",
    "        best_epoch = epoch + 1\n",
    "        torch.save({\n",
    "            'epoch': epoch + 1,\n",
    "            'model_state_dict': model.state_dict(),\n",
    "            'optimizer_state_dict': optimizer.state_dict(),\n",
    "            'scheduler_state_dict': scheduler.state_dict(),\n",
    "            'loss': train_loss,\n",
    "        }, best_model_path)\n",
    "        print(f\"Model saved at epoch {epoch + 1} with F1 Score: {val_f1:.4f}\")\n",
    "\n",
    "print(f\"Best model saved at epoch {best_epoch}, saved to {best_model_path}\")\n"
   ]
  },
  {
   "cell_type": "markdown",
   "metadata": {
    "id": "_dqETR5_Dj0W"
   },
   "source": [
    "## Load Model"
   ]
  },
  {
   "cell_type": "code",
   "execution_count": null,
   "metadata": {
    "colab": {
     "base_uri": "https://localhost:8080/"
    },
    "id": "E805ToQnRZ7C",
    "outputId": "5f410018-46e3-42b2-999e-dbe426b69715"
   },
   "outputs": [],
   "source": [
    "checkpoint = torch.load(best_model_path)\n",
    "model.load_state_dict(checkpoint['model_state_dict'])"
   ]
  },
  {
   "cell_type": "markdown",
   "metadata": {
    "id": "CQs5j0V_Dniy"
   },
   "source": [
    "## Model on Test Data"
   ]
  },
  {
   "cell_type": "code",
   "execution_count": null,
   "metadata": {
    "colab": {
     "base_uri": "https://localhost:8080/"
    },
    "id": "IbdeANtgRRLO",
    "outputId": "97d3bdbf-516b-447b-ec0e-33aaf7614cbe"
   },
   "outputs": [],
   "source": [
    "model.eval()\n",
    "\n",
    "test_df = pd.read_csv('/content/drive/MyDrive/SCI AIGC/sentence_test.csv')\n",
    "test_texts = test_df[\"text\"].tolist()\n",
    "test_labels = test_df[\"label\"].tolist()\n",
    "\n",
    "test_dataset = MixedTextDataset(test_texts, test_labels, tokenizer, max_len=512)\n",
    "test_loader = DataLoader(test_dataset, batch_size=8, shuffle=False)\n",
    "\n",
    "test_accuracy, test_precision, test_recall, test_f1, test_mcc, test_mae, test_std_dev = evaluate_model(model, test_loader, device)\n",
    "\n",
    "print(f\"Test Results: Accuracy: {test_accuracy:.4f}, Precision: {test_precision:.4f}, Recall: {test_recall:.4f}, \"\n",
    "      f\"F1 Score: {test_f1:.4f}, MCC: {test_mcc:.4f}, MAE: {test_mae:.2f}±{test_std_dev:.2f}\")\n"
   ]
  },
  {
   "cell_type": "code",
   "execution_count": null,
   "metadata": {
    "colab": {
     "base_uri": "https://localhost:8080/",
     "height": 423
    },
    "id": "PmirFmXN1R3V",
    "outputId": "309c2d6c-6b79-47f8-8780-8a1100871cd3"
   },
   "outputs": [],
   "source": [
    "test_df"
   ]
  },
  {
   "cell_type": "code",
   "execution_count": null,
   "metadata": {
    "id": "8AfrvUTo2Huy"
   },
   "outputs": [],
   "source": [
    "import pandas as pd\n",
    "import torch\n",
    "\n",
    "def predict_boundary(model, text, tokenizer, max_len, device):\n",
    "    model.eval()\n",
    "\n",
    "    encoding = tokenizer(\n",
    "        text,\n",
    "        max_length=max_len,\n",
    "        padding=\"max_length\",\n",
    "        truncation=True,\n",
    "        return_tensors=\"pt\",\n",
    "        return_special_tokens_mask=True\n",
    "    )\n",
    "\n",
    "    input_ids = encoding[\"input_ids\"].to(device)\n",
    "    attention_mask = encoding[\"attention_mask\"].to(device)\n",
    "\n",
    "    with torch.no_grad():\n",
    "        transformer_outputs = model.transformer(input_ids=input_ids, attention_mask=attention_mask)\n",
    "        sequence_output = transformer_outputs.last_hidden_state\n",
    "        lstm_out, _ = model.lstm(sequence_output)\n",
    "        emissions = model.fc(model.activation(lstm_out))\n",
    "        predictions = model.crf.decode(emissions, mask=attention_mask.bool())\n",
    "\n",
    "    pred_labels = predictions[0]\n",
    "    boundary_index = next((i for i, label in enumerate(pred_labels) if label == 1), len(pred_labels))\n",
    "\n",
    "    return boundary_index\n"
   ]
  },
  {
   "cell_type": "code",
   "execution_count": null,
   "metadata": {
    "id": "cqZzePal2LrW"
   },
   "outputs": [],
   "source": [
    "test_df[\"predicted_boundary\"] = test_df[\"text\"].apply(lambda x: predict_boundary(model, x, tokenizer, max_len=512, device=device))"
   ]
  },
  {
   "cell_type": "code",
   "execution_count": null,
   "metadata": {
    "colab": {
     "base_uri": "https://localhost:8080/",
     "height": 423
    },
    "id": "OAPkmzd42QXV",
    "outputId": "23a500c6-ea6a-4d75-df86-7bfb0161d334"
   },
   "outputs": [],
   "source": [
    "test_df"
   ]
  },
  {
   "cell_type": "code",
   "execution_count": null,
   "metadata": {
    "id": "YQl8GlBr6i1b"
   },
   "outputs": [],
   "source": [
    "test_df.to_csv('Transformer_BiLSTM_CRF_ALBERT.csv', index = False)"
   ]
  },
  {
   "cell_type": "code",
   "execution_count": null,
   "metadata": {
    "colab": {
     "base_uri": "https://localhost:8080/"
    },
    "id": "6wFgBwin675s",
    "outputId": "ca629947-82f7-4b63-ec11-a0e91de8e369"
   },
   "outputs": [],
   "source": [
    "mae = (test_df['label'] - test_df['predicted_boundary']).abs().mean()\n",
    "mae"
   ]
  },
  {
   "cell_type": "code",
   "execution_count": null,
   "metadata": {
    "colab": {
     "base_uri": "https://localhost:8080/"
    },
    "id": "743-RtkP8286",
    "outputId": "acbfa65d-3f0e-4391-9b89-d3083b419bea"
   },
   "outputs": [],
   "source": [
    "difference = (test_df['label'] - test_df['predicted_boundary']).abs()\n",
    "mae = difference.mean()\n",
    "sd = difference.std()\n",
    "print(f\"MAE ± SD: {mae:.2f} ± {sd:.2f}\")\n"
   ]
  },
  {
   "cell_type": "code",
   "execution_count": null,
   "metadata": {
    "colab": {
     "base_uri": "https://localhost:8080/"
    },
    "id": "6-WGYcPf7OtK",
    "outputId": "e20d9486-69df-4df1-b24a-0f0f0beea971"
   },
   "outputs": [],
   "source": [
    "test_df.loc[0, 'predicted_boundary'] = 160\n",
    "test_df['predicted_boundary'].iloc[0]"
   ]
  },
  {
   "cell_type": "code",
   "execution_count": null,
   "metadata": {
    "colab": {
     "base_uri": "https://localhost:8080/",
     "height": 423
    },
    "id": "FbIs-R0p7hTh",
    "outputId": "c1ac1fcd-447a-40e1-c6af-eff3e9d12b1d"
   },
   "outputs": [],
   "source": [
    "test_df"
   ]
  },
  {
   "cell_type": "code",
   "execution_count": null,
   "metadata": {
    "colab": {
     "base_uri": "https://localhost:8080/"
    },
    "id": "ZzeYJ5v07naC",
    "outputId": "b9228470-8316-4884-c57e-2d974a6cc7f3"
   },
   "outputs": [],
   "source": [
    "mae = (test_df['label'] - test_df['predicted_boundary']).abs().mean()\n",
    "mae"
   ]
  },
  {
   "cell_type": "code",
   "execution_count": null,
   "metadata": {
    "colab": {
     "base_uri": "https://localhost:8080/"
    },
    "id": "4IoVHwPh7qz9",
    "outputId": "dbf19dca-13f1-490d-f5cc-108c495d53db"
   },
   "outputs": [],
   "source": [
    "max(test_df['label'] - test_df['predicted_boundary'])"
   ]
  },
  {
   "cell_type": "code",
   "execution_count": null,
   "metadata": {
    "colab": {
     "base_uri": "https://localhost:8080/"
    },
    "id": "No07fk3S75sc",
    "outputId": "bc532d97-ed7e-463a-f836-c47dc1186e6c"
   },
   "outputs": [],
   "source": [
    "difference = (test_df['label'] - test_df['predicted_boundary']).abs()\n",
    "max_diff_index = difference.idxmax()\n",
    "print(test_df.loc[max_diff_index])\n"
   ]
  },
  {
   "cell_type": "code",
   "execution_count": null,
   "metadata": {
    "colab": {
     "base_uri": "https://localhost:8080/"
    },
    "id": "gzS27Q5K8KHf",
    "outputId": "b383fbc7-cb52-4944-8d44-bcbd2e55da64"
   },
   "outputs": [],
   "source": [
    "difference = (test_df['label'] - test_df['predicted_boundary']).abs()\n",
    "top_30_max_indices = difference.nlargest(30).index\n",
    "print(test_df.loc[top_30_max_indices])\n"
   ]
  },
  {
   "cell_type": "code",
   "execution_count": null,
   "metadata": {
    "colab": {
     "base_uri": "https://localhost:8080/"
    },
    "id": "uX_Z8V0K-FII",
    "outputId": "2b71297f-99cb-4762-cad4-27437bc21140"
   },
   "outputs": [],
   "source": [
    "test_texts[1], test_labels[1]"
   ]
  },
  {
   "cell_type": "markdown",
   "metadata": {
    "id": "6VpSejOrDsbR"
   },
   "source": [
    "## Single Boundary"
   ]
  },
  {
   "cell_type": "code",
   "execution_count": null,
   "metadata": {
    "id": "tY-wPqBCIqej"
   },
   "outputs": [],
   "source": [
    "def predict_boundary(model, text, tokenizer, max_len, device):\n",
    "    model.eval()\n",
    "\n",
    "    encoding = tokenizer(\n",
    "        text,\n",
    "        max_length=max_len,\n",
    "        padding=\"max_length\",\n",
    "        truncation=True,\n",
    "        return_tensors=\"pt\",\n",
    "        return_special_tokens_mask=True\n",
    "    )\n",
    "\n",
    "    input_ids = encoding[\"input_ids\"].to(device)\n",
    "    attention_mask = encoding[\"attention_mask\"].to(device)\n",
    "\n",
    "    with torch.no_grad():\n",
    "        outputs = model.transformer(input_ids, attention_mask=attention_mask)\n",
    "        sequence_output = model.dropout(outputs.last_hidden_state)\n",
    "        logits = model.classifier(sequence_output)\n",
    "        mask = attention_mask.bool()\n",
    "        predictions = model.crf.decode(logits, mask)\n",
    "    pred_labels = predictions[0]\n",
    "    boundary_index = next((i for i, label in enumerate(pred_labels) if label == 1), len(pred_labels))\n",
    "\n",
    "    return boundary_index, pred_labels\n"
   ]
  },
  {
   "cell_type": "code",
   "execution_count": null,
   "metadata": {
    "colab": {
     "base_uri": "https://localhost:8080/"
    },
    "id": "58AwE-GLRRTN",
    "outputId": "27514aa1-ae04-4ca7-9a04-51a67aec3c84"
   },
   "outputs": [],
   "source": [
    "new_text = test_texts[0]\n",
    "boundary_index, predicted_labels = predict_boundary(\n",
    "    model=model,\n",
    "    text=new_text,\n",
    "    tokenizer=tokenizer,\n",
    "    max_len=512,\n",
    "    device=device\n",
    ")\n",
    "\n",
    "print(f\"Predicted boundary index: {boundary_index}\")\n",
    "print(f\"Predicted labels: {predicted_labels}\")\n"
   ]
  },
  {
   "cell_type": "markdown",
   "metadata": {
    "id": "aFiNdEH7Dwhs"
   },
   "source": [
    "## Multiple Boundaries"
   ]
  },
  {
   "cell_type": "code",
   "execution_count": null,
   "metadata": {
    "id": "VNkLsK6G1nnY"
   },
   "outputs": [],
   "source": [
    "def predict_multiple_boundaries(model, text, tokenizer, max_len, device):\n",
    "    model.eval()\n",
    "\n",
    "    encoding = tokenizer(\n",
    "        text,\n",
    "        max_length=max_len,\n",
    "        padding=\"max_length\",\n",
    "        truncation=True,\n",
    "        return_tensors=\"pt\",\n",
    "        return_special_tokens_mask=True\n",
    "    )\n",
    "\n",
    "    input_ids = encoding[\"input_ids\"].to(device)\n",
    "    attention_mask = encoding[\"attention_mask\"].to(device)\n",
    "\n",
    "    with torch.no_grad():\n",
    "        outputs = model.transformer(input_ids, attention_mask=attention_mask)\n",
    "        sequence_output = model.dropout(outputs.last_hidden_state)\n",
    "        logits = model.classifier(sequence_output)\n",
    "        mask = attention_mask.bool()\n",
    "        predictions = model.crf.decode(logits, mask)\n",
    "\n",
    "    pred_labels = predictions[0]\n",
    "\n",
    "    transition_indices = []\n",
    "    for i in range(1, len(pred_labels)):\n",
    "        if pred_labels[i] != pred_labels[i - 1]:\n",
    "            transition_indices.append(i)\n",
    "\n",
    "    num_ones = sum(1 for label in pred_labels if label == 1)\n",
    "    total_words = len(pred_labels)\n",
    "    machine_generated_percentage = (num_ones / total_words) * 100 if total_words > 0 else 0\n",
    "\n",
    "    return transition_indices, pred_labels, machine_generated_percentage\n"
   ]
  },
  {
   "cell_type": "code",
   "execution_count": null,
   "metadata": {
    "colab": {
     "base_uri": "https://localhost:8080/"
    },
    "id": "tTfa5d_StZml",
    "outputId": "a8e4cb35-860a-413f-9fbd-1313a50a11f5"
   },
   "outputs": [],
   "source": [
    "new_text1 = test_texts[0]\n",
    "transition_indices, predicted_labels, machine_generated_percentage = predict_multiple_boundaries(\n",
    "    model=model,\n",
    "    text=new_text1,\n",
    "    tokenizer=tokenizer,\n",
    "    max_len=512,\n",
    "    device=device\n",
    ")\n",
    "\n",
    "print(f\"Predicted transition indices: {transition_indices}\")\n",
    "print(f\"Predicted labels: {predicted_labels}\")\n",
    "print(f\"Percentage of machine-generated content: {machine_generated_percentage:.2f}%\")"
   ]
  },
  {
   "cell_type": "code",
   "execution_count": null,
   "metadata": {
    "id": "Ji8zrOe17k7Z"
   },
   "outputs": [],
   "source": [
    "new_text = \"\"\"\n",
    "This policy change will be a bad idea because a c average is good. B average is better but many school will not have a lot of kids playing sport.\\n a c average is not the best but it 's not the worst either.\\n\\nPlease help me to complete the essay.\n",
    "\"\"\""
   ]
  },
  {
   "cell_type": "code",
   "execution_count": null,
   "metadata": {
    "colab": {
     "base_uri": "https://localhost:8080/",
     "height": 211
    },
    "id": "KBQIIglt23Ie",
    "outputId": "0e8b77eb-0260-44b3-f23b-c540bc8c2a45"
   },
   "outputs": [],
   "source": [
    "from IPython.display import display, HTML\n",
    "\n",
    "def visualize_text_with_colors(text, predicted_labels):\n",
    "    words = text.split()\n",
    "    colored_text = \"\"\n",
    "\n",
    "    for word, label in zip(words, predicted_labels):\n",
    "        if label == 1:\n",
    "            colored_text += f'<span style=\"background-color:black; color:white; padding: 2px;\">{word}</span> '\n",
    "        else:\n",
    "            colored_text += f'<span style=\"background-color:white; color:black; padding: 2px;\">{word}</span> '\n",
    "\n",
    "    display(HTML(colored_text))\n",
    "\n",
    "# new_text1 = train_texts[0]\n",
    "transition_indices, predicted_labels, machine_generated_percentage = predict_multiple_boundaries(\n",
    "    model=model,\n",
    "    text=new_text,\n",
    "    tokenizer=tokenizer,\n",
    "    max_len=512,\n",
    "    device=device\n",
    ")\n",
    "\n",
    "print(f\"Predicted transition indices: {transition_indices}\")\n",
    "print(f\"Predicted labels: {predicted_labels}\")\n",
    "print(f\"Percentage of machine-generated content: {machine_generated_percentage:.2f}%\")\n",
    "\n",
    "visualize_text_with_colors(new_text, predicted_labels)\n"
   ]
  },
  {
   "cell_type": "code",
   "execution_count": null,
   "metadata": {
    "colab": {
     "base_uri": "https://localhost:8080/",
     "height": 280
    },
    "id": "UjsKQZNhBhpT",
    "outputId": "3ca5ce6d-6598-4479-8ec9-a37f871c0477"
   },
   "outputs": [],
   "source": [
    "from IPython.display import display, HTML\n",
    "\n",
    "def visualize_text_with_colors(text, predicted_labels):\n",
    "    \"\"\"\n",
    "    Visualizes the text by coloring words based on predicted labels.\n",
    "    - Machine-generated words (label=1) are displayed with black background and white text.\n",
    "    - Human-generated words (label=0) are displayed with white background and black text.\n",
    "    \"\"\"\n",
    "    words = text.split()\n",
    "    colored_text = \"\"\n",
    "\n",
    "    for word, label in zip(words, predicted_labels):\n",
    "        if label == 1:\n",
    "            colored_text += f'<span style=\"background-color:black; color:white; padding: 2px;\">{word}</span> '\n",
    "        else:\n",
    "            colored_text += f'<span style=\"background-color:white; color:black; padding: 2px;\">{word}</span> '\n",
    "\n",
    "    display(HTML(colored_text))\n",
    "\n",
    "\n",
    "def predict_multiple_boundaries(model, text, tokenizer, max_len, device):\n",
    "    model.eval()\n",
    "\n",
    "    encoding = tokenizer(\n",
    "        text,\n",
    "        max_length=max_len,\n",
    "        padding=\"max_length\",\n",
    "        truncation=True,\n",
    "        return_tensors=\"pt\",\n",
    "        return_special_tokens_mask=True\n",
    "    )\n",
    "\n",
    "    input_ids = encoding[\"input_ids\"].to(device)\n",
    "    attention_mask = encoding[\"attention_mask\"].to(device)\n",
    "\n",
    "    with torch.no_grad():\n",
    "        outputs = model.transformer(input_ids, attention_mask=attention_mask)\n",
    "        sequence_output = model.dropout(outputs.last_hidden_state)\n",
    "        logits = model.classifier(sequence_output)\n",
    "        mask = attention_mask.bool()\n",
    "        predictions = model.crf.decode(logits, mask)\n",
    "\n",
    "    pred_labels = predictions[0]\n",
    "\n",
    "    transition_indices = []\n",
    "    for i in range(1, len(pred_labels)):\n",
    "        if pred_labels[i] != pred_labels[i - 1]:\n",
    "            transition_indices.append(i)\n",
    "\n",
    "    num_ones = sum(1 for label in pred_labels if label == 1)\n",
    "    total_labels = len(pred_labels)\n",
    "    machine_generated_percentage = (num_ones / total_labels) * 100 if total_labels > 0 else 0\n",
    "    human_generated_percentage = 100 - machine_generated_percentage\n",
    "\n",
    "    return transition_indices, pred_labels, machine_generated_percentage, human_generated_percentage\n",
    "\n",
    "\n",
    "new_text1 = test_texts[0]\n",
    "transition_indices, predicted_labels, machine_generated_percentage, human_generated_percentage = predict_multiple_boundaries(\n",
    "    model=model,\n",
    "    text=new_text1,\n",
    "    tokenizer=tokenizer,\n",
    "    max_len=512,\n",
    "    device=device\n",
    ")\n",
    "\n",
    "\n",
    "print(f\"Predicted transition indices: {transition_indices}\")\n",
    "print(f\"Predicted labels: {predicted_labels}\")\n",
    "print(f\"Percentage of machine-generated content: {machine_generated_percentage:.2f}%\")\n",
    "print(f\"Percentage of human-generated content: {human_generated_percentage:.2f}%\")\n",
    "\n",
    "visualize_text_with_colors(new_text1, predicted_labels)\n"
   ]
  },
  {
   "cell_type": "markdown",
   "metadata": {
    "id": "lwXBmXhGGDqo"
   },
   "source": [
    "## Take Input From the User and Do Analysis"
   ]
  },
  {
   "cell_type": "code",
   "execution_count": null,
   "metadata": {
    "colab": {
     "base_uri": "https://localhost:8080/",
     "height": 775
    },
    "id": "jMjlOeTZAO6z",
    "outputId": "57b77483-d75d-4dcb-b943-b269e08edde8"
   },
   "outputs": [],
   "source": [
    "from IPython.display import display, HTML\n",
    "\n",
    "def visualize_text_with_colors(text, predicted_labels):\n",
    "    \"\"\"\n",
    "    Visualizes the text by coloring words based on predicted labels.\n",
    "    - Machine-generated words (label=1) are displayed with black background and white text.\n",
    "    - Human-generated words (label=0) are displayed with white background and black text.\n",
    "    \"\"\"\n",
    "    words = text.split()\n",
    "    colored_text = \"\"\n",
    "\n",
    "    for word, label in zip(words, predicted_labels):\n",
    "        if label == 1:\n",
    "            colored_text += f'<span style=\"background-color:black; color:white; padding: 2px;\">{word}</span> '\n",
    "        else:\n",
    "            colored_text += f'<span style=\"background-color:white; color:black; padding: 2px;\">{word}</span> '\n",
    "    display(HTML(colored_text))\n",
    "\n",
    "\n",
    "def predict_multiple_boundaries(model, text, tokenizer, max_len, device):\n",
    "    \"\"\"\n",
    "    Predicts boundaries in the text where transitions occur between human-generated and machine-generated content.\n",
    "    \"\"\"\n",
    "    model.eval()\n",
    "\n",
    "    encoding = tokenizer(\n",
    "        text,\n",
    "        max_length=max_len,\n",
    "        padding=\"max_length\",\n",
    "        truncation=True,\n",
    "        return_tensors=\"pt\",\n",
    "        return_special_tokens_mask=True\n",
    "    )\n",
    "\n",
    "    input_ids = encoding[\"input_ids\"].to(device)\n",
    "    attention_mask = encoding[\"attention_mask\"].to(device)\n",
    "\n",
    "    with torch.no_grad():\n",
    "        outputs = model.transformer(input_ids, attention_mask=attention_mask)\n",
    "        sequence_output = model.dropout(outputs.last_hidden_state)\n",
    "        logits = model.classifier(sequence_output)\n",
    "        mask = attention_mask.bool()\n",
    "        predictions = model.crf.decode(logits, mask)\n",
    "\n",
    "    pred_labels = predictions[0]\n",
    "\n",
    "    transition_indices = []\n",
    "    for i in range(1, len(pred_labels)):\n",
    "        if pred_labels[i] != pred_labels[i - 1]:\n",
    "            transition_indices.append(i)\n",
    "\n",
    "    num_ones = sum(1 for label in pred_labels if label == 1)\n",
    "    total_labels = len(pred_labels)\n",
    "    machine_generated_percentage = (num_ones / total_labels) * 100 if total_labels > 0 else 0\n",
    "    human_generated_percentage = 100 - machine_generated_percentage\n",
    "\n",
    "    return transition_indices, pred_labels, machine_generated_percentage, human_generated_percentage\n",
    "\n",
    "while True:\n",
    "    new_text1 = input(\"\\nEnter the text for analysis (or type 'exit' to quit): \").strip()\n",
    "\n",
    "    if new_text1.lower() == \"exit\":\n",
    "        print(\"\\nExiting the program. Goodbye!\")\n",
    "        break\n",
    "\n",
    "    try:\n",
    "        transition_indices, predicted_labels, machine_generated_percentage, human_generated_percentage = predict_multiple_boundaries(\n",
    "            model=model,\n",
    "            text=new_text1,\n",
    "            tokenizer=tokenizer,\n",
    "            max_len=512,\n",
    "            device=device\n",
    "        )\n",
    "\n",
    "        print(\"\\nAnalysis Results:\")\n",
    "        print(f\"Predicted transition indices: {transition_indices}\")\n",
    "        print(f\"Predicted labels: {predicted_labels}\")\n",
    "        print(f\"Percentage of machine-generated content: {machine_generated_percentage:.2f}%\")\n",
    "        print(f\"Percentage of human-generated content: {human_generated_percentage:.2f}%\")\n",
    "        print(\"\\nVisualizing the results:\")\n",
    "        visualize_text_with_colors(new_text1, predicted_labels)\n",
    "\n",
    "    except Exception as e:\n",
    "        print(\"\\nAn error occurred during analysis. Please check your input.\")\n",
    "        print(f\"Error details: {str(e)}\")\n"
   ]
  },
  {
   "cell_type": "code",
   "execution_count": null,
   "metadata": {
    "colab": {
     "base_uri": "https://localhost:8080/",
     "height": 191
    },
    "id": "QoGLH79HAO43",
    "outputId": "44280f21-aa20-46be-9aa3-6360e013e8dd"
   },
   "outputs": [],
   "source": [
    "train_texts[0]"
   ]
  },
  {
   "cell_type": "code",
   "execution_count": null,
   "metadata": {
    "colab": {
     "base_uri": "https://localhost:8080/",
     "height": 191
    },
    "id": "jSwq8USCAO2o",
    "outputId": "0931e93c-c6fa-4062-fdf8-6975d656ddf8"
   },
   "outputs": [],
   "source": [
    "train_texts[1]"
   ]
  },
  {
   "cell_type": "code",
   "execution_count": null,
   "metadata": {
    "id": "OuAve__gVR-1"
   },
   "outputs": [],
   "source": [
    "def predict_multiple_boundaries(model, text, tokenizer, max_len, device):\n",
    "    model.eval()\n",
    "\n",
    "    encoding = tokenizer(\n",
    "        text,\n",
    "        max_length=max_len,\n",
    "        padding=\"max_length\",\n",
    "        truncation=True,\n",
    "        return_tensors=\"pt\",\n",
    "        return_special_tokens_mask=True\n",
    "    )\n",
    "\n",
    "    input_ids = encoding[\"input_ids\"].to(device)\n",
    "    attention_mask = encoding[\"attention_mask\"].to(device)\n",
    "\n",
    "    with torch.no_grad():\n",
    "        outputs = model.transformer(input_ids, attention_mask=attention_mask)\n",
    "        sequence_output = model.dropout(outputs.last_hidden_state)\n",
    "        logits = model.classifier(sequence_output)\n",
    "        mask = attention_mask.bool()\n",
    "        predictions = model.crf.decode(logits, mask)\n",
    "\n",
    "    pred_labels = predictions[0]\n",
    "\n",
    "    transition_indices = []\n",
    "    for i in range(1, len(pred_labels)):\n",
    "        if pred_labels[i] != pred_labels[i - 1]:\n",
    "            transition_indices.append(i)\n",
    "\n",
    "    return transition_indices, pred_labels\n"
   ]
  },
  {
   "cell_type": "code",
   "execution_count": null,
   "metadata": {
    "colab": {
     "base_uri": "https://localhost:8080/"
    },
    "id": "M_4FH3b6dhm9",
    "outputId": "1f34d818-0de7-4bf5-950c-f8f569365398"
   },
   "outputs": [],
   "source": [
    "new_text = train_texts[0] + train_texts[1]\n",
    "transition_indices, predicted_labels = predict_multiple_boundaries(\n",
    "    model=model,\n",
    "    text=new_text,\n",
    "    tokenizer=tokenizer,\n",
    "    max_len=512,\n",
    "    device=device\n",
    ")\n",
    "\n",
    "print(f\"Predicted transition indices: {transition_indices}\")\n",
    "print(f\"Predicted labels: {predicted_labels}\")\n",
    "\n"
   ]
  },
  {
   "cell_type": "code",
   "execution_count": null,
   "metadata": {
    "colab": {
     "base_uri": "https://localhost:8080/",
     "height": 191
    },
    "id": "vN6OZfLFs80W",
    "outputId": "7e045e74-db48-407e-8083-539f3fd564bd"
   },
   "outputs": [],
   "source": [
    "new_text"
   ]
  },
  {
   "cell_type": "code",
   "execution_count": null,
   "metadata": {
    "id": "jxJZ4ILqsNv1"
   },
   "outputs": [],
   "source": [
    "from itertools import groupby\n",
    "\n",
    "def underline(text):\n",
    "    return f\"\\033[4m{text}\\033[0m\"\n",
    "\n",
    "words = new_text1.split()\n",
    "word_labels = predicted_labels[:len(words)]\n",
    "\n",
    "formatted_words = [\n",
    "    underline(word) if label == 1 else word\n",
    "    for word, label in zip(words, word_labels)\n",
    "]\n",
    "\n",
    "formatted_text = ' '.join(formatted_words)\n"
   ]
  },
  {
   "cell_type": "code",
   "execution_count": null,
   "metadata": {
    "colab": {
     "base_uri": "https://localhost:8080/"
    },
    "id": "NCVxIE-Q1Q5R",
    "outputId": "2fac0f66-4537-4fb8-ea81-82effad53bfb"
   },
   "outputs": [],
   "source": [
    "print(formatted_text)"
   ]
  },
  {
   "cell_type": "code",
   "execution_count": null,
   "metadata": {
    "colab": {
     "base_uri": "https://localhost:8080/"
    },
    "id": "3TP82M1521P5",
    "outputId": "3149bb13-c1b0-4193-cb43-24309dcf593a"
   },
   "outputs": [],
   "source": [
    "new_text1 = train_texts[0]\n",
    "transition_indices, predicted_labels, machine_generated_percentage = predict_multiple_boundaries(\n",
    "    model=model,\n",
    "    text=new_text1,\n",
    "    tokenizer=tokenizer,\n",
    "    max_len=512,\n",
    "    device=device\n",
    ")\n",
    "\n",
    "print(f\"Predicted transition indices: {transition_indices}\")\n",
    "print(f\"Predicted labels: {predicted_labels}\")\n",
    "print(f\"Percentage of machine-generated content: {machine_generated_percentage:.2f}%\")"
   ]
  },
  {
   "cell_type": "code",
   "execution_count": null,
   "metadata": {
    "id": "9Sy6RMxa9ySW"
   },
   "outputs": [],
   "source": []
  },
  {
   "cell_type": "code",
   "execution_count": null,
   "metadata": {
    "colab": {
     "base_uri": "https://localhost:8080/",
     "height": 419
    },
    "id": "EWEUpx4I3r0C",
    "outputId": "f3932137-1272-42d9-d966-f7067c9da9fa"
   },
   "outputs": [],
   "source": [
    "transition_indices, predicted_labels, machine_generated_percentage = predict_multiple_boundaries(\n",
    "    model=model,\n",
    "    text=new_text,\n",
    "    tokenizer=tokenizer,\n",
    "    max_len=512,\n",
    "    device=device\n",
    ")\n",
    "\n",
    "print(f\"Predicted transition indices: {transition_indices}\")\n",
    "print(f\"Predicted labels: {predicted_labels}\")\n",
    "print(f\"Percentage of machine-generated content: {machine_generated_percentage:.2f}%\")\n",
    "\n",
    "visualize_text_with_colors(new_text, predicted_labels)"
   ]
  }
 ],
 "metadata": {
  "accelerator": "GPU",
  "colab": {
   "gpuType": "T4",
   "provenance": []
  },
  "kernelspec": {
   "display_name": "Python 3 (ipykernel)",
   "language": "python",
   "name": "python3"
  },
  "language_info": {
   "codemirror_mode": {
    "name": "ipython",
    "version": 3
   },
   "file_extension": ".py",
   "mimetype": "text/x-python",
   "name": "python",
   "nbconvert_exporter": "python",
   "pygments_lexer": "ipython3",
   "version": "3.10.11"
  },
  "widgets": {
   "application/vnd.jupyter.widget-state+json": {
    "0a2663b2a30449cabec5d5f98e72482a": {
     "model_module": "@jupyter-widgets/controls",
     "model_module_version": "1.5.0",
     "model_name": "FloatProgressModel",
     "state": {
      "_dom_classes": [],
      "_model_module": "@jupyter-widgets/controls",
      "_model_module_version": "1.5.0",
      "_model_name": "FloatProgressModel",
      "_view_count": null,
      "_view_module": "@jupyter-widgets/controls",
      "_view_module_version": "1.5.0",
      "_view_name": "ProgressView",
      "bar_style": "success",
      "description": "",
      "description_tooltip": null,
      "layout": "IPY_MODEL_a1e34930a1264b48a9c3a7c4c511bf31",
      "max": 1312669,
      "min": 0,
      "orientation": "horizontal",
      "style": "IPY_MODEL_287fa329531948d49da3110750597b25",
      "value": 1312669
     }
    },
    "0e3799dad9a544ba961f4f3ddad40262": {
     "model_module": "@jupyter-widgets/controls",
     "model_module_version": "1.5.0",
     "model_name": "HTMLModel",
     "state": {
      "_dom_classes": [],
      "_model_module": "@jupyter-widgets/controls",
      "_model_module_version": "1.5.0",
      "_model_name": "HTMLModel",
      "_view_count": null,
      "_view_module": "@jupyter-widgets/controls",
      "_view_module_version": "1.5.0",
      "_view_name": "HTMLView",
      "description": "",
      "description_tooltip": null,
      "layout": "IPY_MODEL_66b67a2025c440698be72b95f84e2376",
      "placeholder": "​",
      "style": "IPY_MODEL_36540c26ee254db294176160f466ce26",
      "value": " 47.4M/47.4M [00:00&lt;00:00, 211MB/s]"
     }
    },
    "13700e49ab2c4ee0a619def9f093a95f": {
     "model_module": "@jupyter-widgets/controls",
     "model_module_version": "1.5.0",
     "model_name": "HTMLModel",
     "state": {
      "_dom_classes": [],
      "_model_module": "@jupyter-widgets/controls",
      "_model_module_version": "1.5.0",
      "_model_name": "HTMLModel",
      "_view_count": null,
      "_view_module": "@jupyter-widgets/controls",
      "_view_module_version": "1.5.0",
      "_view_name": "HTMLView",
      "description": "",
      "description_tooltip": null,
      "layout": "IPY_MODEL_731cf1e7a7234918b220a0c7279795c2",
      "placeholder": "​",
      "style": "IPY_MODEL_1a08337950284c0cacb6897f1062f70b",
      "value": "model.safetensors: 100%"
     }
    },
    "196854f493804a33a750c7b6d4007f73": {
     "model_module": "@jupyter-widgets/base",
     "model_module_version": "1.2.0",
     "model_name": "LayoutModel",
     "state": {
      "_model_module": "@jupyter-widgets/base",
      "_model_module_version": "1.2.0",
      "_model_name": "LayoutModel",
      "_view_count": null,
      "_view_module": "@jupyter-widgets/base",
      "_view_module_version": "1.2.0",
      "_view_name": "LayoutView",
      "align_content": null,
      "align_items": null,
      "align_self": null,
      "border": null,
      "bottom": null,
      "display": null,
      "flex": null,
      "flex_flow": null,
      "grid_area": null,
      "grid_auto_columns": null,
      "grid_auto_flow": null,
      "grid_auto_rows": null,
      "grid_column": null,
      "grid_gap": null,
      "grid_row": null,
      "grid_template_areas": null,
      "grid_template_columns": null,
      "grid_template_rows": null,
      "height": null,
      "justify_content": null,
      "justify_items": null,
      "left": null,
      "margin": null,
      "max_height": null,
      "max_width": null,
      "min_height": null,
      "min_width": null,
      "object_fit": null,
      "object_position": null,
      "order": null,
      "overflow": null,
      "overflow_x": null,
      "overflow_y": null,
      "padding": null,
      "right": null,
      "top": null,
      "visibility": null,
      "width": null
     }
    },
    "1a08337950284c0cacb6897f1062f70b": {
     "model_module": "@jupyter-widgets/controls",
     "model_module_version": "1.5.0",
     "model_name": "DescriptionStyleModel",
     "state": {
      "_model_module": "@jupyter-widgets/controls",
      "_model_module_version": "1.5.0",
      "_model_name": "DescriptionStyleModel",
      "_view_count": null,
      "_view_module": "@jupyter-widgets/base",
      "_view_module_version": "1.2.0",
      "_view_name": "StyleView",
      "description_width": ""
     }
    },
    "1f64b82f21d24bf1ab323dc396e0c9d5": {
     "model_module": "@jupyter-widgets/controls",
     "model_module_version": "1.5.0",
     "model_name": "HBoxModel",
     "state": {
      "_dom_classes": [],
      "_model_module": "@jupyter-widgets/controls",
      "_model_module_version": "1.5.0",
      "_model_name": "HBoxModel",
      "_view_count": null,
      "_view_module": "@jupyter-widgets/controls",
      "_view_module_version": "1.5.0",
      "_view_name": "HBoxView",
      "box_style": "",
      "children": [
       "IPY_MODEL_13700e49ab2c4ee0a619def9f093a95f",
       "IPY_MODEL_caaf8e2b17f845caa2df9da033c7f867",
       "IPY_MODEL_0e3799dad9a544ba961f4f3ddad40262"
      ],
      "layout": "IPY_MODEL_48279d6178c14ce199e36f5a276346be"
     }
    },
    "21cd14fcf9d94563827b3cd3f82900c3": {
     "model_module": "@jupyter-widgets/controls",
     "model_module_version": "1.5.0",
     "model_name": "HBoxModel",
     "state": {
      "_dom_classes": [],
      "_model_module": "@jupyter-widgets/controls",
      "_model_module_version": "1.5.0",
      "_model_name": "HBoxModel",
      "_view_count": null,
      "_view_module": "@jupyter-widgets/controls",
      "_view_module_version": "1.5.0",
      "_view_name": "HBoxView",
      "box_style": "",
      "children": [
       "IPY_MODEL_ac8809c673a8400da06c2d9f00cfd5e8",
       "IPY_MODEL_96fbaabc3cd94401884dd12116482aaf",
       "IPY_MODEL_e5c7e6b53fd948cebcc917241936b065"
      ],
      "layout": "IPY_MODEL_966b26a60a0f4bd0a8da0adc9b33e65d"
     }
    },
    "237a671b08d64e7b9158e108c575a3bd": {
     "model_module": "@jupyter-widgets/controls",
     "model_module_version": "1.5.0",
     "model_name": "ProgressStyleModel",
     "state": {
      "_model_module": "@jupyter-widgets/controls",
      "_model_module_version": "1.5.0",
      "_model_name": "ProgressStyleModel",
      "_view_count": null,
      "_view_module": "@jupyter-widgets/base",
      "_view_module_version": "1.2.0",
      "_view_name": "StyleView",
      "bar_color": null,
      "description_width": ""
     }
    },
    "241e7fcf80f34c12a9cb5320f051752c": {
     "model_module": "@jupyter-widgets/base",
     "model_module_version": "1.2.0",
     "model_name": "LayoutModel",
     "state": {
      "_model_module": "@jupyter-widgets/base",
      "_model_module_version": "1.2.0",
      "_model_name": "LayoutModel",
      "_view_count": null,
      "_view_module": "@jupyter-widgets/base",
      "_view_module_version": "1.2.0",
      "_view_name": "LayoutView",
      "align_content": null,
      "align_items": null,
      "align_self": null,
      "border": null,
      "bottom": null,
      "display": null,
      "flex": null,
      "flex_flow": null,
      "grid_area": null,
      "grid_auto_columns": null,
      "grid_auto_flow": null,
      "grid_auto_rows": null,
      "grid_column": null,
      "grid_gap": null,
      "grid_row": null,
      "grid_template_areas": null,
      "grid_template_columns": null,
      "grid_template_rows": null,
      "height": null,
      "justify_content": null,
      "justify_items": null,
      "left": null,
      "margin": null,
      "max_height": null,
      "max_width": null,
      "min_height": null,
      "min_width": null,
      "object_fit": null,
      "object_position": null,
      "order": null,
      "overflow": null,
      "overflow_x": null,
      "overflow_y": null,
      "padding": null,
      "right": null,
      "top": null,
      "visibility": null,
      "width": null
     }
    },
    "287fa329531948d49da3110750597b25": {
     "model_module": "@jupyter-widgets/controls",
     "model_module_version": "1.5.0",
     "model_name": "ProgressStyleModel",
     "state": {
      "_model_module": "@jupyter-widgets/controls",
      "_model_module_version": "1.5.0",
      "_model_name": "ProgressStyleModel",
      "_view_count": null,
      "_view_module": "@jupyter-widgets/base",
      "_view_module_version": "1.2.0",
      "_view_name": "StyleView",
      "bar_color": null,
      "description_width": ""
     }
    },
    "301d3b984d6545bdbc38e0604b515bd1": {
     "model_module": "@jupyter-widgets/controls",
     "model_module_version": "1.5.0",
     "model_name": "HTMLModel",
     "state": {
      "_dom_classes": [],
      "_model_module": "@jupyter-widgets/controls",
      "_model_module_version": "1.5.0",
      "_model_name": "HTMLModel",
      "_view_count": null,
      "_view_module": "@jupyter-widgets/controls",
      "_view_module_version": "1.5.0",
      "_view_name": "HTMLView",
      "description": "",
      "description_tooltip": null,
      "layout": "IPY_MODEL_d0e181016c3a411398b0941ef7785670",
      "placeholder": "​",
      "style": "IPY_MODEL_72d6aa0c415741fcac82e7bea6e66d93",
      "value": "tokenizer.json: 100%"
     }
    },
    "3479eead411b4e9690e2550035e54d8e": {
     "model_module": "@jupyter-widgets/controls",
     "model_module_version": "1.5.0",
     "model_name": "DescriptionStyleModel",
     "state": {
      "_model_module": "@jupyter-widgets/controls",
      "_model_module_version": "1.5.0",
      "_model_name": "DescriptionStyleModel",
      "_view_count": null,
      "_view_module": "@jupyter-widgets/base",
      "_view_module_version": "1.2.0",
      "_view_name": "StyleView",
      "description_width": ""
     }
    },
    "3618cdc4fb904804b4e8f943e0646943": {
     "model_module": "@jupyter-widgets/controls",
     "model_module_version": "1.5.0",
     "model_name": "ProgressStyleModel",
     "state": {
      "_model_module": "@jupyter-widgets/controls",
      "_model_module_version": "1.5.0",
      "_model_name": "ProgressStyleModel",
      "_view_count": null,
      "_view_module": "@jupyter-widgets/base",
      "_view_module_version": "1.2.0",
      "_view_name": "StyleView",
      "bar_color": null,
      "description_width": ""
     }
    },
    "36540c26ee254db294176160f466ce26": {
     "model_module": "@jupyter-widgets/controls",
     "model_module_version": "1.5.0",
     "model_name": "DescriptionStyleModel",
     "state": {
      "_model_module": "@jupyter-widgets/controls",
      "_model_module_version": "1.5.0",
      "_model_name": "DescriptionStyleModel",
      "_view_count": null,
      "_view_module": "@jupyter-widgets/base",
      "_view_module_version": "1.2.0",
      "_view_name": "StyleView",
      "description_width": ""
     }
    },
    "3ad92f49a4584ab69266ccdda334ad47": {
     "model_module": "@jupyter-widgets/controls",
     "model_module_version": "1.5.0",
     "model_name": "FloatProgressModel",
     "state": {
      "_dom_classes": [],
      "_model_module": "@jupyter-widgets/controls",
      "_model_module_version": "1.5.0",
      "_model_name": "FloatProgressModel",
      "_view_count": null,
      "_view_module": "@jupyter-widgets/controls",
      "_view_module_version": "1.5.0",
      "_view_name": "ProgressView",
      "bar_style": "success",
      "description": "",
      "description_tooltip": null,
      "layout": "IPY_MODEL_dfef4d47207b471caeba278ed477b450",
      "max": 25,
      "min": 0,
      "orientation": "horizontal",
      "style": "IPY_MODEL_8b3257207ce2480ea90dd8c6f783ea8f",
      "value": 25
     }
    },
    "3bf6013f4fc54c4da1d629925fee30d4": {
     "model_module": "@jupyter-widgets/controls",
     "model_module_version": "1.5.0",
     "model_name": "HBoxModel",
     "state": {
      "_dom_classes": [],
      "_model_module": "@jupyter-widgets/controls",
      "_model_module_version": "1.5.0",
      "_model_name": "HBoxModel",
      "_view_count": null,
      "_view_module": "@jupyter-widgets/controls",
      "_view_module_version": "1.5.0",
      "_view_name": "HBoxView",
      "box_style": "",
      "children": [
       "IPY_MODEL_dcbe01fd12e64414a76a7b1ac1453acf",
       "IPY_MODEL_3ad92f49a4584ab69266ccdda334ad47",
       "IPY_MODEL_7df1fef94cdc4061ba6c1dd626297fcb"
      ],
      "layout": "IPY_MODEL_ba3d614b2db64263bd5da32554b32a8d"
     }
    },
    "42587859ef0a4262b50707a1471f39ab": {
     "model_module": "@jupyter-widgets/base",
     "model_module_version": "1.2.0",
     "model_name": "LayoutModel",
     "state": {
      "_model_module": "@jupyter-widgets/base",
      "_model_module_version": "1.2.0",
      "_model_name": "LayoutModel",
      "_view_count": null,
      "_view_module": "@jupyter-widgets/base",
      "_view_module_version": "1.2.0",
      "_view_name": "LayoutView",
      "align_content": null,
      "align_items": null,
      "align_self": null,
      "border": null,
      "bottom": null,
      "display": null,
      "flex": null,
      "flex_flow": null,
      "grid_area": null,
      "grid_auto_columns": null,
      "grid_auto_flow": null,
      "grid_auto_rows": null,
      "grid_column": null,
      "grid_gap": null,
      "grid_row": null,
      "grid_template_areas": null,
      "grid_template_columns": null,
      "grid_template_rows": null,
      "height": null,
      "justify_content": null,
      "justify_items": null,
      "left": null,
      "margin": null,
      "max_height": null,
      "max_width": null,
      "min_height": null,
      "min_width": null,
      "object_fit": null,
      "object_position": null,
      "order": null,
      "overflow": null,
      "overflow_x": null,
      "overflow_y": null,
      "padding": null,
      "right": null,
      "top": null,
      "visibility": null,
      "width": null
     }
    },
    "445cf976eb994fbea4d97a6aefbcf208": {
     "model_module": "@jupyter-widgets/controls",
     "model_module_version": "1.5.0",
     "model_name": "DescriptionStyleModel",
     "state": {
      "_model_module": "@jupyter-widgets/controls",
      "_model_module_version": "1.5.0",
      "_model_name": "DescriptionStyleModel",
      "_view_count": null,
      "_view_module": "@jupyter-widgets/base",
      "_view_module_version": "1.2.0",
      "_view_name": "StyleView",
      "description_width": ""
     }
    },
    "48279d6178c14ce199e36f5a276346be": {
     "model_module": "@jupyter-widgets/base",
     "model_module_version": "1.2.0",
     "model_name": "LayoutModel",
     "state": {
      "_model_module": "@jupyter-widgets/base",
      "_model_module_version": "1.2.0",
      "_model_name": "LayoutModel",
      "_view_count": null,
      "_view_module": "@jupyter-widgets/base",
      "_view_module_version": "1.2.0",
      "_view_name": "LayoutView",
      "align_content": null,
      "align_items": null,
      "align_self": null,
      "border": null,
      "bottom": null,
      "display": null,
      "flex": null,
      "flex_flow": null,
      "grid_area": null,
      "grid_auto_columns": null,
      "grid_auto_flow": null,
      "grid_auto_rows": null,
      "grid_column": null,
      "grid_gap": null,
      "grid_row": null,
      "grid_template_areas": null,
      "grid_template_columns": null,
      "grid_template_rows": null,
      "height": null,
      "justify_content": null,
      "justify_items": null,
      "left": null,
      "margin": null,
      "max_height": null,
      "max_width": null,
      "min_height": null,
      "min_width": null,
      "object_fit": null,
      "object_position": null,
      "order": null,
      "overflow": null,
      "overflow_x": null,
      "overflow_y": null,
      "padding": null,
      "right": null,
      "top": null,
      "visibility": null,
      "width": null
     }
    },
    "48c0539f61a746fa8123116fa5e50079": {
     "model_module": "@jupyter-widgets/controls",
     "model_module_version": "1.5.0",
     "model_name": "HTMLModel",
     "state": {
      "_dom_classes": [],
      "_model_module": "@jupyter-widgets/controls",
      "_model_module_version": "1.5.0",
      "_model_name": "HTMLModel",
      "_view_count": null,
      "_view_module": "@jupyter-widgets/controls",
      "_view_module_version": "1.5.0",
      "_view_name": "HTMLView",
      "description": "",
      "description_tooltip": null,
      "layout": "IPY_MODEL_f52ab2b5e8444630be873ffd9e3f75ad",
      "placeholder": "​",
      "style": "IPY_MODEL_3479eead411b4e9690e2550035e54d8e",
      "value": "spiece.model: 100%"
     }
    },
    "4c5a099a134644889d30e3c3f926ce54": {
     "model_module": "@jupyter-widgets/controls",
     "model_module_version": "1.5.0",
     "model_name": "HTMLModel",
     "state": {
      "_dom_classes": [],
      "_model_module": "@jupyter-widgets/controls",
      "_model_module_version": "1.5.0",
      "_model_name": "HTMLModel",
      "_view_count": null,
      "_view_module": "@jupyter-widgets/controls",
      "_view_module_version": "1.5.0",
      "_view_name": "HTMLView",
      "description": "",
      "description_tooltip": null,
      "layout": "IPY_MODEL_196854f493804a33a750c7b6d4007f73",
      "placeholder": "​",
      "style": "IPY_MODEL_9ffecd67d63a482d90fb90f7e5719d13",
      "value": " 1.31M/1.31M [00:00&lt;00:00, 6.11MB/s]"
     }
    },
    "5094a43e9576485cbc314aae59ebcac6": {
     "model_module": "@jupyter-widgets/base",
     "model_module_version": "1.2.0",
     "model_name": "LayoutModel",
     "state": {
      "_model_module": "@jupyter-widgets/base",
      "_model_module_version": "1.2.0",
      "_model_name": "LayoutModel",
      "_view_count": null,
      "_view_module": "@jupyter-widgets/base",
      "_view_module_version": "1.2.0",
      "_view_name": "LayoutView",
      "align_content": null,
      "align_items": null,
      "align_self": null,
      "border": null,
      "bottom": null,
      "display": null,
      "flex": null,
      "flex_flow": null,
      "grid_area": null,
      "grid_auto_columns": null,
      "grid_auto_flow": null,
      "grid_auto_rows": null,
      "grid_column": null,
      "grid_gap": null,
      "grid_row": null,
      "grid_template_areas": null,
      "grid_template_columns": null,
      "grid_template_rows": null,
      "height": null,
      "justify_content": null,
      "justify_items": null,
      "left": null,
      "margin": null,
      "max_height": null,
      "max_width": null,
      "min_height": null,
      "min_width": null,
      "object_fit": null,
      "object_position": null,
      "order": null,
      "overflow": null,
      "overflow_x": null,
      "overflow_y": null,
      "padding": null,
      "right": null,
      "top": null,
      "visibility": null,
      "width": null
     }
    },
    "573aa0c3c69f4bca89323bb931cb6cf2": {
     "model_module": "@jupyter-widgets/base",
     "model_module_version": "1.2.0",
     "model_name": "LayoutModel",
     "state": {
      "_model_module": "@jupyter-widgets/base",
      "_model_module_version": "1.2.0",
      "_model_name": "LayoutModel",
      "_view_count": null,
      "_view_module": "@jupyter-widgets/base",
      "_view_module_version": "1.2.0",
      "_view_name": "LayoutView",
      "align_content": null,
      "align_items": null,
      "align_self": null,
      "border": null,
      "bottom": null,
      "display": null,
      "flex": null,
      "flex_flow": null,
      "grid_area": null,
      "grid_auto_columns": null,
      "grid_auto_flow": null,
      "grid_auto_rows": null,
      "grid_column": null,
      "grid_gap": null,
      "grid_row": null,
      "grid_template_areas": null,
      "grid_template_columns": null,
      "grid_template_rows": null,
      "height": null,
      "justify_content": null,
      "justify_items": null,
      "left": null,
      "margin": null,
      "max_height": null,
      "max_width": null,
      "min_height": null,
      "min_width": null,
      "object_fit": null,
      "object_position": null,
      "order": null,
      "overflow": null,
      "overflow_x": null,
      "overflow_y": null,
      "padding": null,
      "right": null,
      "top": null,
      "visibility": null,
      "width": null
     }
    },
    "66b67a2025c440698be72b95f84e2376": {
     "model_module": "@jupyter-widgets/base",
     "model_module_version": "1.2.0",
     "model_name": "LayoutModel",
     "state": {
      "_model_module": "@jupyter-widgets/base",
      "_model_module_version": "1.2.0",
      "_model_name": "LayoutModel",
      "_view_count": null,
      "_view_module": "@jupyter-widgets/base",
      "_view_module_version": "1.2.0",
      "_view_name": "LayoutView",
      "align_content": null,
      "align_items": null,
      "align_self": null,
      "border": null,
      "bottom": null,
      "display": null,
      "flex": null,
      "flex_flow": null,
      "grid_area": null,
      "grid_auto_columns": null,
      "grid_auto_flow": null,
      "grid_auto_rows": null,
      "grid_column": null,
      "grid_gap": null,
      "grid_row": null,
      "grid_template_areas": null,
      "grid_template_columns": null,
      "grid_template_rows": null,
      "height": null,
      "justify_content": null,
      "justify_items": null,
      "left": null,
      "margin": null,
      "max_height": null,
      "max_width": null,
      "min_height": null,
      "min_width": null,
      "object_fit": null,
      "object_position": null,
      "order": null,
      "overflow": null,
      "overflow_x": null,
      "overflow_y": null,
      "padding": null,
      "right": null,
      "top": null,
      "visibility": null,
      "width": null
     }
    },
    "6d2fd2f841074da19537e10c8fb72735": {
     "model_module": "@jupyter-widgets/controls",
     "model_module_version": "1.5.0",
     "model_name": "DescriptionStyleModel",
     "state": {
      "_model_module": "@jupyter-widgets/controls",
      "_model_module_version": "1.5.0",
      "_model_name": "DescriptionStyleModel",
      "_view_count": null,
      "_view_module": "@jupyter-widgets/base",
      "_view_module_version": "1.2.0",
      "_view_name": "StyleView",
      "description_width": ""
     }
    },
    "6e86d18e08c64473a2674ed7f4975321": {
     "model_module": "@jupyter-widgets/base",
     "model_module_version": "1.2.0",
     "model_name": "LayoutModel",
     "state": {
      "_model_module": "@jupyter-widgets/base",
      "_model_module_version": "1.2.0",
      "_model_name": "LayoutModel",
      "_view_count": null,
      "_view_module": "@jupyter-widgets/base",
      "_view_module_version": "1.2.0",
      "_view_name": "LayoutView",
      "align_content": null,
      "align_items": null,
      "align_self": null,
      "border": null,
      "bottom": null,
      "display": null,
      "flex": null,
      "flex_flow": null,
      "grid_area": null,
      "grid_auto_columns": null,
      "grid_auto_flow": null,
      "grid_auto_rows": null,
      "grid_column": null,
      "grid_gap": null,
      "grid_row": null,
      "grid_template_areas": null,
      "grid_template_columns": null,
      "grid_template_rows": null,
      "height": null,
      "justify_content": null,
      "justify_items": null,
      "left": null,
      "margin": null,
      "max_height": null,
      "max_width": null,
      "min_height": null,
      "min_width": null,
      "object_fit": null,
      "object_position": null,
      "order": null,
      "overflow": null,
      "overflow_x": null,
      "overflow_y": null,
      "padding": null,
      "right": null,
      "top": null,
      "visibility": null,
      "width": null
     }
    },
    "72d6aa0c415741fcac82e7bea6e66d93": {
     "model_module": "@jupyter-widgets/controls",
     "model_module_version": "1.5.0",
     "model_name": "DescriptionStyleModel",
     "state": {
      "_model_module": "@jupyter-widgets/controls",
      "_model_module_version": "1.5.0",
      "_model_name": "DescriptionStyleModel",
      "_view_count": null,
      "_view_module": "@jupyter-widgets/base",
      "_view_module_version": "1.2.0",
      "_view_name": "StyleView",
      "description_width": ""
     }
    },
    "731cf1e7a7234918b220a0c7279795c2": {
     "model_module": "@jupyter-widgets/base",
     "model_module_version": "1.2.0",
     "model_name": "LayoutModel",
     "state": {
      "_model_module": "@jupyter-widgets/base",
      "_model_module_version": "1.2.0",
      "_model_name": "LayoutModel",
      "_view_count": null,
      "_view_module": "@jupyter-widgets/base",
      "_view_module_version": "1.2.0",
      "_view_name": "LayoutView",
      "align_content": null,
      "align_items": null,
      "align_self": null,
      "border": null,
      "bottom": null,
      "display": null,
      "flex": null,
      "flex_flow": null,
      "grid_area": null,
      "grid_auto_columns": null,
      "grid_auto_flow": null,
      "grid_auto_rows": null,
      "grid_column": null,
      "grid_gap": null,
      "grid_row": null,
      "grid_template_areas": null,
      "grid_template_columns": null,
      "grid_template_rows": null,
      "height": null,
      "justify_content": null,
      "justify_items": null,
      "left": null,
      "margin": null,
      "max_height": null,
      "max_width": null,
      "min_height": null,
      "min_width": null,
      "object_fit": null,
      "object_position": null,
      "order": null,
      "overflow": null,
      "overflow_x": null,
      "overflow_y": null,
      "padding": null,
      "right": null,
      "top": null,
      "visibility": null,
      "width": null
     }
    },
    "7a7cf8a5aeea4ff9a4681d0481c6371f": {
     "model_module": "@jupyter-widgets/controls",
     "model_module_version": "1.5.0",
     "model_name": "DescriptionStyleModel",
     "state": {
      "_model_module": "@jupyter-widgets/controls",
      "_model_module_version": "1.5.0",
      "_model_name": "DescriptionStyleModel",
      "_view_count": null,
      "_view_module": "@jupyter-widgets/base",
      "_view_module_version": "1.2.0",
      "_view_name": "StyleView",
      "description_width": ""
     }
    },
    "7df1fef94cdc4061ba6c1dd626297fcb": {
     "model_module": "@jupyter-widgets/controls",
     "model_module_version": "1.5.0",
     "model_name": "HTMLModel",
     "state": {
      "_dom_classes": [],
      "_model_module": "@jupyter-widgets/controls",
      "_model_module_version": "1.5.0",
      "_model_name": "HTMLModel",
      "_view_count": null,
      "_view_module": "@jupyter-widgets/controls",
      "_view_module_version": "1.5.0",
      "_view_name": "HTMLView",
      "description": "",
      "description_tooltip": null,
      "layout": "IPY_MODEL_fff920cc6f154220beeff16b5ac2928c",
      "placeholder": "​",
      "style": "IPY_MODEL_6d2fd2f841074da19537e10c8fb72735",
      "value": " 25.0/25.0 [00:00&lt;00:00, 1.73kB/s]"
     }
    },
    "851527e3969b4164ba260637eaf636f0": {
     "model_module": "@jupyter-widgets/base",
     "model_module_version": "1.2.0",
     "model_name": "LayoutModel",
     "state": {
      "_model_module": "@jupyter-widgets/base",
      "_model_module_version": "1.2.0",
      "_model_name": "LayoutModel",
      "_view_count": null,
      "_view_module": "@jupyter-widgets/base",
      "_view_module_version": "1.2.0",
      "_view_name": "LayoutView",
      "align_content": null,
      "align_items": null,
      "align_self": null,
      "border": null,
      "bottom": null,
      "display": null,
      "flex": null,
      "flex_flow": null,
      "grid_area": null,
      "grid_auto_columns": null,
      "grid_auto_flow": null,
      "grid_auto_rows": null,
      "grid_column": null,
      "grid_gap": null,
      "grid_row": null,
      "grid_template_areas": null,
      "grid_template_columns": null,
      "grid_template_rows": null,
      "height": null,
      "justify_content": null,
      "justify_items": null,
      "left": null,
      "margin": null,
      "max_height": null,
      "max_width": null,
      "min_height": null,
      "min_width": null,
      "object_fit": null,
      "object_position": null,
      "order": null,
      "overflow": null,
      "overflow_x": null,
      "overflow_y": null,
      "padding": null,
      "right": null,
      "top": null,
      "visibility": null,
      "width": null
     }
    },
    "8b3257207ce2480ea90dd8c6f783ea8f": {
     "model_module": "@jupyter-widgets/controls",
     "model_module_version": "1.5.0",
     "model_name": "ProgressStyleModel",
     "state": {
      "_model_module": "@jupyter-widgets/controls",
      "_model_module_version": "1.5.0",
      "_model_name": "ProgressStyleModel",
      "_view_count": null,
      "_view_module": "@jupyter-widgets/base",
      "_view_module_version": "1.2.0",
      "_view_name": "StyleView",
      "bar_color": null,
      "description_width": ""
     }
    },
    "8c6f146f25c643d6bebab1da89a40ba0": {
     "model_module": "@jupyter-widgets/base",
     "model_module_version": "1.2.0",
     "model_name": "LayoutModel",
     "state": {
      "_model_module": "@jupyter-widgets/base",
      "_model_module_version": "1.2.0",
      "_model_name": "LayoutModel",
      "_view_count": null,
      "_view_module": "@jupyter-widgets/base",
      "_view_module_version": "1.2.0",
      "_view_name": "LayoutView",
      "align_content": null,
      "align_items": null,
      "align_self": null,
      "border": null,
      "bottom": null,
      "display": null,
      "flex": null,
      "flex_flow": null,
      "grid_area": null,
      "grid_auto_columns": null,
      "grid_auto_flow": null,
      "grid_auto_rows": null,
      "grid_column": null,
      "grid_gap": null,
      "grid_row": null,
      "grid_template_areas": null,
      "grid_template_columns": null,
      "grid_template_rows": null,
      "height": null,
      "justify_content": null,
      "justify_items": null,
      "left": null,
      "margin": null,
      "max_height": null,
      "max_width": null,
      "min_height": null,
      "min_width": null,
      "object_fit": null,
      "object_position": null,
      "order": null,
      "overflow": null,
      "overflow_x": null,
      "overflow_y": null,
      "padding": null,
      "right": null,
      "top": null,
      "visibility": null,
      "width": null
     }
    },
    "966b26a60a0f4bd0a8da0adc9b33e65d": {
     "model_module": "@jupyter-widgets/base",
     "model_module_version": "1.2.0",
     "model_name": "LayoutModel",
     "state": {
      "_model_module": "@jupyter-widgets/base",
      "_model_module_version": "1.2.0",
      "_model_name": "LayoutModel",
      "_view_count": null,
      "_view_module": "@jupyter-widgets/base",
      "_view_module_version": "1.2.0",
      "_view_name": "LayoutView",
      "align_content": null,
      "align_items": null,
      "align_self": null,
      "border": null,
      "bottom": null,
      "display": null,
      "flex": null,
      "flex_flow": null,
      "grid_area": null,
      "grid_auto_columns": null,
      "grid_auto_flow": null,
      "grid_auto_rows": null,
      "grid_column": null,
      "grid_gap": null,
      "grid_row": null,
      "grid_template_areas": null,
      "grid_template_columns": null,
      "grid_template_rows": null,
      "height": null,
      "justify_content": null,
      "justify_items": null,
      "left": null,
      "margin": null,
      "max_height": null,
      "max_width": null,
      "min_height": null,
      "min_width": null,
      "object_fit": null,
      "object_position": null,
      "order": null,
      "overflow": null,
      "overflow_x": null,
      "overflow_y": null,
      "padding": null,
      "right": null,
      "top": null,
      "visibility": null,
      "width": null
     }
    },
    "96fbaabc3cd94401884dd12116482aaf": {
     "model_module": "@jupyter-widgets/controls",
     "model_module_version": "1.5.0",
     "model_name": "FloatProgressModel",
     "state": {
      "_dom_classes": [],
      "_model_module": "@jupyter-widgets/controls",
      "_model_module_version": "1.5.0",
      "_model_name": "FloatProgressModel",
      "_view_count": null,
      "_view_module": "@jupyter-widgets/controls",
      "_view_module_version": "1.5.0",
      "_view_name": "ProgressView",
      "bar_style": "success",
      "description": "",
      "description_tooltip": null,
      "layout": "IPY_MODEL_5094a43e9576485cbc314aae59ebcac6",
      "max": 684,
      "min": 0,
      "orientation": "horizontal",
      "style": "IPY_MODEL_3618cdc4fb904804b4e8f943e0646943",
      "value": 684
     }
    },
    "9fa140dff8fd4d8c93d5f8626bed8637": {
     "model_module": "@jupyter-widgets/base",
     "model_module_version": "1.2.0",
     "model_name": "LayoutModel",
     "state": {
      "_model_module": "@jupyter-widgets/base",
      "_model_module_version": "1.2.0",
      "_model_name": "LayoutModel",
      "_view_count": null,
      "_view_module": "@jupyter-widgets/base",
      "_view_module_version": "1.2.0",
      "_view_name": "LayoutView",
      "align_content": null,
      "align_items": null,
      "align_self": null,
      "border": null,
      "bottom": null,
      "display": null,
      "flex": null,
      "flex_flow": null,
      "grid_area": null,
      "grid_auto_columns": null,
      "grid_auto_flow": null,
      "grid_auto_rows": null,
      "grid_column": null,
      "grid_gap": null,
      "grid_row": null,
      "grid_template_areas": null,
      "grid_template_columns": null,
      "grid_template_rows": null,
      "height": null,
      "justify_content": null,
      "justify_items": null,
      "left": null,
      "margin": null,
      "max_height": null,
      "max_width": null,
      "min_height": null,
      "min_width": null,
      "object_fit": null,
      "object_position": null,
      "order": null,
      "overflow": null,
      "overflow_x": null,
      "overflow_y": null,
      "padding": null,
      "right": null,
      "top": null,
      "visibility": null,
      "width": null
     }
    },
    "9ffecd67d63a482d90fb90f7e5719d13": {
     "model_module": "@jupyter-widgets/controls",
     "model_module_version": "1.5.0",
     "model_name": "DescriptionStyleModel",
     "state": {
      "_model_module": "@jupyter-widgets/controls",
      "_model_module_version": "1.5.0",
      "_model_name": "DescriptionStyleModel",
      "_view_count": null,
      "_view_module": "@jupyter-widgets/base",
      "_view_module_version": "1.2.0",
      "_view_name": "StyleView",
      "description_width": ""
     }
    },
    "a1e34930a1264b48a9c3a7c4c511bf31": {
     "model_module": "@jupyter-widgets/base",
     "model_module_version": "1.2.0",
     "model_name": "LayoutModel",
     "state": {
      "_model_module": "@jupyter-widgets/base",
      "_model_module_version": "1.2.0",
      "_model_name": "LayoutModel",
      "_view_count": null,
      "_view_module": "@jupyter-widgets/base",
      "_view_module_version": "1.2.0",
      "_view_name": "LayoutView",
      "align_content": null,
      "align_items": null,
      "align_self": null,
      "border": null,
      "bottom": null,
      "display": null,
      "flex": null,
      "flex_flow": null,
      "grid_area": null,
      "grid_auto_columns": null,
      "grid_auto_flow": null,
      "grid_auto_rows": null,
      "grid_column": null,
      "grid_gap": null,
      "grid_row": null,
      "grid_template_areas": null,
      "grid_template_columns": null,
      "grid_template_rows": null,
      "height": null,
      "justify_content": null,
      "justify_items": null,
      "left": null,
      "margin": null,
      "max_height": null,
      "max_width": null,
      "min_height": null,
      "min_width": null,
      "object_fit": null,
      "object_position": null,
      "order": null,
      "overflow": null,
      "overflow_x": null,
      "overflow_y": null,
      "padding": null,
      "right": null,
      "top": null,
      "visibility": null,
      "width": null
     }
    },
    "ac8809c673a8400da06c2d9f00cfd5e8": {
     "model_module": "@jupyter-widgets/controls",
     "model_module_version": "1.5.0",
     "model_name": "HTMLModel",
     "state": {
      "_dom_classes": [],
      "_model_module": "@jupyter-widgets/controls",
      "_model_module_version": "1.5.0",
      "_model_name": "HTMLModel",
      "_view_count": null,
      "_view_module": "@jupyter-widgets/controls",
      "_view_module_version": "1.5.0",
      "_view_name": "HTMLView",
      "description": "",
      "description_tooltip": null,
      "layout": "IPY_MODEL_9fa140dff8fd4d8c93d5f8626bed8637",
      "placeholder": "​",
      "style": "IPY_MODEL_af81f962459748aab18742fa87e7450f",
      "value": "config.json: 100%"
     }
    },
    "af81f962459748aab18742fa87e7450f": {
     "model_module": "@jupyter-widgets/controls",
     "model_module_version": "1.5.0",
     "model_name": "DescriptionStyleModel",
     "state": {
      "_model_module": "@jupyter-widgets/controls",
      "_model_module_version": "1.5.0",
      "_model_name": "DescriptionStyleModel",
      "_view_count": null,
      "_view_module": "@jupyter-widgets/base",
      "_view_module_version": "1.2.0",
      "_view_name": "StyleView",
      "description_width": ""
     }
    },
    "b43028d2ac884ac9a04ec7cf631c2d9d": {
     "model_module": "@jupyter-widgets/controls",
     "model_module_version": "1.5.0",
     "model_name": "HBoxModel",
     "state": {
      "_dom_classes": [],
      "_model_module": "@jupyter-widgets/controls",
      "_model_module_version": "1.5.0",
      "_model_name": "HBoxModel",
      "_view_count": null,
      "_view_module": "@jupyter-widgets/controls",
      "_view_module_version": "1.5.0",
      "_view_name": "HBoxView",
      "box_style": "",
      "children": [
       "IPY_MODEL_301d3b984d6545bdbc38e0604b515bd1",
       "IPY_MODEL_0a2663b2a30449cabec5d5f98e72482a",
       "IPY_MODEL_4c5a099a134644889d30e3c3f926ce54"
      ],
      "layout": "IPY_MODEL_f1e6b21b0e6641f7b1635d9c6e6a2ca8"
     }
    },
    "ba3d614b2db64263bd5da32554b32a8d": {
     "model_module": "@jupyter-widgets/base",
     "model_module_version": "1.2.0",
     "model_name": "LayoutModel",
     "state": {
      "_model_module": "@jupyter-widgets/base",
      "_model_module_version": "1.2.0",
      "_model_name": "LayoutModel",
      "_view_count": null,
      "_view_module": "@jupyter-widgets/base",
      "_view_module_version": "1.2.0",
      "_view_name": "LayoutView",
      "align_content": null,
      "align_items": null,
      "align_self": null,
      "border": null,
      "bottom": null,
      "display": null,
      "flex": null,
      "flex_flow": null,
      "grid_area": null,
      "grid_auto_columns": null,
      "grid_auto_flow": null,
      "grid_auto_rows": null,
      "grid_column": null,
      "grid_gap": null,
      "grid_row": null,
      "grid_template_areas": null,
      "grid_template_columns": null,
      "grid_template_rows": null,
      "height": null,
      "justify_content": null,
      "justify_items": null,
      "left": null,
      "margin": null,
      "max_height": null,
      "max_width": null,
      "min_height": null,
      "min_width": null,
      "object_fit": null,
      "object_position": null,
      "order": null,
      "overflow": null,
      "overflow_x": null,
      "overflow_y": null,
      "padding": null,
      "right": null,
      "top": null,
      "visibility": null,
      "width": null
     }
    },
    "caaf8e2b17f845caa2df9da033c7f867": {
     "model_module": "@jupyter-widgets/controls",
     "model_module_version": "1.5.0",
     "model_name": "FloatProgressModel",
     "state": {
      "_dom_classes": [],
      "_model_module": "@jupyter-widgets/controls",
      "_model_module_version": "1.5.0",
      "_model_name": "FloatProgressModel",
      "_view_count": null,
      "_view_module": "@jupyter-widgets/controls",
      "_view_module_version": "1.5.0",
      "_view_name": "ProgressView",
      "bar_style": "success",
      "description": "",
      "description_tooltip": null,
      "layout": "IPY_MODEL_573aa0c3c69f4bca89323bb931cb6cf2",
      "max": 47372894,
      "min": 0,
      "orientation": "horizontal",
      "style": "IPY_MODEL_237a671b08d64e7b9158e108c575a3bd",
      "value": 47372894
     }
    },
    "cec42c8ebea84940a22c22757de99341": {
     "model_module": "@jupyter-widgets/controls",
     "model_module_version": "1.5.0",
     "model_name": "ProgressStyleModel",
     "state": {
      "_model_module": "@jupyter-widgets/controls",
      "_model_module_version": "1.5.0",
      "_model_name": "ProgressStyleModel",
      "_view_count": null,
      "_view_module": "@jupyter-widgets/base",
      "_view_module_version": "1.2.0",
      "_view_name": "StyleView",
      "bar_color": null,
      "description_width": ""
     }
    },
    "d0e181016c3a411398b0941ef7785670": {
     "model_module": "@jupyter-widgets/base",
     "model_module_version": "1.2.0",
     "model_name": "LayoutModel",
     "state": {
      "_model_module": "@jupyter-widgets/base",
      "_model_module_version": "1.2.0",
      "_model_name": "LayoutModel",
      "_view_count": null,
      "_view_module": "@jupyter-widgets/base",
      "_view_module_version": "1.2.0",
      "_view_name": "LayoutView",
      "align_content": null,
      "align_items": null,
      "align_self": null,
      "border": null,
      "bottom": null,
      "display": null,
      "flex": null,
      "flex_flow": null,
      "grid_area": null,
      "grid_auto_columns": null,
      "grid_auto_flow": null,
      "grid_auto_rows": null,
      "grid_column": null,
      "grid_gap": null,
      "grid_row": null,
      "grid_template_areas": null,
      "grid_template_columns": null,
      "grid_template_rows": null,
      "height": null,
      "justify_content": null,
      "justify_items": null,
      "left": null,
      "margin": null,
      "max_height": null,
      "max_width": null,
      "min_height": null,
      "min_width": null,
      "object_fit": null,
      "object_position": null,
      "order": null,
      "overflow": null,
      "overflow_x": null,
      "overflow_y": null,
      "padding": null,
      "right": null,
      "top": null,
      "visibility": null,
      "width": null
     }
    },
    "d8860a6235f54cb48fcb7221c5aec19c": {
     "model_module": "@jupyter-widgets/controls",
     "model_module_version": "1.5.0",
     "model_name": "DescriptionStyleModel",
     "state": {
      "_model_module": "@jupyter-widgets/controls",
      "_model_module_version": "1.5.0",
      "_model_name": "DescriptionStyleModel",
      "_view_count": null,
      "_view_module": "@jupyter-widgets/base",
      "_view_module_version": "1.2.0",
      "_view_name": "StyleView",
      "description_width": ""
     }
    },
    "dcbe01fd12e64414a76a7b1ac1453acf": {
     "model_module": "@jupyter-widgets/controls",
     "model_module_version": "1.5.0",
     "model_name": "HTMLModel",
     "state": {
      "_dom_classes": [],
      "_model_module": "@jupyter-widgets/controls",
      "_model_module_version": "1.5.0",
      "_model_name": "HTMLModel",
      "_view_count": null,
      "_view_module": "@jupyter-widgets/controls",
      "_view_module_version": "1.5.0",
      "_view_name": "HTMLView",
      "description": "",
      "description_tooltip": null,
      "layout": "IPY_MODEL_241e7fcf80f34c12a9cb5320f051752c",
      "placeholder": "​",
      "style": "IPY_MODEL_d8860a6235f54cb48fcb7221c5aec19c",
      "value": "tokenizer_config.json: 100%"
     }
    },
    "dfef4d47207b471caeba278ed477b450": {
     "model_module": "@jupyter-widgets/base",
     "model_module_version": "1.2.0",
     "model_name": "LayoutModel",
     "state": {
      "_model_module": "@jupyter-widgets/base",
      "_model_module_version": "1.2.0",
      "_model_name": "LayoutModel",
      "_view_count": null,
      "_view_module": "@jupyter-widgets/base",
      "_view_module_version": "1.2.0",
      "_view_name": "LayoutView",
      "align_content": null,
      "align_items": null,
      "align_self": null,
      "border": null,
      "bottom": null,
      "display": null,
      "flex": null,
      "flex_flow": null,
      "grid_area": null,
      "grid_auto_columns": null,
      "grid_auto_flow": null,
      "grid_auto_rows": null,
      "grid_column": null,
      "grid_gap": null,
      "grid_row": null,
      "grid_template_areas": null,
      "grid_template_columns": null,
      "grid_template_rows": null,
      "height": null,
      "justify_content": null,
      "justify_items": null,
      "left": null,
      "margin": null,
      "max_height": null,
      "max_width": null,
      "min_height": null,
      "min_width": null,
      "object_fit": null,
      "object_position": null,
      "order": null,
      "overflow": null,
      "overflow_x": null,
      "overflow_y": null,
      "padding": null,
      "right": null,
      "top": null,
      "visibility": null,
      "width": null
     }
    },
    "e10f76f9430e4956b244265893916c8a": {
     "model_module": "@jupyter-widgets/controls",
     "model_module_version": "1.5.0",
     "model_name": "HTMLModel",
     "state": {
      "_dom_classes": [],
      "_model_module": "@jupyter-widgets/controls",
      "_model_module_version": "1.5.0",
      "_model_name": "HTMLModel",
      "_view_count": null,
      "_view_module": "@jupyter-widgets/controls",
      "_view_module_version": "1.5.0",
      "_view_name": "HTMLView",
      "description": "",
      "description_tooltip": null,
      "layout": "IPY_MODEL_851527e3969b4164ba260637eaf636f0",
      "placeholder": "​",
      "style": "IPY_MODEL_445cf976eb994fbea4d97a6aefbcf208",
      "value": " 760k/760k [00:00&lt;00:00, 22.7MB/s]"
     }
    },
    "e5c7e6b53fd948cebcc917241936b065": {
     "model_module": "@jupyter-widgets/controls",
     "model_module_version": "1.5.0",
     "model_name": "HTMLModel",
     "state": {
      "_dom_classes": [],
      "_model_module": "@jupyter-widgets/controls",
      "_model_module_version": "1.5.0",
      "_model_name": "HTMLModel",
      "_view_count": null,
      "_view_module": "@jupyter-widgets/controls",
      "_view_module_version": "1.5.0",
      "_view_name": "HTMLView",
      "description": "",
      "description_tooltip": null,
      "layout": "IPY_MODEL_42587859ef0a4262b50707a1471f39ab",
      "placeholder": "​",
      "style": "IPY_MODEL_7a7cf8a5aeea4ff9a4681d0481c6371f",
      "value": " 684/684 [00:00&lt;00:00, 26.9kB/s]"
     }
    },
    "ec10d2fd9aa54d6a95a463e8d6266e5f": {
     "model_module": "@jupyter-widgets/controls",
     "model_module_version": "1.5.0",
     "model_name": "HBoxModel",
     "state": {
      "_dom_classes": [],
      "_model_module": "@jupyter-widgets/controls",
      "_model_module_version": "1.5.0",
      "_model_name": "HBoxModel",
      "_view_count": null,
      "_view_module": "@jupyter-widgets/controls",
      "_view_module_version": "1.5.0",
      "_view_name": "HBoxView",
      "box_style": "",
      "children": [
       "IPY_MODEL_48c0539f61a746fa8123116fa5e50079",
       "IPY_MODEL_f78aead522fe4c6caeacb9a07c9fba90",
       "IPY_MODEL_e10f76f9430e4956b244265893916c8a"
      ],
      "layout": "IPY_MODEL_6e86d18e08c64473a2674ed7f4975321"
     }
    },
    "f1e6b21b0e6641f7b1635d9c6e6a2ca8": {
     "model_module": "@jupyter-widgets/base",
     "model_module_version": "1.2.0",
     "model_name": "LayoutModel",
     "state": {
      "_model_module": "@jupyter-widgets/base",
      "_model_module_version": "1.2.0",
      "_model_name": "LayoutModel",
      "_view_count": null,
      "_view_module": "@jupyter-widgets/base",
      "_view_module_version": "1.2.0",
      "_view_name": "LayoutView",
      "align_content": null,
      "align_items": null,
      "align_self": null,
      "border": null,
      "bottom": null,
      "display": null,
      "flex": null,
      "flex_flow": null,
      "grid_area": null,
      "grid_auto_columns": null,
      "grid_auto_flow": null,
      "grid_auto_rows": null,
      "grid_column": null,
      "grid_gap": null,
      "grid_row": null,
      "grid_template_areas": null,
      "grid_template_columns": null,
      "grid_template_rows": null,
      "height": null,
      "justify_content": null,
      "justify_items": null,
      "left": null,
      "margin": null,
      "max_height": null,
      "max_width": null,
      "min_height": null,
      "min_width": null,
      "object_fit": null,
      "object_position": null,
      "order": null,
      "overflow": null,
      "overflow_x": null,
      "overflow_y": null,
      "padding": null,
      "right": null,
      "top": null,
      "visibility": null,
      "width": null
     }
    },
    "f52ab2b5e8444630be873ffd9e3f75ad": {
     "model_module": "@jupyter-widgets/base",
     "model_module_version": "1.2.0",
     "model_name": "LayoutModel",
     "state": {
      "_model_module": "@jupyter-widgets/base",
      "_model_module_version": "1.2.0",
      "_model_name": "LayoutModel",
      "_view_count": null,
      "_view_module": "@jupyter-widgets/base",
      "_view_module_version": "1.2.0",
      "_view_name": "LayoutView",
      "align_content": null,
      "align_items": null,
      "align_self": null,
      "border": null,
      "bottom": null,
      "display": null,
      "flex": null,
      "flex_flow": null,
      "grid_area": null,
      "grid_auto_columns": null,
      "grid_auto_flow": null,
      "grid_auto_rows": null,
      "grid_column": null,
      "grid_gap": null,
      "grid_row": null,
      "grid_template_areas": null,
      "grid_template_columns": null,
      "grid_template_rows": null,
      "height": null,
      "justify_content": null,
      "justify_items": null,
      "left": null,
      "margin": null,
      "max_height": null,
      "max_width": null,
      "min_height": null,
      "min_width": null,
      "object_fit": null,
      "object_position": null,
      "order": null,
      "overflow": null,
      "overflow_x": null,
      "overflow_y": null,
      "padding": null,
      "right": null,
      "top": null,
      "visibility": null,
      "width": null
     }
    },
    "f78aead522fe4c6caeacb9a07c9fba90": {
     "model_module": "@jupyter-widgets/controls",
     "model_module_version": "1.5.0",
     "model_name": "FloatProgressModel",
     "state": {
      "_dom_classes": [],
      "_model_module": "@jupyter-widgets/controls",
      "_model_module_version": "1.5.0",
      "_model_name": "FloatProgressModel",
      "_view_count": null,
      "_view_module": "@jupyter-widgets/controls",
      "_view_module_version": "1.5.0",
      "_view_name": "ProgressView",
      "bar_style": "success",
      "description": "",
      "description_tooltip": null,
      "layout": "IPY_MODEL_8c6f146f25c643d6bebab1da89a40ba0",
      "max": 760289,
      "min": 0,
      "orientation": "horizontal",
      "style": "IPY_MODEL_cec42c8ebea84940a22c22757de99341",
      "value": 760289
     }
    },
    "fff920cc6f154220beeff16b5ac2928c": {
     "model_module": "@jupyter-widgets/base",
     "model_module_version": "1.2.0",
     "model_name": "LayoutModel",
     "state": {
      "_model_module": "@jupyter-widgets/base",
      "_model_module_version": "1.2.0",
      "_model_name": "LayoutModel",
      "_view_count": null,
      "_view_module": "@jupyter-widgets/base",
      "_view_module_version": "1.2.0",
      "_view_name": "LayoutView",
      "align_content": null,
      "align_items": null,
      "align_self": null,
      "border": null,
      "bottom": null,
      "display": null,
      "flex": null,
      "flex_flow": null,
      "grid_area": null,
      "grid_auto_columns": null,
      "grid_auto_flow": null,
      "grid_auto_rows": null,
      "grid_column": null,
      "grid_gap": null,
      "grid_row": null,
      "grid_template_areas": null,
      "grid_template_columns": null,
      "grid_template_rows": null,
      "height": null,
      "justify_content": null,
      "justify_items": null,
      "left": null,
      "margin": null,
      "max_height": null,
      "max_width": null,
      "min_height": null,
      "min_width": null,
      "object_fit": null,
      "object_position": null,
      "order": null,
      "overflow": null,
      "overflow_x": null,
      "overflow_y": null,
      "padding": null,
      "right": null,
      "top": null,
      "visibility": null,
      "width": null
     }
    }
   }
  }
 },
 "nbformat": 4,
 "nbformat_minor": 4
}
