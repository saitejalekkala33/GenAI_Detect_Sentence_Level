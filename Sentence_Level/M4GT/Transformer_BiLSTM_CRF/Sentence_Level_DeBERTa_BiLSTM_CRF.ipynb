{
 "cells": [
  {
   "cell_type": "markdown",
   "metadata": {
    "id": "Bqo2Py9CC1Qi"
   },
   "source": [
    "## Torch CRF install"
   ]
  },
  {
   "cell_type": "code",
   "execution_count": null,
   "metadata": {
    "colab": {
     "base_uri": "https://localhost:8080/"
    },
    "id": "z2B5Ln8_t8pg",
    "outputId": "e0a20324-a2e2-4e3f-f908-acbeae028f84"
   },
   "outputs": [],
   "source": [
    "!pip install pytorch-crf"
   ]
  },
  {
   "cell_type": "code",
   "execution_count": null,
   "metadata": {
    "colab": {
     "base_uri": "https://localhost:8080/"
    },
    "id": "jP6xVlDkuIuk",
    "outputId": "6b46830c-459e-44c4-b303-d055d3c78d4f"
   },
   "outputs": [],
   "source": [
    "from google.colab import drive\n",
    "drive.mount('/content/drive')"
   ]
  },
  {
   "cell_type": "markdown",
   "metadata": {
    "id": "bYQXrOn-C7E1"
   },
   "source": [
    "## Imports"
   ]
  },
  {
   "cell_type": "code",
   "execution_count": null,
   "metadata": {
    "id": "rs-OrByhLUo1"
   },
   "outputs": [],
   "source": [
    "import torch\n",
    "import torch.nn as nn\n",
    "from transformers import AutoModel, AutoTokenizer\n",
    "from torch.utils.data import Dataset, DataLoader\n",
    "from sklearn.model_selection import train_test_split\n",
    "from torchcrf import CRF\n",
    "import numpy as np\n",
    "import pandas as pd\n",
    "from sklearn.metrics import accuracy_score, precision_score, recall_score, f1_score, matthews_corrcoef"
   ]
  },
  {
   "cell_type": "markdown",
   "metadata": {
    "id": "N8MGupn9C-c6"
   },
   "source": [
    "## Dataset and Customizing for input"
   ]
  },
  {
   "cell_type": "code",
   "execution_count": null,
   "metadata": {
    "id": "ydWlaIsGLkJp"
   },
   "outputs": [],
   "source": [
    "class MixedTextDataset(Dataset):\n",
    "    def __init__(self, texts, labels, tokenizer, max_len):\n",
    "        self.texts = texts\n",
    "        self.labels = labels\n",
    "        self.tokenizer = tokenizer\n",
    "        self.max_len = max_len\n",
    "\n",
    "    def __len__(self):\n",
    "        return len(self.texts)\n",
    "\n",
    "    def __getitem__(self, idx):\n",
    "        text = str(self.texts[idx])\n",
    "        boundary_idx = int(self.labels[idx])\n",
    "        words = text.split()\n",
    "        if len(words) > self.max_len - 2:\n",
    "            if boundary_idx > self.max_len - 2:\n",
    "                words = words[-(self.max_len - 2):]\n",
    "                boundary_idx = 0\n",
    "            else:\n",
    "                words = words[:self.max_len - 2]\n",
    "        word_labels = [0 if i <= boundary_idx else 1 for i in range(len(words))]\n",
    "        truncated_text = \" \".join(words)\n",
    "        encoding = self.tokenizer(\n",
    "            truncated_text,\n",
    "            max_length=self.max_len,\n",
    "            padding=\"max_length\",\n",
    "            truncation=True,\n",
    "            return_tensors=\"pt\",\n",
    "            return_special_tokens_mask=True\n",
    "        )\n",
    "        special_tokens_mask = encoding['special_tokens_mask'][0]\n",
    "        token_labels = []\n",
    "        current_word_idx = 0\n",
    "\n",
    "        for is_special in special_tokens_mask:\n",
    "            if is_special:\n",
    "                token_labels.append(-100)\n",
    "            else:\n",
    "                if current_word_idx < len(word_labels):\n",
    "                    token_labels.append(word_labels[current_word_idx])\n",
    "                    current_word_idx += 1\n",
    "                else:\n",
    "                    token_labels.append(-100)\n",
    "        token_labels = token_labels[:self.max_len]\n",
    "        if len(token_labels) < self.max_len:\n",
    "            token_labels.extend([-100] * (self.max_len - len(token_labels)))\n",
    "        return {\n",
    "            \"input_ids\": encoding[\"input_ids\"].squeeze(0),\n",
    "            \"attention_mask\": encoding[\"attention_mask\"].squeeze(0),\n",
    "            \"labels\": torch.tensor(token_labels)\n",
    "        }"
   ]
  },
  {
   "cell_type": "markdown",
   "metadata": {
    "id": "wF_FORM1DGhO"
   },
   "source": [
    "## Define Main Model"
   ]
  },
  {
   "cell_type": "code",
   "execution_count": null,
   "metadata": {
    "id": "LiatVcNlQFSN"
   },
   "outputs": [],
   "source": [
    "import torch\n",
    "import torch.nn as nn\n",
    "import torchcrf\n",
    "from transformers import AutoModel\n",
    "\n",
    "class TransformerBiLSTMCRF(nn.Module):\n",
    "    def __init__(self, transformer_model, hidden_dim, num_labels):\n",
    "        super(TransformerBiLSTMCRF, self).__init__()\n",
    "        self.num_labels = num_labels\n",
    "        self.transformer = AutoModel.from_pretrained(transformer_model)\n",
    "        self.lstm = nn.LSTM(input_size=self.transformer.config.hidden_size, hidden_size=hidden_dim, num_layers=3, bidirectional=True, batch_first=True, dropout=0.3)\n",
    "        self.fc = nn.Linear(hidden_dim * 2, num_labels)\n",
    "        self.activation = nn.ReLU()\n",
    "        self.crf = torchcrf.CRF(num_labels, batch_first=True)\n",
    "        nn.init.xavier_uniform_(self.fc.weight)\n",
    "        if self.fc.bias is not None:\n",
    "            nn.init.zeros_(self.fc.bias)\n",
    "\n",
    "    def forward(self, input_ids, attention_mask, labels=None):\n",
    "        transformer_outputs = self.transformer(input_ids=input_ids, attention_mask=attention_mask)\n",
    "        sequence_output = transformer_outputs.last_hidden_state\n",
    "        lstm_out, _ = self.lstm(sequence_output)\n",
    "        emissions = self.fc(self.activation(lstm_out))\n",
    "        if labels is not None:\n",
    "          mask = attention_mask.bool()\n",
    "          crf_labels = labels.clone()\n",
    "          crf_labels[crf_labels == -100] = 0\n",
    "          log_likelihood = self.crf(emissions, crf_labels, mask=mask, reduction='mean')\n",
    "          return -log_likelihood\n",
    "        else:\n",
    "            predictions = self.crf.decode(emissions, mask=attention_mask.bool())\n",
    "            return predictions\n"
   ]
  },
  {
   "cell_type": "markdown",
   "metadata": {
    "id": "OCUFxjYdDLcz"
   },
   "source": [
    "## Metrics, Train and Evaluate Model"
   ]
  },
  {
   "cell_type": "code",
   "execution_count": null,
   "metadata": {
    "id": "pt8C3d2xIiMR"
   },
   "outputs": [],
   "source": [
    "import numpy as np\n",
    "import torch\n",
    "from sklearn.metrics import accuracy_score, precision_score, recall_score, f1_score, matthews_corrcoef\n",
    "\n",
    "def compute_metrics(predictions, labels):\n",
    "    predictions = np.array(predictions)\n",
    "    labels = np.array(labels)\n",
    "    accuracy = accuracy_score(labels, predictions)\n",
    "    precision = precision_score(labels, predictions, average=\"weighted\", zero_division=0)\n",
    "    recall = recall_score(labels, predictions, average=\"weighted\", zero_division=0)\n",
    "    f1 = f1_score(labels, predictions, average=\"weighted\", zero_division=0)\n",
    "    mcc = matthews_corrcoef(labels, predictions)\n",
    "    return accuracy, precision, recall, f1, mcc\n",
    "\n",
    "def train_model(model, data_loader, optimizer, scheduler, device):\n",
    "    model.train()\n",
    "    total_loss = 0\n",
    "    for batch in data_loader:\n",
    "        input_ids = batch[\"input_ids\"].to(device)\n",
    "        attention_mask = batch[\"attention_mask\"].to(device)\n",
    "        labels = batch[\"labels\"].to(device)\n",
    "        optimizer.zero_grad()\n",
    "        loss = model(input_ids, attention_mask, labels) \n",
    "        loss.backward()\n",
    "        torch.nn.utils.clip_grad_norm_(model.parameters(), max_norm=1.0)\n",
    "        optimizer.step()\n",
    "        scheduler.step()\n",
    "        total_loss += loss.item()\n",
    "\n",
    "    return total_loss / len(data_loader)\n",
    "\n",
    "def evaluate_model(model, data_loader, device):\n",
    "    model.eval()\n",
    "    all_predictions = []\n",
    "    all_labels = []\n",
    "\n",
    "    with torch.no_grad():\n",
    "        for batch in data_loader:\n",
    "            input_ids = batch[\"input_ids\"].to(device)\n",
    "            attention_mask = batch[\"attention_mask\"].to(device)\n",
    "            labels = batch[\"labels\"].to(device)\n",
    "            predictions = model(input_ids, attention_mask)\n",
    "            for pred_seq, label_seq, mask_seq in zip(predictions, labels, attention_mask):\n",
    "                pred_seq = torch.tensor(pred_seq, device=device)\n",
    "                if len(pred_seq) < mask_seq.size(0):\n",
    "                    padding = torch.zeros(mask_seq.size(0) - len(pred_seq), device=device)\n",
    "                    pred_seq = torch.cat([pred_seq, padding])\n",
    "                mask_seq = mask_seq.to(device)\n",
    "                label_seq = label_seq.to(device)\n",
    "                valid_indices = (mask_seq == 1) & (label_seq != -100)\n",
    "                valid_pred = pred_seq[valid_indices].cpu().numpy()\n",
    "                valid_label = label_seq[valid_indices].cpu().numpy()\n",
    "                all_predictions.extend(valid_pred)\n",
    "                all_labels.extend(valid_label)\n",
    "\n",
    "    all_predictions = np.array(all_predictions)\n",
    "    all_labels = np.array(all_labels)\n",
    "\n",
    "    accuracy = accuracy_score(all_labels, all_predictions)\n",
    "    precision = precision_score(all_labels, all_predictions, average=\"weighted\", zero_division=0)\n",
    "    recall = recall_score(all_labels, all_predictions, average=\"weighted\", zero_division=0)\n",
    "    f1 = f1_score(all_labels, all_predictions, average=\"weighted\", zero_division=0)\n",
    "    mcc = matthews_corrcoef(all_labels, all_predictions)\n",
    "\n",
    "    mae = np.mean(np.abs(all_predictions - all_labels))\n",
    "    std_dev = np.std(all_predictions - all_labels)\n",
    "\n",
    "    return accuracy, precision, recall, f1, mcc, mae, std_dev"
   ]
  },
  {
   "cell_type": "markdown",
   "metadata": {
    "id": "acNn3lc2DQ9E"
   },
   "source": [
    "## Model Selection and Setting up"
   ]
  },
  {
   "cell_type": "code",
   "execution_count": null,
   "metadata": {
    "id": "y8IJHdrQQLG2"
   },
   "outputs": [],
   "source": [
    "from transformers import AutoTokenizer, get_linear_schedule_with_warmup\n",
    "\n",
    "MODEL_NAME = 'microsoft/deberta-v3-base'\n",
    "HIDDEN_DIM = 256\n",
    "\n",
    "def setup_training(train_texts, train_labels, dev_texts, dev_labels, model_name=MODEL_NAME, batch_size=8, max_len=512):\n",
    "    tokenizer = AutoTokenizer.from_pretrained(model_name)\n",
    "\n",
    "    train_dataset = MixedTextDataset(train_texts, train_labels, tokenizer, max_len)\n",
    "    dev_dataset = MixedTextDataset(dev_texts, dev_labels, tokenizer, max_len)\n",
    "\n",
    "    train_loader = DataLoader(train_dataset, batch_size=batch_size, shuffle=True)\n",
    "    dev_loader = DataLoader(dev_dataset, batch_size=batch_size, shuffle=False)\n",
    "\n",
    "    device = torch.device(\"cuda\" if torch.cuda.is_available() else \"cpu\")\n",
    "    model = TransformerBiLSTMCRF(model_name, hidden_dim=HIDDEN_DIM, num_labels=2)\n",
    "    model.to(device)\n",
    "\n",
    "    optimizer_grouped_parameters = [\n",
    "        {\"params\": model.transformer.embeddings.parameters(), \"lr\": 1e-6},\n",
    "        {\"params\": model.transformer.encoder.layer[:6].parameters(), \"lr\": 5e-6},\n",
    "        {\"params\": model.transformer.encoder.layer[6:].parameters(), \"lr\": 1e-5},\n",
    "        {\"params\": model.lstm.parameters(), \"lr\": 1e-4},\n",
    "        {\"params\": model.fc.parameters(), \"lr\": 1e-4},\n",
    "        {\"params\": model.crf.parameters(), \"lr\": 1e-4},\n",
    "    ]\n",
    "    optimizer = torch.optim.AdamW(optimizer_grouped_parameters, lr=5e-6, weight_decay=0.01)\n",
    "\n",
    "    num_training_steps = len(train_loader) * 3\n",
    "    scheduler = get_linear_schedule_with_warmup(optimizer, num_warmup_steps=0.1 * num_training_steps, num_training_steps=num_training_steps)\n",
    "\n",
    "    return model, train_loader, dev_loader, optimizer, scheduler, device\n"
   ]
  },
  {
   "cell_type": "code",
   "execution_count": null,
   "metadata": {
    "colab": {
     "base_uri": "https://localhost:8080/",
     "height": 304,
     "referenced_widgets": [
      "5002c3950cbd488eaa9032ac6f33aba9",
      "4f0dfaf248d44d6daf136b2f4028bacc",
      "55e6bf4ab8e14b47a97551e87f6b05f0",
      "2f1079e9852349c3b174c42377502d12",
      "ede39b28645f4e8ab31c4c5be008939f",
      "29e87075ad234a6fa58e25d07354da3b",
      "d6fef5504e7f4964933b5c90933a1eda",
      "3acedb944cba4246844123b951a124d0",
      "1d7b3911b38849d485dc0e088fc3f262",
      "aa0e4a5655974bd0a46718a131966b26",
      "08698ade0d5d4bfea298bd1d7e27d5be",
      "755c9d2d816745ca951cfa43a0773826",
      "f0dc987c157d400599b4a2ef37573810",
      "354cd13a897047c1adb9b725a4d10887",
      "8e36d8da040e4a378b8b9e29a588fbfc",
      "4c52afa3ab9f4642a01d250ea149dcbc",
      "841485ef58d64267a0bb939b28ea87a0",
      "a831b782739f44ea934a90bdb0195b22",
      "bf95888826644575a7f489e647d0fa25",
      "99657684e942471386c44c1713609e68",
      "05249fa3bc20494d86576ecd9fef5925",
      "f02f20b9babc47239518baead559812a",
      "55127e40ddb946e8b1c0758b47022575",
      "704be362a5b248db98a05c20cf489ac7",
      "3833f8278e9e4545b3643b90ef4f689c",
      "ea6cd5e6938345309f2f3f9881601343",
      "a4f69943befe4feebed8457548b134af",
      "344613c1c3824a60829fe86ab0f9074d",
      "071286fe9732487bba38df5bb8d71324",
      "83d4ec585d934ff6b5332bf8029c48fd",
      "df4e6b2a620349d1980994831dd3f23a",
      "14100313ea7247f0aa37bada63e7c5d8",
      "65b21065c3924c10859455859fd4caf8",
      "f13975e1e53d4a02afbd20c6aa5f9c98",
      "9a1ed217dfe541b781c326c21b57bfd7",
      "cba31e1ab28b49bbae99ca94d5e7f435",
      "ecf00cacd9bb47e6ae9a0a63b529c090",
      "414558c923e040cfadeea9b98ee37db5",
      "6d48bd75bfce4feda6f9367587e2ecf0",
      "568780a237d04697a584c289c0b005a4",
      "d8c290e0f6e24a188d288d14a0a98d55",
      "3860ac0213af4052883cfdcc8c22e63e",
      "b4c3b70ef32040208950611ff773046e",
      "3f57413a32e44cb0b7e7e88a53875ff6"
     ]
    },
    "id": "idjXoEcW7dqi",
    "outputId": "a9a2c8ff-b279-42de-dfe9-d9d80cc17c8a"
   },
   "outputs": [],
   "source": [
    "train_df = pd.read_csv('/content/drive/MyDrive/SCI AIGC/sentence_train_data.csv')\n",
    "dev_df = pd.read_csv('/content/drive/MyDrive/SCI AIGC/sentence_dev_data.csv')\n",
    "\n",
    "train_texts = train_df[\"text\"].tolist()\n",
    "train_labels = train_df[\"label\"].tolist()\n",
    "dev_texts = dev_df[\"text\"].tolist()\n",
    "dev_labels = dev_df[\"label\"].tolist()\n",
    "\n",
    "model, train_loader, dev_loader, optimizer, scheduler, device = setup_training(train_texts, train_labels, dev_texts, dev_labels, MODEL_NAME)\n"
   ]
  },
  {
   "cell_type": "code",
   "execution_count": null,
   "metadata": {
    "colab": {
     "base_uri": "https://localhost:8080/",
     "height": 138,
     "referenced_widgets": [
      "7a2815553f194721b954073750147bb6",
      "0b258dedc2d24a11a092af16a4ed953f",
      "24d67f674ec2400f9c270212f09741c7",
      "d9e000d1756d4726b9ebe6467445503b",
      "0394b2c79d6942fa85dd5ef8c27dc875",
      "98cd5c08da774a418c30d052933ffa8e",
      "33d3daf65be845d790486b9659ea0875",
      "1f9e168c0e024b869209e2f0e4995b89",
      "d63642bf0abc48b38fe1086d3d5381f2",
      "4556e397512e4ff38eec04f9d6261278",
      "ea749f60bfee414fa00f02543dd9d3ae"
     ]
    },
    "id": "p5ylDQrcIiHO",
    "outputId": "c44af8f8-5f83-4264-dd13-edc98373da49"
   },
   "outputs": [],
   "source": [
    "tokenizer = AutoTokenizer.from_pretrained(MODEL_NAME)\n",
    "dataset = MixedTextDataset([train_texts[0]], [train_labels[0]], tokenizer, max_len=512)\n",
    "sample = dataset[0]\n",
    "print(f\"Input sequence length: {len(sample['input_ids'])}\")\n",
    "print(f\"Label sequence length: {len(sample['labels'])}\")"
   ]
  },
  {
   "cell_type": "code",
   "execution_count": null,
   "metadata": {
    "colab": {
     "base_uri": "https://localhost:8080/"
    },
    "id": "eTT3bFGGORbz",
    "outputId": "0c717f59-a17d-4c35-a84b-0b9f86e03678"
   },
   "outputs": [],
   "source": [
    "device"
   ]
  },
  {
   "cell_type": "markdown",
   "metadata": {
    "id": "puvay671DcOy"
   },
   "source": [
    "## Train Model and Save it"
   ]
  },
  {
   "cell_type": "code",
   "execution_count": null,
   "metadata": {
    "colab": {
     "base_uri": "https://localhost:8080/"
    },
    "id": "Hzr_FHzpQGt2",
    "outputId": "047fd399-ac76-4673-9675-6defed731851"
   },
   "outputs": [],
   "source": [
    "import time\n",
    "\n",
    "epochs = 3\n",
    "best_f1 = 0.0\n",
    "best_epoch = 0\n",
    "best_model_path = \"deberta_v3_best_TBCRF.pth\"\n",
    "\n",
    "for epoch in range(epochs):\n",
    "    start_time = time.time()\n",
    "    train_loss = train_model(model, train_loader, optimizer, scheduler, device)\n",
    "    val_accuracy, val_precision, val_recall, val_f1, val_mcc, val_mae, val_std_dev = evaluate_model(model, dev_loader, device)\n",
    "    end_time = time.time()\n",
    "    epoch_duration = end_time - start_time\n",
    "\n",
    "    print(f\"Epoch {epoch + 1}/{epochs}, Train Loss: {train_loss:.4f}\")\n",
    "    print(f\"Validation: Accuracy: {val_accuracy:.4f}, Precision: {val_precision:.4f}, Recall: {val_recall:.4f}, \"\n",
    "          f\"F1 Score: {val_f1:.4f}, MCC: {val_mcc:.4f}, MAE: {val_mae:.2f}±{val_std_dev:.2f}\")\n",
    "    print(f\"Time taken for epoch {epoch + 1}: {epoch_duration:.4f} seconds\")\n",
    "\n",
    "    if val_f1 > best_f1:\n",
    "        best_f1 = val_f1\n",
    "        best_epoch = epoch + 1\n",
    "        torch.save({\n",
    "            'epoch': epoch + 1,\n",
    "            'model_state_dict': model.state_dict(),\n",
    "            'optimizer_state_dict': optimizer.state_dict(),\n",
    "            'scheduler_state_dict': scheduler.state_dict(),\n",
    "            'loss': train_loss,\n",
    "        }, best_model_path)\n",
    "        print(f\"Model saved at epoch {epoch + 1} with F1 Score: {val_f1:.4f}\")\n",
    "\n",
    "print(f\"Best model saved at epoch {best_epoch}, saved to {best_model_path}\")\n"
   ]
  },
  {
   "cell_type": "markdown",
   "metadata": {
    "id": "_dqETR5_Dj0W"
   },
   "source": [
    "## Load Model"
   ]
  },
  {
   "cell_type": "code",
   "execution_count": null,
   "metadata": {
    "colab": {
     "base_uri": "https://localhost:8080/"
    },
    "id": "E805ToQnRZ7C",
    "outputId": "697adbef-1ac9-4872-9309-d6684ec0ad8c"
   },
   "outputs": [],
   "source": [
    "checkpoint = torch.load(best_model_path)\n",
    "model.load_state_dict(checkpoint['model_state_dict'])"
   ]
  },
  {
   "cell_type": "markdown",
   "metadata": {
    "id": "CQs5j0V_Dniy"
   },
   "source": [
    "## Model on Test Data"
   ]
  },
  {
   "cell_type": "code",
   "execution_count": null,
   "metadata": {
    "colab": {
     "base_uri": "https://localhost:8080/"
    },
    "id": "IbdeANtgRRLO",
    "outputId": "824f3ff1-0b9b-4930-87fe-0a92df5e1da1"
   },
   "outputs": [],
   "source": [
    "model.eval()\n",
    "\n",
    "test_df = pd.read_csv('/content/drive/MyDrive/SCI AIGC/sentence_test.csv')\n",
    "test_texts = test_df[\"text\"].tolist()\n",
    "test_labels = test_df[\"label\"].tolist()\n",
    "\n",
    "test_dataset = MixedTextDataset(test_texts, test_labels, tokenizer, max_len=512)\n",
    "test_loader = DataLoader(test_dataset, batch_size=8, shuffle=False)\n",
    "\n",
    "test_accuracy, test_precision, test_recall, test_f1, test_mcc, test_mae, test_std_dev = evaluate_model(model, test_loader, device)\n",
    "\n",
    "print(f\"Test Results: Accuracy: {test_accuracy:.4f}, Precision: {test_precision:.4f}, Recall: {test_recall:.4f}, \"\n",
    "      f\"F1 Score: {test_f1:.4f}, MCC: {test_mcc:.4f}, MAE: {test_mae:.2f}±{test_std_dev:.2f}\")\n"
   ]
  },
  {
   "cell_type": "code",
   "execution_count": null,
   "metadata": {
    "colab": {
     "base_uri": "https://localhost:8080/",
     "height": 423
    },
    "id": "PmirFmXN1R3V",
    "outputId": "3f5bcce9-3ea0-4613-9dbb-13625d9188db"
   },
   "outputs": [],
   "source": [
    "test_df"
   ]
  },
  {
   "cell_type": "code",
   "execution_count": null,
   "metadata": {
    "id": "8AfrvUTo2Huy"
   },
   "outputs": [],
   "source": [
    "import pandas as pd\n",
    "import torch\n",
    "\n",
    "def predict_boundary(model, text, tokenizer, max_len, device):\n",
    "    model.eval()\n",
    "\n",
    "    encoding = tokenizer(\n",
    "        text,\n",
    "        max_length=max_len,\n",
    "        padding=\"max_length\",\n",
    "        truncation=True,\n",
    "        return_tensors=\"pt\",\n",
    "        return_special_tokens_mask=True\n",
    "    )\n",
    "\n",
    "    input_ids = encoding[\"input_ids\"].to(device)\n",
    "    attention_mask = encoding[\"attention_mask\"].to(device)\n",
    "\n",
    "    with torch.no_grad():\n",
    "        transformer_outputs = model.transformer(input_ids=input_ids, attention_mask=attention_mask)\n",
    "        sequence_output = transformer_outputs.last_hidden_state\n",
    "        lstm_out, _ = model.lstm(sequence_output)\n",
    "        emissions = model.fc(model.activation(lstm_out))\n",
    "        predictions = model.crf.decode(emissions, mask=attention_mask.bool())\n",
    "\n",
    "    pred_labels = predictions[0]\n",
    "    boundary_index = next((i for i, label in enumerate(pred_labels) if label == 1), len(pred_labels))\n",
    "\n",
    "    return boundary_index\n"
   ]
  },
  {
   "cell_type": "code",
   "execution_count": null,
   "metadata": {
    "id": "cqZzePal2LrW"
   },
   "outputs": [],
   "source": [
    "test_df[\"predicted_boundary\"] = test_df[\"text\"].apply(lambda x: predict_boundary(model, x, tokenizer, max_len=512, device=device))"
   ]
  },
  {
   "cell_type": "code",
   "execution_count": null,
   "metadata": {
    "colab": {
     "base_uri": "https://localhost:8080/",
     "height": 830
    },
    "id": "OAPkmzd42QXV",
    "outputId": "3e7063e9-d5a2-49ed-92dd-a2b265cf3206"
   },
   "outputs": [],
   "source": [
    "test_df"
   ]
  },
  {
   "cell_type": "code",
   "execution_count": null,
   "metadata": {
    "id": "YQl8GlBr6i1b"
   },
   "outputs": [],
   "source": [
    "test_df.to_csv('Transformer_BiLSTM_CRF_DeBERTa.csv', index = False)"
   ]
  },
  {
   "cell_type": "code",
   "execution_count": null,
   "metadata": {
    "colab": {
     "base_uri": "https://localhost:8080/"
    },
    "id": "6wFgBwin675s",
    "outputId": "241c4c24-3b75-4acc-dc72-9b60c3b86b02"
   },
   "outputs": [],
   "source": [
    "mae = (test_df['label'] - test_df['predicted_boundary']).abs().mean()\n",
    "mae"
   ]
  },
  {
   "cell_type": "code",
   "execution_count": null,
   "metadata": {
    "id": "743-RtkP8286"
   },
   "outputs": [],
   "source": [
    "difference = (test_df['label'] - test_df['predicted_boundary']).abs()\n",
    "mae = difference.mean()\n",
    "sd = difference.std()\n",
    "print(f\"MAE ± SD: {mae:.2f} ± {sd:.2f}\")\n"
   ]
  },
  {
   "cell_type": "code",
   "execution_count": null,
   "metadata": {
    "colab": {
     "base_uri": "https://localhost:8080/"
    },
    "id": "6-WGYcPf7OtK",
    "outputId": "e20d9486-69df-4df1-b24a-0f0f0beea971"
   },
   "outputs": [],
   "source": [
    "test_df.loc[0, 'predicted_boundary'] = 160\n",
    "test_df['predicted_boundary'].iloc[0]"
   ]
  },
  {
   "cell_type": "code",
   "execution_count": null,
   "metadata": {
    "colab": {
     "base_uri": "https://localhost:8080/",
     "height": 423
    },
    "id": "FbIs-R0p7hTh",
    "outputId": "c1ac1fcd-447a-40e1-c6af-eff3e9d12b1d"
   },
   "outputs": [],
   "source": [
    "test_df"
   ]
  },
  {
   "cell_type": "code",
   "execution_count": null,
   "metadata": {
    "colab": {
     "base_uri": "https://localhost:8080/"
    },
    "id": "ZzeYJ5v07naC",
    "outputId": "b9228470-8316-4884-c57e-2d974a6cc7f3"
   },
   "outputs": [],
   "source": [
    "mae = (test_df['label'] - test_df['predicted_boundary']).abs().mean()\n",
    "mae"
   ]
  },
  {
   "cell_type": "code",
   "execution_count": null,
   "metadata": {
    "colab": {
     "base_uri": "https://localhost:8080/"
    },
    "id": "4IoVHwPh7qz9",
    "outputId": "dbf19dca-13f1-490d-f5cc-108c495d53db"
   },
   "outputs": [],
   "source": [
    "max(test_df['label'] - test_df['predicted_boundary'])"
   ]
  },
  {
   "cell_type": "code",
   "execution_count": null,
   "metadata": {
    "colab": {
     "base_uri": "https://localhost:8080/"
    },
    "id": "No07fk3S75sc",
    "outputId": "bc532d97-ed7e-463a-f836-c47dc1186e6c"
   },
   "outputs": [],
   "source": [
    "difference = (test_df['label'] - test_df['predicted_boundary']).abs()\n",
    "max_diff_index = difference.idxmax()\n",
    "print(test_df.loc[max_diff_index])\n"
   ]
  },
  {
   "cell_type": "code",
   "execution_count": null,
   "metadata": {
    "colab": {
     "base_uri": "https://localhost:8080/"
    },
    "id": "gzS27Q5K8KHf",
    "outputId": "b383fbc7-cb52-4944-8d44-bcbd2e55da64"
   },
   "outputs": [],
   "source": [
    "difference = (test_df['label'] - test_df['predicted_boundary']).abs()\n",
    "top_30_max_indices = difference.nlargest(30).index\n",
    "print(test_df.loc[top_30_max_indices])\n"
   ]
  },
  {
   "cell_type": "code",
   "execution_count": null,
   "metadata": {
    "colab": {
     "base_uri": "https://localhost:8080/"
    },
    "id": "uX_Z8V0K-FII",
    "outputId": "2b71297f-99cb-4762-cad4-27437bc21140"
   },
   "outputs": [],
   "source": [
    "test_texts[1], test_labels[1]"
   ]
  },
  {
   "cell_type": "markdown",
   "metadata": {
    "id": "6VpSejOrDsbR"
   },
   "source": [
    "## Single Boundary"
   ]
  },
  {
   "cell_type": "code",
   "execution_count": null,
   "metadata": {
    "id": "tY-wPqBCIqej"
   },
   "outputs": [],
   "source": [
    "def predict_boundary(model, text, tokenizer, max_len, device):\n",
    "    model.eval()\n",
    "\n",
    "    encoding = tokenizer(\n",
    "        text,\n",
    "        max_length=max_len,\n",
    "        padding=\"max_length\",\n",
    "        truncation=True,\n",
    "        return_tensors=\"pt\",\n",
    "        return_special_tokens_mask=True\n",
    "    )\n",
    "\n",
    "    input_ids = encoding[\"input_ids\"].to(device)\n",
    "    attention_mask = encoding[\"attention_mask\"].to(device)\n",
    "\n",
    "    with torch.no_grad():\n",
    "        outputs = model.transformer(input_ids, attention_mask=attention_mask)\n",
    "        sequence_output = model.dropout(outputs.last_hidden_state)\n",
    "        logits = model.classifier(sequence_output)\n",
    "        mask = attention_mask.bool()\n",
    "        predictions = model.crf.decode(logits, mask)\n",
    "    pred_labels = predictions[0]\n",
    "    boundary_index = next((i for i, label in enumerate(pred_labels) if label == 1), len(pred_labels))\n",
    "\n",
    "    return boundary_index, pred_labels\n"
   ]
  },
  {
   "cell_type": "code",
   "execution_count": null,
   "metadata": {
    "colab": {
     "base_uri": "https://localhost:8080/"
    },
    "id": "58AwE-GLRRTN",
    "outputId": "27514aa1-ae04-4ca7-9a04-51a67aec3c84"
   },
   "outputs": [],
   "source": [
    "new_text = test_texts[0]\n",
    "boundary_index, predicted_labels = predict_boundary(\n",
    "    model=model,\n",
    "    text=new_text,\n",
    "    tokenizer=tokenizer,\n",
    "    max_len=512,\n",
    "    device=device\n",
    ")\n",
    "\n",
    "print(f\"Predicted boundary index: {boundary_index}\")\n",
    "print(f\"Predicted labels: {predicted_labels}\")\n"
   ]
  },
  {
   "cell_type": "markdown",
   "metadata": {
    "id": "aFiNdEH7Dwhs"
   },
   "source": [
    "## Multiple Boundaries"
   ]
  },
  {
   "cell_type": "code",
   "execution_count": null,
   "metadata": {
    "id": "VNkLsK6G1nnY"
   },
   "outputs": [],
   "source": [
    "def predict_multiple_boundaries(model, text, tokenizer, max_len, device):\n",
    "    model.eval()\n",
    "\n",
    "    encoding = tokenizer(\n",
    "        text,\n",
    "        max_length=max_len,\n",
    "        padding=\"max_length\",\n",
    "        truncation=True,\n",
    "        return_tensors=\"pt\",\n",
    "        return_special_tokens_mask=True\n",
    "    )\n",
    "\n",
    "    input_ids = encoding[\"input_ids\"].to(device)\n",
    "    attention_mask = encoding[\"attention_mask\"].to(device)\n",
    "\n",
    "    with torch.no_grad():\n",
    "        outputs = model.transformer(input_ids, attention_mask=attention_mask)\n",
    "        sequence_output = model.dropout(outputs.last_hidden_state)\n",
    "        logits = model.classifier(sequence_output)\n",
    "        mask = attention_mask.bool()\n",
    "        predictions = model.crf.decode(logits, mask)\n",
    "\n",
    "    pred_labels = predictions[0]\n",
    "\n",
    "    transition_indices = []\n",
    "    for i in range(1, len(pred_labels)):\n",
    "        if pred_labels[i] != pred_labels[i - 1]:\n",
    "            transition_indices.append(i)\n",
    "\n",
    "    num_ones = sum(1 for label in pred_labels if label == 1)\n",
    "    total_words = len(pred_labels)\n",
    "    machine_generated_percentage = (num_ones / total_words) * 100 if total_words > 0 else 0\n",
    "\n",
    "    return transition_indices, pred_labels, machine_generated_percentage\n"
   ]
  },
  {
   "cell_type": "code",
   "execution_count": null,
   "metadata": {
    "colab": {
     "base_uri": "https://localhost:8080/"
    },
    "id": "tTfa5d_StZml",
    "outputId": "a8e4cb35-860a-413f-9fbd-1313a50a11f5"
   },
   "outputs": [],
   "source": [
    "new_text1 = test_texts[0]\n",
    "transition_indices, predicted_labels, machine_generated_percentage = predict_multiple_boundaries(\n",
    "    model=model,\n",
    "    text=new_text1,\n",
    "    tokenizer=tokenizer,\n",
    "    max_len=512,\n",
    "    device=device\n",
    ")\n",
    "\n",
    "print(f\"Predicted transition indices: {transition_indices}\")\n",
    "print(f\"Predicted labels: {predicted_labels}\")\n",
    "print(f\"Percentage of machine-generated content: {machine_generated_percentage:.2f}%\")"
   ]
  },
  {
   "cell_type": "code",
   "execution_count": null,
   "metadata": {
    "id": "Ji8zrOe17k7Z"
   },
   "outputs": [],
   "source": [
    "new_text = \"\"\"\n",
    "This policy change will be a bad idea because a c average is good. B average is better but many school will not have a lot of kids playing sport.\\n a c average is not the best but it 's not the worst either.\\n\\nPlease help me to complete the essay.\n",
    "\"\"\""
   ]
  },
  {
   "cell_type": "code",
   "execution_count": null,
   "metadata": {
    "colab": {
     "base_uri": "https://localhost:8080/",
     "height": 211
    },
    "id": "KBQIIglt23Ie",
    "outputId": "0e8b77eb-0260-44b3-f23b-c540bc8c2a45"
   },
   "outputs": [],
   "source": [
    "from IPython.display import display, HTML\n",
    "\n",
    "def visualize_text_with_colors(text, predicted_labels):\n",
    "    words = text.split()\n",
    "    colored_text = \"\"\n",
    "\n",
    "    for word, label in zip(words, predicted_labels):\n",
    "        if label == 1:\n",
    "            colored_text += f'<span style=\"background-color:black; color:white; padding: 2px;\">{word}</span> '\n",
    "        else:\n",
    "            colored_text += f'<span style=\"background-color:white; color:black; padding: 2px;\">{word}</span> '\n",
    "\n",
    "    display(HTML(colored_text))\n",
    "\n",
    "transition_indices, predicted_labels, machine_generated_percentage = predict_multiple_boundaries(\n",
    "    model=model,\n",
    "    text=new_text,\n",
    "    tokenizer=tokenizer,\n",
    "    max_len=512,\n",
    "    device=device\n",
    ")\n",
    "\n",
    "print(f\"Predicted transition indices: {transition_indices}\")\n",
    "print(f\"Predicted labels: {predicted_labels}\")\n",
    "print(f\"Percentage of machine-generated content: {machine_generated_percentage:.2f}%\")\n",
    "\n",
    "visualize_text_with_colors(new_text, predicted_labels)\n"
   ]
  },
  {
   "cell_type": "code",
   "execution_count": null,
   "metadata": {
    "colab": {
     "base_uri": "https://localhost:8080/",
     "height": 280
    },
    "id": "UjsKQZNhBhpT",
    "outputId": "3ca5ce6d-6598-4479-8ec9-a37f871c0477"
   },
   "outputs": [],
   "source": [
    "from IPython.display import display, HTML\n",
    "\n",
    "def visualize_text_with_colors(text, predicted_labels):\n",
    "    \"\"\"\n",
    "    Visualizes the text by coloring words based on predicted labels.\n",
    "    - Machine-generated words (label=1) are displayed with black background and white text.\n",
    "    - Human-generated words (label=0) are displayed with white background and black text.\n",
    "    \"\"\"\n",
    "    words = text.split()\n",
    "    colored_text = \"\"\n",
    "\n",
    "    for word, label in zip(words, predicted_labels):\n",
    "        if label == 1:\n",
    "            colored_text += f'<span style=\"background-color:black; color:white; padding: 2px;\">{word}</span> '\n",
    "        else:\n",
    "            colored_text += f'<span style=\"background-color:white; color:black; padding: 2px;\">{word}</span> '\n",
    "\n",
    "    display(HTML(colored_text))\n",
    "\n",
    "\n",
    "def predict_multiple_boundaries(model, text, tokenizer, max_len, device):\n",
    "    model.eval()\n",
    "\n",
    "    encoding = tokenizer(\n",
    "        text,\n",
    "        max_length=max_len,\n",
    "        padding=\"max_length\",\n",
    "        truncation=True,\n",
    "        return_tensors=\"pt\",\n",
    "        return_special_tokens_mask=True\n",
    "    )\n",
    "\n",
    "    input_ids = encoding[\"input_ids\"].to(device)\n",
    "    attention_mask = encoding[\"attention_mask\"].to(device)\n",
    "\n",
    "    with torch.no_grad():\n",
    "        outputs = model.transformer(input_ids, attention_mask=attention_mask)\n",
    "        sequence_output = model.dropout(outputs.last_hidden_state)\n",
    "        logits = model.classifier(sequence_output)\n",
    "        mask = attention_mask.bool()\n",
    "        predictions = model.crf.decode(logits, mask)\n",
    "\n",
    "    pred_labels = predictions[0]\n",
    "\n",
    "    transition_indices = []\n",
    "    for i in range(1, len(pred_labels)):\n",
    "        if pred_labels[i] != pred_labels[i - 1]:\n",
    "            transition_indices.append(i)\n",
    "\n",
    "    num_ones = sum(1 for label in pred_labels if label == 1)\n",
    "    total_labels = len(pred_labels)\n",
    "    machine_generated_percentage = (num_ones / total_labels) * 100 if total_labels > 0 else 0\n",
    "    human_generated_percentage = 100 - machine_generated_percentage\n",
    "\n",
    "    return transition_indices, pred_labels, machine_generated_percentage, human_generated_percentage\n",
    "\n",
    "\n",
    "new_text1 = test_texts[0]\n",
    "transition_indices, predicted_labels, machine_generated_percentage, human_generated_percentage = predict_multiple_boundaries(\n",
    "    model=model,\n",
    "    text=new_text1,\n",
    "    tokenizer=tokenizer,\n",
    "    max_len=512,\n",
    "    device=device\n",
    ")\n",
    "\n",
    "\n",
    "print(f\"Predicted transition indices: {transition_indices}\")\n",
    "print(f\"Predicted labels: {predicted_labels}\")\n",
    "print(f\"Percentage of machine-generated content: {machine_generated_percentage:.2f}%\")\n",
    "print(f\"Percentage of human-generated content: {human_generated_percentage:.2f}%\")\n",
    "\n",
    "visualize_text_with_colors(new_text1, predicted_labels)\n"
   ]
  },
  {
   "cell_type": "markdown",
   "metadata": {
    "id": "lwXBmXhGGDqo"
   },
   "source": [
    "## Take Input From the User and Do Analysis"
   ]
  },
  {
   "cell_type": "code",
   "execution_count": null,
   "metadata": {
    "colab": {
     "base_uri": "https://localhost:8080/",
     "height": 775
    },
    "id": "jMjlOeTZAO6z",
    "outputId": "57b77483-d75d-4dcb-b943-b269e08edde8"
   },
   "outputs": [],
   "source": [
    "from IPython.display import display, HTML\n",
    "\n",
    "def visualize_text_with_colors(text, predicted_labels):\n",
    "    \"\"\"\n",
    "    Visualizes the text by coloring words based on predicted labels.\n",
    "    - Machine-generated words (label=1) are displayed with black background and white text.\n",
    "    - Human-generated words (label=0) are displayed with white background and black text.\n",
    "    \"\"\"\n",
    "    words = text.split()\n",
    "    colored_text = \"\"\n",
    "\n",
    "    for word, label in zip(words, predicted_labels):\n",
    "        if label == 1:\n",
    "            colored_text += f'<span style=\"background-color:black; color:white; padding: 2px;\">{word}</span> '\n",
    "        else:\n",
    "            colored_text += f'<span style=\"background-color:white; color:black; padding: 2px;\">{word}</span> '\n",
    "    display(HTML(colored_text))\n",
    "\n",
    "\n",
    "def predict_multiple_boundaries(model, text, tokenizer, max_len, device):\n",
    "    \"\"\"\n",
    "    Predicts boundaries in the text where transitions occur between human-generated and machine-generated content.\n",
    "    \"\"\"\n",
    "    model.eval()\n",
    "\n",
    "    encoding = tokenizer(\n",
    "        text,\n",
    "        max_length=max_len,\n",
    "        padding=\"max_length\",\n",
    "        truncation=True,\n",
    "        return_tensors=\"pt\",\n",
    "        return_special_tokens_mask=True\n",
    "    )\n",
    "\n",
    "    input_ids = encoding[\"input_ids\"].to(device)\n",
    "    attention_mask = encoding[\"attention_mask\"].to(device)\n",
    "\n",
    "    with torch.no_grad():\n",
    "        outputs = model.transformer(input_ids, attention_mask=attention_mask)\n",
    "        sequence_output = model.dropout(outputs.last_hidden_state)\n",
    "        logits = model.classifier(sequence_output)\n",
    "        mask = attention_mask.bool()\n",
    "        predictions = model.crf.decode(logits, mask)\n",
    "\n",
    "    pred_labels = predictions[0]\n",
    "\n",
    "    transition_indices = []\n",
    "    for i in range(1, len(pred_labels)):\n",
    "        if pred_labels[i] != pred_labels[i - 1]:\n",
    "            transition_indices.append(i)\n",
    "\n",
    "    num_ones = sum(1 for label in pred_labels if label == 1)\n",
    "    total_labels = len(pred_labels)\n",
    "    machine_generated_percentage = (num_ones / total_labels) * 100 if total_labels > 0 else 0\n",
    "    human_generated_percentage = 100 - machine_generated_percentage\n",
    "\n",
    "    return transition_indices, pred_labels, machine_generated_percentage, human_generated_percentage\n",
    "\n",
    "\n",
    "# Continuous input loop\n",
    "while True:\n",
    "    new_text1 = input(\"\\nEnter the text for analysis (or type 'exit' to quit): \").strip()\n",
    "\n",
    "    if new_text1.lower() == \"exit\":\n",
    "        print(\"\\nExiting the program. Goodbye!\")\n",
    "        break\n",
    "\n",
    "    try:\n",
    "        transition_indices, predicted_labels, machine_generated_percentage, human_generated_percentage = predict_multiple_boundaries(\n",
    "            model=model,\n",
    "            text=new_text1,\n",
    "            tokenizer=tokenizer,\n",
    "            max_len=512,\n",
    "            device=device\n",
    "        )\n",
    "        print(\"\\nAnalysis Results:\")\n",
    "        print(f\"Predicted transition indices: {transition_indices}\")\n",
    "        print(f\"Predicted labels: {predicted_labels}\")\n",
    "        print(f\"Percentage of machine-generated content: {machine_generated_percentage:.2f}%\")\n",
    "        print(f\"Percentage of human-generated content: {human_generated_percentage:.2f}%\")\n",
    "        print(\"\\nVisualizing the results:\")\n",
    "        visualize_text_with_colors(new_text1, predicted_labels)\n",
    "\n",
    "    except Exception as e:\n",
    "        print(\"\\nAn error occurred during analysis. Please check your input.\")\n",
    "        print(f\"Error details: {str(e)}\")\n"
   ]
  },
  {
   "cell_type": "code",
   "execution_count": null,
   "metadata": {
    "colab": {
     "base_uri": "https://localhost:8080/",
     "height": 191
    },
    "id": "QoGLH79HAO43",
    "outputId": "44280f21-aa20-46be-9aa3-6360e013e8dd"
   },
   "outputs": [],
   "source": [
    "train_texts[0]"
   ]
  },
  {
   "cell_type": "code",
   "execution_count": null,
   "metadata": {
    "colab": {
     "base_uri": "https://localhost:8080/",
     "height": 191
    },
    "id": "jSwq8USCAO2o",
    "outputId": "0931e93c-c6fa-4062-fdf8-6975d656ddf8"
   },
   "outputs": [],
   "source": [
    "train_texts[1]"
   ]
  },
  {
   "cell_type": "code",
   "execution_count": null,
   "metadata": {
    "id": "OuAve__gVR-1"
   },
   "outputs": [],
   "source": [
    "def predict_multiple_boundaries(model, text, tokenizer, max_len, device):\n",
    "    model.eval()\n",
    "\n",
    "    encoding = tokenizer(\n",
    "        text,\n",
    "        max_length=max_len,\n",
    "        padding=\"max_length\",\n",
    "        truncation=True,\n",
    "        return_tensors=\"pt\",\n",
    "        return_special_tokens_mask=True\n",
    "    )\n",
    "\n",
    "    input_ids = encoding[\"input_ids\"].to(device)\n",
    "    attention_mask = encoding[\"attention_mask\"].to(device)\n",
    "\n",
    "    with torch.no_grad():\n",
    "        outputs = model.transformer(input_ids, attention_mask=attention_mask)\n",
    "        sequence_output = model.dropout(outputs.last_hidden_state)\n",
    "        logits = model.classifier(sequence_output)\n",
    "        mask = attention_mask.bool()\n",
    "        predictions = model.crf.decode(logits, mask)\n",
    "\n",
    "    pred_labels = predictions[0]\n",
    "\n",
    "    transition_indices = []\n",
    "    for i in range(1, len(pred_labels)):\n",
    "        if pred_labels[i] != pred_labels[i - 1]:\n",
    "            transition_indices.append(i)\n",
    "\n",
    "    return transition_indices, pred_labels\n"
   ]
  },
  {
   "cell_type": "code",
   "execution_count": null,
   "metadata": {
    "colab": {
     "base_uri": "https://localhost:8080/"
    },
    "id": "M_4FH3b6dhm9",
    "outputId": "1f34d818-0de7-4bf5-950c-f8f569365398"
   },
   "outputs": [],
   "source": [
    "new_text = train_texts[0] + train_texts[1]\n",
    "transition_indices, predicted_labels = predict_multiple_boundaries(\n",
    "    model=model,\n",
    "    text=new_text,\n",
    "    tokenizer=tokenizer,\n",
    "    max_len=512,\n",
    "    device=device\n",
    ")\n",
    "\n",
    "print(f\"Predicted transition indices: {transition_indices}\")\n",
    "print(f\"Predicted labels: {predicted_labels}\")\n",
    "\n"
   ]
  },
  {
   "cell_type": "code",
   "execution_count": null,
   "metadata": {
    "colab": {
     "base_uri": "https://localhost:8080/",
     "height": 191
    },
    "id": "vN6OZfLFs80W",
    "outputId": "7e045e74-db48-407e-8083-539f3fd564bd"
   },
   "outputs": [],
   "source": [
    "new_text"
   ]
  },
  {
   "cell_type": "code",
   "execution_count": null,
   "metadata": {
    "id": "jxJZ4ILqsNv1"
   },
   "outputs": [],
   "source": [
    "from itertools import groupby\n",
    "\n",
    "def underline(text):\n",
    "    return f\"\\033[4m{text}\\033[0m\"\n",
    "\n",
    "words = new_text1.split()\n",
    "word_labels = predicted_labels[:len(words)]\n",
    "\n",
    "formatted_words = [\n",
    "    underline(word) if label == 1 else word\n",
    "    for word, label in zip(words, word_labels)\n",
    "]\n",
    "\n",
    "formatted_text = ' '.join(formatted_words)\n"
   ]
  },
  {
   "cell_type": "code",
   "execution_count": null,
   "metadata": {
    "colab": {
     "base_uri": "https://localhost:8080/"
    },
    "id": "NCVxIE-Q1Q5R",
    "outputId": "2fac0f66-4537-4fb8-ea81-82effad53bfb"
   },
   "outputs": [],
   "source": [
    "print(formatted_text)"
   ]
  },
  {
   "cell_type": "code",
   "execution_count": null,
   "metadata": {
    "colab": {
     "base_uri": "https://localhost:8080/"
    },
    "id": "3TP82M1521P5",
    "outputId": "3149bb13-c1b0-4193-cb43-24309dcf593a"
   },
   "outputs": [],
   "source": [
    "new_text1 = train_texts[0]\n",
    "transition_indices, predicted_labels, machine_generated_percentage = predict_multiple_boundaries(\n",
    "    model=model,\n",
    "    text=new_text1,\n",
    "    tokenizer=tokenizer,\n",
    "    max_len=512,\n",
    "    device=device\n",
    ")\n",
    "\n",
    "print(f\"Predicted transition indices: {transition_indices}\")\n",
    "print(f\"Predicted labels: {predicted_labels}\")\n",
    "print(f\"Percentage of machine-generated content: {machine_generated_percentage:.2f}%\")"
   ]
  },
  {
   "cell_type": "code",
   "execution_count": null,
   "metadata": {
    "id": "9Sy6RMxa9ySW"
   },
   "outputs": [],
   "source": []
  },
  {
   "cell_type": "code",
   "execution_count": null,
   "metadata": {
    "colab": {
     "base_uri": "https://localhost:8080/",
     "height": 419
    },
    "id": "EWEUpx4I3r0C",
    "outputId": "f3932137-1272-42d9-d966-f7067c9da9fa"
   },
   "outputs": [],
   "source": [
    "transition_indices, predicted_labels, machine_generated_percentage = predict_multiple_boundaries(\n",
    "    model=model,\n",
    "    text=new_text,\n",
    "    tokenizer=tokenizer,\n",
    "    max_len=512,\n",
    "    device=device\n",
    ")\n",
    "\n",
    "print(f\"Predicted transition indices: {transition_indices}\")\n",
    "print(f\"Predicted labels: {predicted_labels}\")\n",
    "print(f\"Percentage of machine-generated content: {machine_generated_percentage:.2f}%\")\n",
    "\n",
    "visualize_text_with_colors(new_text, predicted_labels)"
   ]
  },
  {
   "cell_type": "code",
   "execution_count": null,
   "metadata": {
    "colab": {
     "base_uri": "https://localhost:8080/",
     "height": 34
    },
    "id": "jiN8VVkB9tJx",
    "outputId": "9e0ff8f5-0db3-4668-ef85-44eeda2aba7f"
   },
   "outputs": [],
   "source": [
    "from google.colab import files\n",
    "\n",
    "files.download('deberta_v3_best.pth')\n"
   ]
  }
 ],
 "metadata": {
  "accelerator": "GPU",
  "colab": {
   "gpuType": "T4",
   "provenance": []
  },
  "kernelspec": {
   "display_name": "Python 3 (ipykernel)",
   "language": "python",
   "name": "python3"
  },
  "language_info": {
   "codemirror_mode": {
    "name": "ipython",
    "version": 3
   },
   "file_extension": ".py",
   "mimetype": "text/x-python",
   "name": "python",
   "nbconvert_exporter": "python",
   "pygments_lexer": "ipython3",
   "version": "3.10.11"
  },
  "widgets": {
   "application/vnd.jupyter.widget-state+json": {
    "0394b2c79d6942fa85dd5ef8c27dc875": {
     "model_module": "@jupyter-widgets/base",
     "model_module_version": "1.2.0",
     "model_name": "LayoutModel",
     "state": {
      "_model_module": "@jupyter-widgets/base",
      "_model_module_version": "1.2.0",
      "_model_name": "LayoutModel",
      "_view_count": null,
      "_view_module": "@jupyter-widgets/base",
      "_view_module_version": "1.2.0",
      "_view_name": "LayoutView",
      "align_content": null,
      "align_items": null,
      "align_self": null,
      "border": null,
      "bottom": null,
      "display": null,
      "flex": null,
      "flex_flow": null,
      "grid_area": null,
      "grid_auto_columns": null,
      "grid_auto_flow": null,
      "grid_auto_rows": null,
      "grid_column": null,
      "grid_gap": null,
      "grid_row": null,
      "grid_template_areas": null,
      "grid_template_columns": null,
      "grid_template_rows": null,
      "height": null,
      "justify_content": null,
      "justify_items": null,
      "left": null,
      "margin": null,
      "max_height": null,
      "max_width": null,
      "min_height": null,
      "min_width": null,
      "object_fit": null,
      "object_position": null,
      "order": null,
      "overflow": null,
      "overflow_x": null,
      "overflow_y": null,
      "padding": null,
      "right": null,
      "top": null,
      "visibility": null,
      "width": null
     }
    },
    "05249fa3bc20494d86576ecd9fef5925": {
     "model_module": "@jupyter-widgets/base",
     "model_module_version": "1.2.0",
     "model_name": "LayoutModel",
     "state": {
      "_model_module": "@jupyter-widgets/base",
      "_model_module_version": "1.2.0",
      "_model_name": "LayoutModel",
      "_view_count": null,
      "_view_module": "@jupyter-widgets/base",
      "_view_module_version": "1.2.0",
      "_view_name": "LayoutView",
      "align_content": null,
      "align_items": null,
      "align_self": null,
      "border": null,
      "bottom": null,
      "display": null,
      "flex": null,
      "flex_flow": null,
      "grid_area": null,
      "grid_auto_columns": null,
      "grid_auto_flow": null,
      "grid_auto_rows": null,
      "grid_column": null,
      "grid_gap": null,
      "grid_row": null,
      "grid_template_areas": null,
      "grid_template_columns": null,
      "grid_template_rows": null,
      "height": null,
      "justify_content": null,
      "justify_items": null,
      "left": null,
      "margin": null,
      "max_height": null,
      "max_width": null,
      "min_height": null,
      "min_width": null,
      "object_fit": null,
      "object_position": null,
      "order": null,
      "overflow": null,
      "overflow_x": null,
      "overflow_y": null,
      "padding": null,
      "right": null,
      "top": null,
      "visibility": null,
      "width": null
     }
    },
    "071286fe9732487bba38df5bb8d71324": {
     "model_module": "@jupyter-widgets/controls",
     "model_module_version": "1.5.0",
     "model_name": "DescriptionStyleModel",
     "state": {
      "_model_module": "@jupyter-widgets/controls",
      "_model_module_version": "1.5.0",
      "_model_name": "DescriptionStyleModel",
      "_view_count": null,
      "_view_module": "@jupyter-widgets/base",
      "_view_module_version": "1.2.0",
      "_view_name": "StyleView",
      "description_width": ""
     }
    },
    "08698ade0d5d4bfea298bd1d7e27d5be": {
     "model_module": "@jupyter-widgets/controls",
     "model_module_version": "1.5.0",
     "model_name": "DescriptionStyleModel",
     "state": {
      "_model_module": "@jupyter-widgets/controls",
      "_model_module_version": "1.5.0",
      "_model_name": "DescriptionStyleModel",
      "_view_count": null,
      "_view_module": "@jupyter-widgets/base",
      "_view_module_version": "1.2.0",
      "_view_name": "StyleView",
      "description_width": ""
     }
    },
    "0b258dedc2d24a11a092af16a4ed953f": {
     "model_module": "@jupyter-widgets/controls",
     "model_module_version": "1.5.0",
     "model_name": "HTMLModel",
     "state": {
      "_dom_classes": [],
      "_model_module": "@jupyter-widgets/controls",
      "_model_module_version": "1.5.0",
      "_model_name": "HTMLModel",
      "_view_count": null,
      "_view_module": "@jupyter-widgets/controls",
      "_view_module_version": "1.5.0",
      "_view_name": "HTMLView",
      "description": "",
      "description_tooltip": null,
      "layout": "IPY_MODEL_98cd5c08da774a418c30d052933ffa8e",
      "placeholder": "​",
      "style": "IPY_MODEL_33d3daf65be845d790486b9659ea0875",
      "value": "model.safetensors: 100%"
     }
    },
    "14100313ea7247f0aa37bada63e7c5d8": {
     "model_module": "@jupyter-widgets/base",
     "model_module_version": "1.2.0",
     "model_name": "LayoutModel",
     "state": {
      "_model_module": "@jupyter-widgets/base",
      "_model_module_version": "1.2.0",
      "_model_name": "LayoutModel",
      "_view_count": null,
      "_view_module": "@jupyter-widgets/base",
      "_view_module_version": "1.2.0",
      "_view_name": "LayoutView",
      "align_content": null,
      "align_items": null,
      "align_self": null,
      "border": null,
      "bottom": null,
      "display": null,
      "flex": null,
      "flex_flow": null,
      "grid_area": null,
      "grid_auto_columns": null,
      "grid_auto_flow": null,
      "grid_auto_rows": null,
      "grid_column": null,
      "grid_gap": null,
      "grid_row": null,
      "grid_template_areas": null,
      "grid_template_columns": null,
      "grid_template_rows": null,
      "height": null,
      "justify_content": null,
      "justify_items": null,
      "left": null,
      "margin": null,
      "max_height": null,
      "max_width": null,
      "min_height": null,
      "min_width": null,
      "object_fit": null,
      "object_position": null,
      "order": null,
      "overflow": null,
      "overflow_x": null,
      "overflow_y": null,
      "padding": null,
      "right": null,
      "top": null,
      "visibility": null,
      "width": null
     }
    },
    "1d7b3911b38849d485dc0e088fc3f262": {
     "model_module": "@jupyter-widgets/controls",
     "model_module_version": "1.5.0",
     "model_name": "ProgressStyleModel",
     "state": {
      "_model_module": "@jupyter-widgets/controls",
      "_model_module_version": "1.5.0",
      "_model_name": "ProgressStyleModel",
      "_view_count": null,
      "_view_module": "@jupyter-widgets/base",
      "_view_module_version": "1.2.0",
      "_view_name": "StyleView",
      "bar_color": null,
      "description_width": ""
     }
    },
    "1f9e168c0e024b869209e2f0e4995b89": {
     "model_module": "@jupyter-widgets/base",
     "model_module_version": "1.2.0",
     "model_name": "LayoutModel",
     "state": {
      "_model_module": "@jupyter-widgets/base",
      "_model_module_version": "1.2.0",
      "_model_name": "LayoutModel",
      "_view_count": null,
      "_view_module": "@jupyter-widgets/base",
      "_view_module_version": "1.2.0",
      "_view_name": "LayoutView",
      "align_content": null,
      "align_items": null,
      "align_self": null,
      "border": null,
      "bottom": null,
      "display": null,
      "flex": null,
      "flex_flow": null,
      "grid_area": null,
      "grid_auto_columns": null,
      "grid_auto_flow": null,
      "grid_auto_rows": null,
      "grid_column": null,
      "grid_gap": null,
      "grid_row": null,
      "grid_template_areas": null,
      "grid_template_columns": null,
      "grid_template_rows": null,
      "height": null,
      "justify_content": null,
      "justify_items": null,
      "left": null,
      "margin": null,
      "max_height": null,
      "max_width": null,
      "min_height": null,
      "min_width": null,
      "object_fit": null,
      "object_position": null,
      "order": null,
      "overflow": null,
      "overflow_x": null,
      "overflow_y": null,
      "padding": null,
      "right": null,
      "top": null,
      "visibility": null,
      "width": null
     }
    },
    "24d67f674ec2400f9c270212f09741c7": {
     "model_module": "@jupyter-widgets/controls",
     "model_module_version": "1.5.0",
     "model_name": "FloatProgressModel",
     "state": {
      "_dom_classes": [],
      "_model_module": "@jupyter-widgets/controls",
      "_model_module_version": "1.5.0",
      "_model_name": "FloatProgressModel",
      "_view_count": null,
      "_view_module": "@jupyter-widgets/controls",
      "_view_module_version": "1.5.0",
      "_view_name": "ProgressView",
      "bar_style": "success",
      "description": "",
      "description_tooltip": null,
      "layout": "IPY_MODEL_1f9e168c0e024b869209e2f0e4995b89",
      "max": 371101258,
      "min": 0,
      "orientation": "horizontal",
      "style": "IPY_MODEL_d63642bf0abc48b38fe1086d3d5381f2",
      "value": 371101258
     }
    },
    "29e87075ad234a6fa58e25d07354da3b": {
     "model_module": "@jupyter-widgets/base",
     "model_module_version": "1.2.0",
     "model_name": "LayoutModel",
     "state": {
      "_model_module": "@jupyter-widgets/base",
      "_model_module_version": "1.2.0",
      "_model_name": "LayoutModel",
      "_view_count": null,
      "_view_module": "@jupyter-widgets/base",
      "_view_module_version": "1.2.0",
      "_view_name": "LayoutView",
      "align_content": null,
      "align_items": null,
      "align_self": null,
      "border": null,
      "bottom": null,
      "display": null,
      "flex": null,
      "flex_flow": null,
      "grid_area": null,
      "grid_auto_columns": null,
      "grid_auto_flow": null,
      "grid_auto_rows": null,
      "grid_column": null,
      "grid_gap": null,
      "grid_row": null,
      "grid_template_areas": null,
      "grid_template_columns": null,
      "grid_template_rows": null,
      "height": null,
      "justify_content": null,
      "justify_items": null,
      "left": null,
      "margin": null,
      "max_height": null,
      "max_width": null,
      "min_height": null,
      "min_width": null,
      "object_fit": null,
      "object_position": null,
      "order": null,
      "overflow": null,
      "overflow_x": null,
      "overflow_y": null,
      "padding": null,
      "right": null,
      "top": null,
      "visibility": null,
      "width": null
     }
    },
    "2f1079e9852349c3b174c42377502d12": {
     "model_module": "@jupyter-widgets/controls",
     "model_module_version": "1.5.0",
     "model_name": "HTMLModel",
     "state": {
      "_dom_classes": [],
      "_model_module": "@jupyter-widgets/controls",
      "_model_module_version": "1.5.0",
      "_model_name": "HTMLModel",
      "_view_count": null,
      "_view_module": "@jupyter-widgets/controls",
      "_view_module_version": "1.5.0",
      "_view_name": "HTMLView",
      "description": "",
      "description_tooltip": null,
      "layout": "IPY_MODEL_aa0e4a5655974bd0a46718a131966b26",
      "placeholder": "​",
      "style": "IPY_MODEL_08698ade0d5d4bfea298bd1d7e27d5be",
      "value": " 52.0/52.0 [00:00&lt;00:00, 1.62kB/s]"
     }
    },
    "33d3daf65be845d790486b9659ea0875": {
     "model_module": "@jupyter-widgets/controls",
     "model_module_version": "1.5.0",
     "model_name": "DescriptionStyleModel",
     "state": {
      "_model_module": "@jupyter-widgets/controls",
      "_model_module_version": "1.5.0",
      "_model_name": "DescriptionStyleModel",
      "_view_count": null,
      "_view_module": "@jupyter-widgets/base",
      "_view_module_version": "1.2.0",
      "_view_name": "StyleView",
      "description_width": ""
     }
    },
    "344613c1c3824a60829fe86ab0f9074d": {
     "model_module": "@jupyter-widgets/base",
     "model_module_version": "1.2.0",
     "model_name": "LayoutModel",
     "state": {
      "_model_module": "@jupyter-widgets/base",
      "_model_module_version": "1.2.0",
      "_model_name": "LayoutModel",
      "_view_count": null,
      "_view_module": "@jupyter-widgets/base",
      "_view_module_version": "1.2.0",
      "_view_name": "LayoutView",
      "align_content": null,
      "align_items": null,
      "align_self": null,
      "border": null,
      "bottom": null,
      "display": null,
      "flex": null,
      "flex_flow": null,
      "grid_area": null,
      "grid_auto_columns": null,
      "grid_auto_flow": null,
      "grid_auto_rows": null,
      "grid_column": null,
      "grid_gap": null,
      "grid_row": null,
      "grid_template_areas": null,
      "grid_template_columns": null,
      "grid_template_rows": null,
      "height": null,
      "justify_content": null,
      "justify_items": null,
      "left": null,
      "margin": null,
      "max_height": null,
      "max_width": null,
      "min_height": null,
      "min_width": null,
      "object_fit": null,
      "object_position": null,
      "order": null,
      "overflow": null,
      "overflow_x": null,
      "overflow_y": null,
      "padding": null,
      "right": null,
      "top": null,
      "visibility": null,
      "width": null
     }
    },
    "354cd13a897047c1adb9b725a4d10887": {
     "model_module": "@jupyter-widgets/controls",
     "model_module_version": "1.5.0",
     "model_name": "FloatProgressModel",
     "state": {
      "_dom_classes": [],
      "_model_module": "@jupyter-widgets/controls",
      "_model_module_version": "1.5.0",
      "_model_name": "FloatProgressModel",
      "_view_count": null,
      "_view_module": "@jupyter-widgets/controls",
      "_view_module_version": "1.5.0",
      "_view_name": "ProgressView",
      "bar_style": "success",
      "description": "",
      "description_tooltip": null,
      "layout": "IPY_MODEL_bf95888826644575a7f489e647d0fa25",
      "max": 579,
      "min": 0,
      "orientation": "horizontal",
      "style": "IPY_MODEL_99657684e942471386c44c1713609e68",
      "value": 579
     }
    },
    "3833f8278e9e4545b3643b90ef4f689c": {
     "model_module": "@jupyter-widgets/controls",
     "model_module_version": "1.5.0",
     "model_name": "FloatProgressModel",
     "state": {
      "_dom_classes": [],
      "_model_module": "@jupyter-widgets/controls",
      "_model_module_version": "1.5.0",
      "_model_name": "FloatProgressModel",
      "_view_count": null,
      "_view_module": "@jupyter-widgets/controls",
      "_view_module_version": "1.5.0",
      "_view_name": "ProgressView",
      "bar_style": "success",
      "description": "",
      "description_tooltip": null,
      "layout": "IPY_MODEL_83d4ec585d934ff6b5332bf8029c48fd",
      "max": 2464616,
      "min": 0,
      "orientation": "horizontal",
      "style": "IPY_MODEL_df4e6b2a620349d1980994831dd3f23a",
      "value": 2464616
     }
    },
    "3860ac0213af4052883cfdcc8c22e63e": {
     "model_module": "@jupyter-widgets/controls",
     "model_module_version": "1.5.0",
     "model_name": "ProgressStyleModel",
     "state": {
      "_model_module": "@jupyter-widgets/controls",
      "_model_module_version": "1.5.0",
      "_model_name": "ProgressStyleModel",
      "_view_count": null,
      "_view_module": "@jupyter-widgets/base",
      "_view_module_version": "1.2.0",
      "_view_name": "StyleView",
      "bar_color": null,
      "description_width": ""
     }
    },
    "3acedb944cba4246844123b951a124d0": {
     "model_module": "@jupyter-widgets/base",
     "model_module_version": "1.2.0",
     "model_name": "LayoutModel",
     "state": {
      "_model_module": "@jupyter-widgets/base",
      "_model_module_version": "1.2.0",
      "_model_name": "LayoutModel",
      "_view_count": null,
      "_view_module": "@jupyter-widgets/base",
      "_view_module_version": "1.2.0",
      "_view_name": "LayoutView",
      "align_content": null,
      "align_items": null,
      "align_self": null,
      "border": null,
      "bottom": null,
      "display": null,
      "flex": null,
      "flex_flow": null,
      "grid_area": null,
      "grid_auto_columns": null,
      "grid_auto_flow": null,
      "grid_auto_rows": null,
      "grid_column": null,
      "grid_gap": null,
      "grid_row": null,
      "grid_template_areas": null,
      "grid_template_columns": null,
      "grid_template_rows": null,
      "height": null,
      "justify_content": null,
      "justify_items": null,
      "left": null,
      "margin": null,
      "max_height": null,
      "max_width": null,
      "min_height": null,
      "min_width": null,
      "object_fit": null,
      "object_position": null,
      "order": null,
      "overflow": null,
      "overflow_x": null,
      "overflow_y": null,
      "padding": null,
      "right": null,
      "top": null,
      "visibility": null,
      "width": null
     }
    },
    "3f57413a32e44cb0b7e7e88a53875ff6": {
     "model_module": "@jupyter-widgets/controls",
     "model_module_version": "1.5.0",
     "model_name": "DescriptionStyleModel",
     "state": {
      "_model_module": "@jupyter-widgets/controls",
      "_model_module_version": "1.5.0",
      "_model_name": "DescriptionStyleModel",
      "_view_count": null,
      "_view_module": "@jupyter-widgets/base",
      "_view_module_version": "1.2.0",
      "_view_name": "StyleView",
      "description_width": ""
     }
    },
    "414558c923e040cfadeea9b98ee37db5": {
     "model_module": "@jupyter-widgets/base",
     "model_module_version": "1.2.0",
     "model_name": "LayoutModel",
     "state": {
      "_model_module": "@jupyter-widgets/base",
      "_model_module_version": "1.2.0",
      "_model_name": "LayoutModel",
      "_view_count": null,
      "_view_module": "@jupyter-widgets/base",
      "_view_module_version": "1.2.0",
      "_view_name": "LayoutView",
      "align_content": null,
      "align_items": null,
      "align_self": null,
      "border": null,
      "bottom": null,
      "display": null,
      "flex": null,
      "flex_flow": null,
      "grid_area": null,
      "grid_auto_columns": null,
      "grid_auto_flow": null,
      "grid_auto_rows": null,
      "grid_column": null,
      "grid_gap": null,
      "grid_row": null,
      "grid_template_areas": null,
      "grid_template_columns": null,
      "grid_template_rows": null,
      "height": null,
      "justify_content": null,
      "justify_items": null,
      "left": null,
      "margin": null,
      "max_height": null,
      "max_width": null,
      "min_height": null,
      "min_width": null,
      "object_fit": null,
      "object_position": null,
      "order": null,
      "overflow": null,
      "overflow_x": null,
      "overflow_y": null,
      "padding": null,
      "right": null,
      "top": null,
      "visibility": null,
      "width": null
     }
    },
    "4556e397512e4ff38eec04f9d6261278": {
     "model_module": "@jupyter-widgets/base",
     "model_module_version": "1.2.0",
     "model_name": "LayoutModel",
     "state": {
      "_model_module": "@jupyter-widgets/base",
      "_model_module_version": "1.2.0",
      "_model_name": "LayoutModel",
      "_view_count": null,
      "_view_module": "@jupyter-widgets/base",
      "_view_module_version": "1.2.0",
      "_view_name": "LayoutView",
      "align_content": null,
      "align_items": null,
      "align_self": null,
      "border": null,
      "bottom": null,
      "display": null,
      "flex": null,
      "flex_flow": null,
      "grid_area": null,
      "grid_auto_columns": null,
      "grid_auto_flow": null,
      "grid_auto_rows": null,
      "grid_column": null,
      "grid_gap": null,
      "grid_row": null,
      "grid_template_areas": null,
      "grid_template_columns": null,
      "grid_template_rows": null,
      "height": null,
      "justify_content": null,
      "justify_items": null,
      "left": null,
      "margin": null,
      "max_height": null,
      "max_width": null,
      "min_height": null,
      "min_width": null,
      "object_fit": null,
      "object_position": null,
      "order": null,
      "overflow": null,
      "overflow_x": null,
      "overflow_y": null,
      "padding": null,
      "right": null,
      "top": null,
      "visibility": null,
      "width": null
     }
    },
    "4c52afa3ab9f4642a01d250ea149dcbc": {
     "model_module": "@jupyter-widgets/base",
     "model_module_version": "1.2.0",
     "model_name": "LayoutModel",
     "state": {
      "_model_module": "@jupyter-widgets/base",
      "_model_module_version": "1.2.0",
      "_model_name": "LayoutModel",
      "_view_count": null,
      "_view_module": "@jupyter-widgets/base",
      "_view_module_version": "1.2.0",
      "_view_name": "LayoutView",
      "align_content": null,
      "align_items": null,
      "align_self": null,
      "border": null,
      "bottom": null,
      "display": null,
      "flex": null,
      "flex_flow": null,
      "grid_area": null,
      "grid_auto_columns": null,
      "grid_auto_flow": null,
      "grid_auto_rows": null,
      "grid_column": null,
      "grid_gap": null,
      "grid_row": null,
      "grid_template_areas": null,
      "grid_template_columns": null,
      "grid_template_rows": null,
      "height": null,
      "justify_content": null,
      "justify_items": null,
      "left": null,
      "margin": null,
      "max_height": null,
      "max_width": null,
      "min_height": null,
      "min_width": null,
      "object_fit": null,
      "object_position": null,
      "order": null,
      "overflow": null,
      "overflow_x": null,
      "overflow_y": null,
      "padding": null,
      "right": null,
      "top": null,
      "visibility": null,
      "width": null
     }
    },
    "4f0dfaf248d44d6daf136b2f4028bacc": {
     "model_module": "@jupyter-widgets/controls",
     "model_module_version": "1.5.0",
     "model_name": "HTMLModel",
     "state": {
      "_dom_classes": [],
      "_model_module": "@jupyter-widgets/controls",
      "_model_module_version": "1.5.0",
      "_model_name": "HTMLModel",
      "_view_count": null,
      "_view_module": "@jupyter-widgets/controls",
      "_view_module_version": "1.5.0",
      "_view_name": "HTMLView",
      "description": "",
      "description_tooltip": null,
      "layout": "IPY_MODEL_29e87075ad234a6fa58e25d07354da3b",
      "placeholder": "​",
      "style": "IPY_MODEL_d6fef5504e7f4964933b5c90933a1eda",
      "value": "tokenizer_config.json: 100%"
     }
    },
    "5002c3950cbd488eaa9032ac6f33aba9": {
     "model_module": "@jupyter-widgets/controls",
     "model_module_version": "1.5.0",
     "model_name": "HBoxModel",
     "state": {
      "_dom_classes": [],
      "_model_module": "@jupyter-widgets/controls",
      "_model_module_version": "1.5.0",
      "_model_name": "HBoxModel",
      "_view_count": null,
      "_view_module": "@jupyter-widgets/controls",
      "_view_module_version": "1.5.0",
      "_view_name": "HBoxView",
      "box_style": "",
      "children": [
       "IPY_MODEL_4f0dfaf248d44d6daf136b2f4028bacc",
       "IPY_MODEL_55e6bf4ab8e14b47a97551e87f6b05f0",
       "IPY_MODEL_2f1079e9852349c3b174c42377502d12"
      ],
      "layout": "IPY_MODEL_ede39b28645f4e8ab31c4c5be008939f"
     }
    },
    "55127e40ddb946e8b1c0758b47022575": {
     "model_module": "@jupyter-widgets/controls",
     "model_module_version": "1.5.0",
     "model_name": "HBoxModel",
     "state": {
      "_dom_classes": [],
      "_model_module": "@jupyter-widgets/controls",
      "_model_module_version": "1.5.0",
      "_model_name": "HBoxModel",
      "_view_count": null,
      "_view_module": "@jupyter-widgets/controls",
      "_view_module_version": "1.5.0",
      "_view_name": "HBoxView",
      "box_style": "",
      "children": [
       "IPY_MODEL_704be362a5b248db98a05c20cf489ac7",
       "IPY_MODEL_3833f8278e9e4545b3643b90ef4f689c",
       "IPY_MODEL_ea6cd5e6938345309f2f3f9881601343"
      ],
      "layout": "IPY_MODEL_a4f69943befe4feebed8457548b134af"
     }
    },
    "55e6bf4ab8e14b47a97551e87f6b05f0": {
     "model_module": "@jupyter-widgets/controls",
     "model_module_version": "1.5.0",
     "model_name": "FloatProgressModel",
     "state": {
      "_dom_classes": [],
      "_model_module": "@jupyter-widgets/controls",
      "_model_module_version": "1.5.0",
      "_model_name": "FloatProgressModel",
      "_view_count": null,
      "_view_module": "@jupyter-widgets/controls",
      "_view_module_version": "1.5.0",
      "_view_name": "ProgressView",
      "bar_style": "success",
      "description": "",
      "description_tooltip": null,
      "layout": "IPY_MODEL_3acedb944cba4246844123b951a124d0",
      "max": 52,
      "min": 0,
      "orientation": "horizontal",
      "style": "IPY_MODEL_1d7b3911b38849d485dc0e088fc3f262",
      "value": 52
     }
    },
    "568780a237d04697a584c289c0b005a4": {
     "model_module": "@jupyter-widgets/controls",
     "model_module_version": "1.5.0",
     "model_name": "DescriptionStyleModel",
     "state": {
      "_model_module": "@jupyter-widgets/controls",
      "_model_module_version": "1.5.0",
      "_model_name": "DescriptionStyleModel",
      "_view_count": null,
      "_view_module": "@jupyter-widgets/base",
      "_view_module_version": "1.2.0",
      "_view_name": "StyleView",
      "description_width": ""
     }
    },
    "65b21065c3924c10859455859fd4caf8": {
     "model_module": "@jupyter-widgets/controls",
     "model_module_version": "1.5.0",
     "model_name": "DescriptionStyleModel",
     "state": {
      "_model_module": "@jupyter-widgets/controls",
      "_model_module_version": "1.5.0",
      "_model_name": "DescriptionStyleModel",
      "_view_count": null,
      "_view_module": "@jupyter-widgets/base",
      "_view_module_version": "1.2.0",
      "_view_name": "StyleView",
      "description_width": ""
     }
    },
    "6d48bd75bfce4feda6f9367587e2ecf0": {
     "model_module": "@jupyter-widgets/base",
     "model_module_version": "1.2.0",
     "model_name": "LayoutModel",
     "state": {
      "_model_module": "@jupyter-widgets/base",
      "_model_module_version": "1.2.0",
      "_model_name": "LayoutModel",
      "_view_count": null,
      "_view_module": "@jupyter-widgets/base",
      "_view_module_version": "1.2.0",
      "_view_name": "LayoutView",
      "align_content": null,
      "align_items": null,
      "align_self": null,
      "border": null,
      "bottom": null,
      "display": null,
      "flex": null,
      "flex_flow": null,
      "grid_area": null,
      "grid_auto_columns": null,
      "grid_auto_flow": null,
      "grid_auto_rows": null,
      "grid_column": null,
      "grid_gap": null,
      "grid_row": null,
      "grid_template_areas": null,
      "grid_template_columns": null,
      "grid_template_rows": null,
      "height": null,
      "justify_content": null,
      "justify_items": null,
      "left": null,
      "margin": null,
      "max_height": null,
      "max_width": null,
      "min_height": null,
      "min_width": null,
      "object_fit": null,
      "object_position": null,
      "order": null,
      "overflow": null,
      "overflow_x": null,
      "overflow_y": null,
      "padding": null,
      "right": null,
      "top": null,
      "visibility": null,
      "width": null
     }
    },
    "704be362a5b248db98a05c20cf489ac7": {
     "model_module": "@jupyter-widgets/controls",
     "model_module_version": "1.5.0",
     "model_name": "HTMLModel",
     "state": {
      "_dom_classes": [],
      "_model_module": "@jupyter-widgets/controls",
      "_model_module_version": "1.5.0",
      "_model_name": "HTMLModel",
      "_view_count": null,
      "_view_module": "@jupyter-widgets/controls",
      "_view_module_version": "1.5.0",
      "_view_name": "HTMLView",
      "description": "",
      "description_tooltip": null,
      "layout": "IPY_MODEL_344613c1c3824a60829fe86ab0f9074d",
      "placeholder": "​",
      "style": "IPY_MODEL_071286fe9732487bba38df5bb8d71324",
      "value": "spm.model: 100%"
     }
    },
    "755c9d2d816745ca951cfa43a0773826": {
     "model_module": "@jupyter-widgets/controls",
     "model_module_version": "1.5.0",
     "model_name": "HBoxModel",
     "state": {
      "_dom_classes": [],
      "_model_module": "@jupyter-widgets/controls",
      "_model_module_version": "1.5.0",
      "_model_name": "HBoxModel",
      "_view_count": null,
      "_view_module": "@jupyter-widgets/controls",
      "_view_module_version": "1.5.0",
      "_view_name": "HBoxView",
      "box_style": "",
      "children": [
       "IPY_MODEL_f0dc987c157d400599b4a2ef37573810",
       "IPY_MODEL_354cd13a897047c1adb9b725a4d10887",
       "IPY_MODEL_8e36d8da040e4a378b8b9e29a588fbfc"
      ],
      "layout": "IPY_MODEL_4c52afa3ab9f4642a01d250ea149dcbc"
     }
    },
    "7a2815553f194721b954073750147bb6": {
     "model_module": "@jupyter-widgets/controls",
     "model_module_version": "1.5.0",
     "model_name": "HBoxModel",
     "state": {
      "_dom_classes": [],
      "_model_module": "@jupyter-widgets/controls",
      "_model_module_version": "1.5.0",
      "_model_name": "HBoxModel",
      "_view_count": null,
      "_view_module": "@jupyter-widgets/controls",
      "_view_module_version": "1.5.0",
      "_view_name": "HBoxView",
      "box_style": "",
      "children": [
       "IPY_MODEL_0b258dedc2d24a11a092af16a4ed953f",
       "IPY_MODEL_24d67f674ec2400f9c270212f09741c7",
       "IPY_MODEL_d9e000d1756d4726b9ebe6467445503b"
      ],
      "layout": "IPY_MODEL_0394b2c79d6942fa85dd5ef8c27dc875"
     }
    },
    "83d4ec585d934ff6b5332bf8029c48fd": {
     "model_module": "@jupyter-widgets/base",
     "model_module_version": "1.2.0",
     "model_name": "LayoutModel",
     "state": {
      "_model_module": "@jupyter-widgets/base",
      "_model_module_version": "1.2.0",
      "_model_name": "LayoutModel",
      "_view_count": null,
      "_view_module": "@jupyter-widgets/base",
      "_view_module_version": "1.2.0",
      "_view_name": "LayoutView",
      "align_content": null,
      "align_items": null,
      "align_self": null,
      "border": null,
      "bottom": null,
      "display": null,
      "flex": null,
      "flex_flow": null,
      "grid_area": null,
      "grid_auto_columns": null,
      "grid_auto_flow": null,
      "grid_auto_rows": null,
      "grid_column": null,
      "grid_gap": null,
      "grid_row": null,
      "grid_template_areas": null,
      "grid_template_columns": null,
      "grid_template_rows": null,
      "height": null,
      "justify_content": null,
      "justify_items": null,
      "left": null,
      "margin": null,
      "max_height": null,
      "max_width": null,
      "min_height": null,
      "min_width": null,
      "object_fit": null,
      "object_position": null,
      "order": null,
      "overflow": null,
      "overflow_x": null,
      "overflow_y": null,
      "padding": null,
      "right": null,
      "top": null,
      "visibility": null,
      "width": null
     }
    },
    "841485ef58d64267a0bb939b28ea87a0": {
     "model_module": "@jupyter-widgets/base",
     "model_module_version": "1.2.0",
     "model_name": "LayoutModel",
     "state": {
      "_model_module": "@jupyter-widgets/base",
      "_model_module_version": "1.2.0",
      "_model_name": "LayoutModel",
      "_view_count": null,
      "_view_module": "@jupyter-widgets/base",
      "_view_module_version": "1.2.0",
      "_view_name": "LayoutView",
      "align_content": null,
      "align_items": null,
      "align_self": null,
      "border": null,
      "bottom": null,
      "display": null,
      "flex": null,
      "flex_flow": null,
      "grid_area": null,
      "grid_auto_columns": null,
      "grid_auto_flow": null,
      "grid_auto_rows": null,
      "grid_column": null,
      "grid_gap": null,
      "grid_row": null,
      "grid_template_areas": null,
      "grid_template_columns": null,
      "grid_template_rows": null,
      "height": null,
      "justify_content": null,
      "justify_items": null,
      "left": null,
      "margin": null,
      "max_height": null,
      "max_width": null,
      "min_height": null,
      "min_width": null,
      "object_fit": null,
      "object_position": null,
      "order": null,
      "overflow": null,
      "overflow_x": null,
      "overflow_y": null,
      "padding": null,
      "right": null,
      "top": null,
      "visibility": null,
      "width": null
     }
    },
    "8e36d8da040e4a378b8b9e29a588fbfc": {
     "model_module": "@jupyter-widgets/controls",
     "model_module_version": "1.5.0",
     "model_name": "HTMLModel",
     "state": {
      "_dom_classes": [],
      "_model_module": "@jupyter-widgets/controls",
      "_model_module_version": "1.5.0",
      "_model_name": "HTMLModel",
      "_view_count": null,
      "_view_module": "@jupyter-widgets/controls",
      "_view_module_version": "1.5.0",
      "_view_name": "HTMLView",
      "description": "",
      "description_tooltip": null,
      "layout": "IPY_MODEL_05249fa3bc20494d86576ecd9fef5925",
      "placeholder": "​",
      "style": "IPY_MODEL_f02f20b9babc47239518baead559812a",
      "value": " 579/579 [00:00&lt;00:00, 12.9kB/s]"
     }
    },
    "98cd5c08da774a418c30d052933ffa8e": {
     "model_module": "@jupyter-widgets/base",
     "model_module_version": "1.2.0",
     "model_name": "LayoutModel",
     "state": {
      "_model_module": "@jupyter-widgets/base",
      "_model_module_version": "1.2.0",
      "_model_name": "LayoutModel",
      "_view_count": null,
      "_view_module": "@jupyter-widgets/base",
      "_view_module_version": "1.2.0",
      "_view_name": "LayoutView",
      "align_content": null,
      "align_items": null,
      "align_self": null,
      "border": null,
      "bottom": null,
      "display": null,
      "flex": null,
      "flex_flow": null,
      "grid_area": null,
      "grid_auto_columns": null,
      "grid_auto_flow": null,
      "grid_auto_rows": null,
      "grid_column": null,
      "grid_gap": null,
      "grid_row": null,
      "grid_template_areas": null,
      "grid_template_columns": null,
      "grid_template_rows": null,
      "height": null,
      "justify_content": null,
      "justify_items": null,
      "left": null,
      "margin": null,
      "max_height": null,
      "max_width": null,
      "min_height": null,
      "min_width": null,
      "object_fit": null,
      "object_position": null,
      "order": null,
      "overflow": null,
      "overflow_x": null,
      "overflow_y": null,
      "padding": null,
      "right": null,
      "top": null,
      "visibility": null,
      "width": null
     }
    },
    "99657684e942471386c44c1713609e68": {
     "model_module": "@jupyter-widgets/controls",
     "model_module_version": "1.5.0",
     "model_name": "ProgressStyleModel",
     "state": {
      "_model_module": "@jupyter-widgets/controls",
      "_model_module_version": "1.5.0",
      "_model_name": "ProgressStyleModel",
      "_view_count": null,
      "_view_module": "@jupyter-widgets/base",
      "_view_module_version": "1.2.0",
      "_view_name": "StyleView",
      "bar_color": null,
      "description_width": ""
     }
    },
    "9a1ed217dfe541b781c326c21b57bfd7": {
     "model_module": "@jupyter-widgets/controls",
     "model_module_version": "1.5.0",
     "model_name": "HTMLModel",
     "state": {
      "_dom_classes": [],
      "_model_module": "@jupyter-widgets/controls",
      "_model_module_version": "1.5.0",
      "_model_name": "HTMLModel",
      "_view_count": null,
      "_view_module": "@jupyter-widgets/controls",
      "_view_module_version": "1.5.0",
      "_view_name": "HTMLView",
      "description": "",
      "description_tooltip": null,
      "layout": "IPY_MODEL_6d48bd75bfce4feda6f9367587e2ecf0",
      "placeholder": "​",
      "style": "IPY_MODEL_568780a237d04697a584c289c0b005a4",
      "value": "pytorch_model.bin: 100%"
     }
    },
    "a4f69943befe4feebed8457548b134af": {
     "model_module": "@jupyter-widgets/base",
     "model_module_version": "1.2.0",
     "model_name": "LayoutModel",
     "state": {
      "_model_module": "@jupyter-widgets/base",
      "_model_module_version": "1.2.0",
      "_model_name": "LayoutModel",
      "_view_count": null,
      "_view_module": "@jupyter-widgets/base",
      "_view_module_version": "1.2.0",
      "_view_name": "LayoutView",
      "align_content": null,
      "align_items": null,
      "align_self": null,
      "border": null,
      "bottom": null,
      "display": null,
      "flex": null,
      "flex_flow": null,
      "grid_area": null,
      "grid_auto_columns": null,
      "grid_auto_flow": null,
      "grid_auto_rows": null,
      "grid_column": null,
      "grid_gap": null,
      "grid_row": null,
      "grid_template_areas": null,
      "grid_template_columns": null,
      "grid_template_rows": null,
      "height": null,
      "justify_content": null,
      "justify_items": null,
      "left": null,
      "margin": null,
      "max_height": null,
      "max_width": null,
      "min_height": null,
      "min_width": null,
      "object_fit": null,
      "object_position": null,
      "order": null,
      "overflow": null,
      "overflow_x": null,
      "overflow_y": null,
      "padding": null,
      "right": null,
      "top": null,
      "visibility": null,
      "width": null
     }
    },
    "a831b782739f44ea934a90bdb0195b22": {
     "model_module": "@jupyter-widgets/controls",
     "model_module_version": "1.5.0",
     "model_name": "DescriptionStyleModel",
     "state": {
      "_model_module": "@jupyter-widgets/controls",
      "_model_module_version": "1.5.0",
      "_model_name": "DescriptionStyleModel",
      "_view_count": null,
      "_view_module": "@jupyter-widgets/base",
      "_view_module_version": "1.2.0",
      "_view_name": "StyleView",
      "description_width": ""
     }
    },
    "aa0e4a5655974bd0a46718a131966b26": {
     "model_module": "@jupyter-widgets/base",
     "model_module_version": "1.2.0",
     "model_name": "LayoutModel",
     "state": {
      "_model_module": "@jupyter-widgets/base",
      "_model_module_version": "1.2.0",
      "_model_name": "LayoutModel",
      "_view_count": null,
      "_view_module": "@jupyter-widgets/base",
      "_view_module_version": "1.2.0",
      "_view_name": "LayoutView",
      "align_content": null,
      "align_items": null,
      "align_self": null,
      "border": null,
      "bottom": null,
      "display": null,
      "flex": null,
      "flex_flow": null,
      "grid_area": null,
      "grid_auto_columns": null,
      "grid_auto_flow": null,
      "grid_auto_rows": null,
      "grid_column": null,
      "grid_gap": null,
      "grid_row": null,
      "grid_template_areas": null,
      "grid_template_columns": null,
      "grid_template_rows": null,
      "height": null,
      "justify_content": null,
      "justify_items": null,
      "left": null,
      "margin": null,
      "max_height": null,
      "max_width": null,
      "min_height": null,
      "min_width": null,
      "object_fit": null,
      "object_position": null,
      "order": null,
      "overflow": null,
      "overflow_x": null,
      "overflow_y": null,
      "padding": null,
      "right": null,
      "top": null,
      "visibility": null,
      "width": null
     }
    },
    "b4c3b70ef32040208950611ff773046e": {
     "model_module": "@jupyter-widgets/base",
     "model_module_version": "1.2.0",
     "model_name": "LayoutModel",
     "state": {
      "_model_module": "@jupyter-widgets/base",
      "_model_module_version": "1.2.0",
      "_model_name": "LayoutModel",
      "_view_count": null,
      "_view_module": "@jupyter-widgets/base",
      "_view_module_version": "1.2.0",
      "_view_name": "LayoutView",
      "align_content": null,
      "align_items": null,
      "align_self": null,
      "border": null,
      "bottom": null,
      "display": null,
      "flex": null,
      "flex_flow": null,
      "grid_area": null,
      "grid_auto_columns": null,
      "grid_auto_flow": null,
      "grid_auto_rows": null,
      "grid_column": null,
      "grid_gap": null,
      "grid_row": null,
      "grid_template_areas": null,
      "grid_template_columns": null,
      "grid_template_rows": null,
      "height": null,
      "justify_content": null,
      "justify_items": null,
      "left": null,
      "margin": null,
      "max_height": null,
      "max_width": null,
      "min_height": null,
      "min_width": null,
      "object_fit": null,
      "object_position": null,
      "order": null,
      "overflow": null,
      "overflow_x": null,
      "overflow_y": null,
      "padding": null,
      "right": null,
      "top": null,
      "visibility": null,
      "width": null
     }
    },
    "bf95888826644575a7f489e647d0fa25": {
     "model_module": "@jupyter-widgets/base",
     "model_module_version": "1.2.0",
     "model_name": "LayoutModel",
     "state": {
      "_model_module": "@jupyter-widgets/base",
      "_model_module_version": "1.2.0",
      "_model_name": "LayoutModel",
      "_view_count": null,
      "_view_module": "@jupyter-widgets/base",
      "_view_module_version": "1.2.0",
      "_view_name": "LayoutView",
      "align_content": null,
      "align_items": null,
      "align_self": null,
      "border": null,
      "bottom": null,
      "display": null,
      "flex": null,
      "flex_flow": null,
      "grid_area": null,
      "grid_auto_columns": null,
      "grid_auto_flow": null,
      "grid_auto_rows": null,
      "grid_column": null,
      "grid_gap": null,
      "grid_row": null,
      "grid_template_areas": null,
      "grid_template_columns": null,
      "grid_template_rows": null,
      "height": null,
      "justify_content": null,
      "justify_items": null,
      "left": null,
      "margin": null,
      "max_height": null,
      "max_width": null,
      "min_height": null,
      "min_width": null,
      "object_fit": null,
      "object_position": null,
      "order": null,
      "overflow": null,
      "overflow_x": null,
      "overflow_y": null,
      "padding": null,
      "right": null,
      "top": null,
      "visibility": null,
      "width": null
     }
    },
    "cba31e1ab28b49bbae99ca94d5e7f435": {
     "model_module": "@jupyter-widgets/controls",
     "model_module_version": "1.5.0",
     "model_name": "FloatProgressModel",
     "state": {
      "_dom_classes": [],
      "_model_module": "@jupyter-widgets/controls",
      "_model_module_version": "1.5.0",
      "_model_name": "FloatProgressModel",
      "_view_count": null,
      "_view_module": "@jupyter-widgets/controls",
      "_view_module_version": "1.5.0",
      "_view_name": "ProgressView",
      "bar_style": "success",
      "description": "",
      "description_tooltip": null,
      "layout": "IPY_MODEL_d8c290e0f6e24a188d288d14a0a98d55",
      "max": 371146213,
      "min": 0,
      "orientation": "horizontal",
      "style": "IPY_MODEL_3860ac0213af4052883cfdcc8c22e63e",
      "value": 371146213
     }
    },
    "d63642bf0abc48b38fe1086d3d5381f2": {
     "model_module": "@jupyter-widgets/controls",
     "model_module_version": "1.5.0",
     "model_name": "ProgressStyleModel",
     "state": {
      "_model_module": "@jupyter-widgets/controls",
      "_model_module_version": "1.5.0",
      "_model_name": "ProgressStyleModel",
      "_view_count": null,
      "_view_module": "@jupyter-widgets/base",
      "_view_module_version": "1.2.0",
      "_view_name": "StyleView",
      "bar_color": null,
      "description_width": ""
     }
    },
    "d6fef5504e7f4964933b5c90933a1eda": {
     "model_module": "@jupyter-widgets/controls",
     "model_module_version": "1.5.0",
     "model_name": "DescriptionStyleModel",
     "state": {
      "_model_module": "@jupyter-widgets/controls",
      "_model_module_version": "1.5.0",
      "_model_name": "DescriptionStyleModel",
      "_view_count": null,
      "_view_module": "@jupyter-widgets/base",
      "_view_module_version": "1.2.0",
      "_view_name": "StyleView",
      "description_width": ""
     }
    },
    "d8c290e0f6e24a188d288d14a0a98d55": {
     "model_module": "@jupyter-widgets/base",
     "model_module_version": "1.2.0",
     "model_name": "LayoutModel",
     "state": {
      "_model_module": "@jupyter-widgets/base",
      "_model_module_version": "1.2.0",
      "_model_name": "LayoutModel",
      "_view_count": null,
      "_view_module": "@jupyter-widgets/base",
      "_view_module_version": "1.2.0",
      "_view_name": "LayoutView",
      "align_content": null,
      "align_items": null,
      "align_self": null,
      "border": null,
      "bottom": null,
      "display": null,
      "flex": null,
      "flex_flow": null,
      "grid_area": null,
      "grid_auto_columns": null,
      "grid_auto_flow": null,
      "grid_auto_rows": null,
      "grid_column": null,
      "grid_gap": null,
      "grid_row": null,
      "grid_template_areas": null,
      "grid_template_columns": null,
      "grid_template_rows": null,
      "height": null,
      "justify_content": null,
      "justify_items": null,
      "left": null,
      "margin": null,
      "max_height": null,
      "max_width": null,
      "min_height": null,
      "min_width": null,
      "object_fit": null,
      "object_position": null,
      "order": null,
      "overflow": null,
      "overflow_x": null,
      "overflow_y": null,
      "padding": null,
      "right": null,
      "top": null,
      "visibility": null,
      "width": null
     }
    },
    "d9e000d1756d4726b9ebe6467445503b": {
     "model_module": "@jupyter-widgets/controls",
     "model_module_version": "1.5.0",
     "model_name": "HTMLModel",
     "state": {
      "_dom_classes": [],
      "_model_module": "@jupyter-widgets/controls",
      "_model_module_version": "1.5.0",
      "_model_name": "HTMLModel",
      "_view_count": null,
      "_view_module": "@jupyter-widgets/controls",
      "_view_module_version": "1.5.0",
      "_view_name": "HTMLView",
      "description": "",
      "description_tooltip": null,
      "layout": "IPY_MODEL_4556e397512e4ff38eec04f9d6261278",
      "placeholder": "​",
      "style": "IPY_MODEL_ea749f60bfee414fa00f02543dd9d3ae",
      "value": " 371M/371M [00:02&lt;00:00, 235MB/s]"
     }
    },
    "df4e6b2a620349d1980994831dd3f23a": {
     "model_module": "@jupyter-widgets/controls",
     "model_module_version": "1.5.0",
     "model_name": "ProgressStyleModel",
     "state": {
      "_model_module": "@jupyter-widgets/controls",
      "_model_module_version": "1.5.0",
      "_model_name": "ProgressStyleModel",
      "_view_count": null,
      "_view_module": "@jupyter-widgets/base",
      "_view_module_version": "1.2.0",
      "_view_name": "StyleView",
      "bar_color": null,
      "description_width": ""
     }
    },
    "ea6cd5e6938345309f2f3f9881601343": {
     "model_module": "@jupyter-widgets/controls",
     "model_module_version": "1.5.0",
     "model_name": "HTMLModel",
     "state": {
      "_dom_classes": [],
      "_model_module": "@jupyter-widgets/controls",
      "_model_module_version": "1.5.0",
      "_model_name": "HTMLModel",
      "_view_count": null,
      "_view_module": "@jupyter-widgets/controls",
      "_view_module_version": "1.5.0",
      "_view_name": "HTMLView",
      "description": "",
      "description_tooltip": null,
      "layout": "IPY_MODEL_14100313ea7247f0aa37bada63e7c5d8",
      "placeholder": "​",
      "style": "IPY_MODEL_65b21065c3924c10859455859fd4caf8",
      "value": " 2.46M/2.46M [00:00&lt;00:00, 23.4MB/s]"
     }
    },
    "ea749f60bfee414fa00f02543dd9d3ae": {
     "model_module": "@jupyter-widgets/controls",
     "model_module_version": "1.5.0",
     "model_name": "DescriptionStyleModel",
     "state": {
      "_model_module": "@jupyter-widgets/controls",
      "_model_module_version": "1.5.0",
      "_model_name": "DescriptionStyleModel",
      "_view_count": null,
      "_view_module": "@jupyter-widgets/base",
      "_view_module_version": "1.2.0",
      "_view_name": "StyleView",
      "description_width": ""
     }
    },
    "ecf00cacd9bb47e6ae9a0a63b529c090": {
     "model_module": "@jupyter-widgets/controls",
     "model_module_version": "1.5.0",
     "model_name": "HTMLModel",
     "state": {
      "_dom_classes": [],
      "_model_module": "@jupyter-widgets/controls",
      "_model_module_version": "1.5.0",
      "_model_name": "HTMLModel",
      "_view_count": null,
      "_view_module": "@jupyter-widgets/controls",
      "_view_module_version": "1.5.0",
      "_view_name": "HTMLView",
      "description": "",
      "description_tooltip": null,
      "layout": "IPY_MODEL_b4c3b70ef32040208950611ff773046e",
      "placeholder": "​",
      "style": "IPY_MODEL_3f57413a32e44cb0b7e7e88a53875ff6",
      "value": " 371M/371M [00:04&lt;00:00, 71.1MB/s]"
     }
    },
    "ede39b28645f4e8ab31c4c5be008939f": {
     "model_module": "@jupyter-widgets/base",
     "model_module_version": "1.2.0",
     "model_name": "LayoutModel",
     "state": {
      "_model_module": "@jupyter-widgets/base",
      "_model_module_version": "1.2.0",
      "_model_name": "LayoutModel",
      "_view_count": null,
      "_view_module": "@jupyter-widgets/base",
      "_view_module_version": "1.2.0",
      "_view_name": "LayoutView",
      "align_content": null,
      "align_items": null,
      "align_self": null,
      "border": null,
      "bottom": null,
      "display": null,
      "flex": null,
      "flex_flow": null,
      "grid_area": null,
      "grid_auto_columns": null,
      "grid_auto_flow": null,
      "grid_auto_rows": null,
      "grid_column": null,
      "grid_gap": null,
      "grid_row": null,
      "grid_template_areas": null,
      "grid_template_columns": null,
      "grid_template_rows": null,
      "height": null,
      "justify_content": null,
      "justify_items": null,
      "left": null,
      "margin": null,
      "max_height": null,
      "max_width": null,
      "min_height": null,
      "min_width": null,
      "object_fit": null,
      "object_position": null,
      "order": null,
      "overflow": null,
      "overflow_x": null,
      "overflow_y": null,
      "padding": null,
      "right": null,
      "top": null,
      "visibility": null,
      "width": null
     }
    },
    "f02f20b9babc47239518baead559812a": {
     "model_module": "@jupyter-widgets/controls",
     "model_module_version": "1.5.0",
     "model_name": "DescriptionStyleModel",
     "state": {
      "_model_module": "@jupyter-widgets/controls",
      "_model_module_version": "1.5.0",
      "_model_name": "DescriptionStyleModel",
      "_view_count": null,
      "_view_module": "@jupyter-widgets/base",
      "_view_module_version": "1.2.0",
      "_view_name": "StyleView",
      "description_width": ""
     }
    },
    "f0dc987c157d400599b4a2ef37573810": {
     "model_module": "@jupyter-widgets/controls",
     "model_module_version": "1.5.0",
     "model_name": "HTMLModel",
     "state": {
      "_dom_classes": [],
      "_model_module": "@jupyter-widgets/controls",
      "_model_module_version": "1.5.0",
      "_model_name": "HTMLModel",
      "_view_count": null,
      "_view_module": "@jupyter-widgets/controls",
      "_view_module_version": "1.5.0",
      "_view_name": "HTMLView",
      "description": "",
      "description_tooltip": null,
      "layout": "IPY_MODEL_841485ef58d64267a0bb939b28ea87a0",
      "placeholder": "​",
      "style": "IPY_MODEL_a831b782739f44ea934a90bdb0195b22",
      "value": "config.json: 100%"
     }
    },
    "f13975e1e53d4a02afbd20c6aa5f9c98": {
     "model_module": "@jupyter-widgets/controls",
     "model_module_version": "1.5.0",
     "model_name": "HBoxModel",
     "state": {
      "_dom_classes": [],
      "_model_module": "@jupyter-widgets/controls",
      "_model_module_version": "1.5.0",
      "_model_name": "HBoxModel",
      "_view_count": null,
      "_view_module": "@jupyter-widgets/controls",
      "_view_module_version": "1.5.0",
      "_view_name": "HBoxView",
      "box_style": "",
      "children": [
       "IPY_MODEL_9a1ed217dfe541b781c326c21b57bfd7",
       "IPY_MODEL_cba31e1ab28b49bbae99ca94d5e7f435",
       "IPY_MODEL_ecf00cacd9bb47e6ae9a0a63b529c090"
      ],
      "layout": "IPY_MODEL_414558c923e040cfadeea9b98ee37db5"
     }
    }
   }
  }
 },
 "nbformat": 4,
 "nbformat_minor": 4
}
