{
 "cells": [
  {
   "cell_type": "code",
   "execution_count": null,
   "metadata": {
    "colab": {
     "base_uri": "https://localhost:8080/"
    },
    "id": "e6owJEBGo2bR",
    "outputId": "254c5993-61a1-4645-90aa-59163c9c7a91"
   },
   "outputs": [],
   "source": [
    "!pip install pytorch-crf"
   ]
  },
  {
   "cell_type": "code",
   "execution_count": null,
   "metadata": {
    "colab": {
     "base_uri": "https://localhost:8080/"
    },
    "id": "366t7tZXpfP2",
    "outputId": "e143d500-70b9-426b-c432-324a14770318"
   },
   "outputs": [],
   "source": [
    "from google.colab import drive\n",
    "drive.mount('/content/drive')"
   ]
  },
  {
   "cell_type": "code",
   "execution_count": null,
   "metadata": {},
   "outputs": [],
   "source": [
    "import torch\n",
    "import torch.nn as nn\n",
    "from transformers import AutoModel, AutoTokenizer\n",
    "from torch.utils.data import Dataset, DataLoader\n",
    "from sklearn.model_selection import train_test_split\n",
    "from torchcrf import CRF\n",
    "import numpy as np\n",
    "import pandas as pd\n",
    "from sklearn.metrics import accuracy_score, precision_score, recall_score, f1_score, matthews_corrcoef, mean_absolute_error\n",
    "import matplotlib.pyplot as plt"
   ]
  },
  {
   "cell_type": "code",
   "execution_count": null,
   "metadata": {},
   "outputs": [],
   "source": [
    "class MixedTextDataset(Dataset):\n",
    "    def __init__(self, texts, labels, tokenizer, max_len):\n",
    "        self.texts = texts\n",
    "        self.labels = labels\n",
    "        self.tokenizer = tokenizer\n",
    "        self.max_len = max_len\n",
    "\n",
    "    def __len__(self):\n",
    "        return len(self.texts)\n",
    "\n",
    "    def __getitem__(self, idx):\n",
    "        text = str(self.texts[idx])\n",
    "        boundary_idx = int(self.labels[idx])\n",
    "        words = text.split()\n",
    "        if len(words) > self.max_len - 2:\n",
    "            if boundary_idx > self.max_len - 2:\n",
    "                words = words[-(self.max_len - 2):]\n",
    "                boundary_idx = 0\n",
    "            else:\n",
    "                words = words[:self.max_len - 2]\n",
    "        word_labels = [0 if i <= boundary_idx else 1 for i in range(len(words))]\n",
    "        truncated_text = \" \".join(words)\n",
    "        encoding = self.tokenizer(\n",
    "            truncated_text,\n",
    "            max_length=self.max_len,\n",
    "            padding=\"max_length\",\n",
    "            truncation=True,\n",
    "            return_tensors=\"pt\",\n",
    "            return_special_tokens_mask=True\n",
    "        )\n",
    "        special_tokens_mask = encoding['special_tokens_mask'][0]\n",
    "        token_labels = []\n",
    "        current_word_idx = 0\n",
    "\n",
    "        for is_special in special_tokens_mask:\n",
    "            if is_special:\n",
    "                token_labels.append(-100)\n",
    "            else:\n",
    "                if current_word_idx < len(word_labels):\n",
    "                    token_labels.append(word_labels[current_word_idx])\n",
    "                    current_word_idx += 1\n",
    "                else:\n",
    "                    token_labels.append(-100)\n",
    "        token_labels = token_labels[:self.max_len]\n",
    "        if len(token_labels) < self.max_len:\n",
    "            token_labels.extend([-100] * (self.max_len - len(token_labels)))\n",
    "        return {\n",
    "            \"input_ids\": encoding[\"input_ids\"].squeeze(0),\n",
    "            \"attention_mask\": encoding[\"attention_mask\"].squeeze(0),\n",
    "            \"labels\": torch.tensor(token_labels)\n",
    "        }"
   ]
  },
  {
   "cell_type": "code",
   "execution_count": null,
   "metadata": {},
   "outputs": [],
   "source": [
    "class RNNCRFTagger(nn.Module):\n",
    "    def __init__(self, input_dim, hidden_dim, num_labels, embedding_dim=768, num_layers=2, dropout=0.3):\n",
    "        super(RNNCRFTagger, self).__init__()\n",
    "        self.num_labels = num_labels\n",
    "        self.embedding = nn.Embedding(input_dim, embedding_dim)\n",
    "        self.embed_dropout = nn.Dropout(dropout)\n",
    "        self.lstm = nn.LSTM(embedding_dim, hidden_dim, num_layers=num_layers, batch_first=True, bidirectional=True, dropout=dropout if num_layers > 1 else 0)\n",
    "        self.layer_norm = nn.LayerNorm(hidden_dim * 2)\n",
    "        self.hidden2hidden = nn.Sequential(nn.Linear(hidden_dim * 2, hidden_dim * 2), nn.ReLU(), nn.Dropout(dropout))\n",
    "        self.hidden2tag = nn.Linear(hidden_dim * 2, num_labels)\n",
    "        self.crf = CRF(num_labels, batch_first=True)\n",
    "        for name, param in self.named_parameters():\n",
    "            if 'weight' in name:\n",
    "                if len(param.shape) > 1:\n",
    "                    nn.init.xavier_uniform_(param)\n",
    "                else:\n",
    "                    nn.init.normal_(param, mean=0, std=0.01)\n",
    "            elif 'bias' in name:\n",
    "                nn.init.constant_(param, 0)\n",
    "\n",
    "    def forward(self, input_ids, attention_mask, labels=None):\n",
    "        embedded = self.embedding(input_ids)\n",
    "        embedded = self.embed_dropout(embedded)\n",
    "        embedded = embedded * attention_mask.unsqueeze(-1)\n",
    "        lstm_out, _ = self.lstm(embedded)\n",
    "        lstm_out = self.layer_norm(lstm_out)\n",
    "        lstm_out = self.hidden2hidden(lstm_out)\n",
    "        logits = self.hidden2tag(lstm_out)\n",
    "\n",
    "        if labels is not None:\n",
    "            mask = attention_mask.bool()\n",
    "            crf_labels = labels.clone()\n",
    "            crf_labels[crf_labels == -100] = 0\n",
    "            loss = -self.crf(logits, crf_labels, mask=mask, reduction='mean')\n",
    "            return loss\n",
    "        else:\n",
    "            mask = attention_mask.bool()\n",
    "            predictions = self.crf.decode(logits, mask=mask)\n",
    "            padded_predictions = []\n",
    "            for pred, mask_len in zip(predictions, attention_mask.sum(1).tolist()):\n",
    "                pad_len = attention_mask.size(1) - len(pred)\n",
    "                padded_pred = pred + [0] * pad_len\n",
    "                padded_predictions.append(padded_pred)\n",
    "            return torch.tensor(padded_predictions, device=input_ids.device)\n"
   ]
  },
  {
   "cell_type": "code",
   "execution_count": null,
   "metadata": {},
   "outputs": [],
   "source": [
    "def train_model(model, data_loader, optimizer, scheduler, device, clip_value=1.0):\n",
    "    model.train()\n",
    "    total_loss = 0\n",
    "    for batch in data_loader:\n",
    "        input_ids = batch[\"input_ids\"].to(device)\n",
    "        attention_mask = batch[\"attention_mask\"].to(device)\n",
    "        labels = batch[\"labels\"].to(device)\n",
    "        optimizer.zero_grad()\n",
    "        loss = model(input_ids, attention_mask, labels)\n",
    "        loss.backward()\n",
    "        torch.nn.utils.clip_grad_norm_(model.parameters(), max_norm=clip_value)\n",
    "        optimizer.step()\n",
    "        if scheduler:\n",
    "            scheduler.step()\n",
    "        total_loss += loss.item()\n",
    "    return total_loss / len(data_loader)\n",
    "\n",
    "def evaluate_model(model, data_loader, device):\n",
    "    model.eval()\n",
    "    all_predictions = []\n",
    "    all_labels = []\n",
    "    with torch.no_grad():\n",
    "        for batch in data_loader:\n",
    "            input_ids = batch[\"input_ids\"].to(device)\n",
    "            attention_mask = batch[\"attention_mask\"].to(device)\n",
    "            labels = batch[\"labels\"].to(device)\n",
    "            predictions = model(input_ids, attention_mask)\n",
    "            for pred_seq, label_seq, mask_seq in zip(predictions, labels, attention_mask):\n",
    "                valid_indices = (mask_seq == 1) & (label_seq != -100)\n",
    "                valid_pred = pred_seq[valid_indices].cpu().numpy()\n",
    "                valid_label = label_seq[valid_indices].cpu().numpy()\n",
    "                all_predictions.extend(valid_pred)\n",
    "                all_labels.extend(valid_label)\n",
    "    all_predictions = np.array(all_predictions)\n",
    "    all_labels = np.array(all_labels)\n",
    "    absolute_errors = np.abs(all_predictions - all_labels)\n",
    "    mae = np.mean(absolute_errors)\n",
    "    std_dev = np.std(absolute_errors)\n",
    "    accuracy = accuracy_score(all_labels, all_predictions)\n",
    "    precision = precision_score(all_labels, all_predictions, average='weighted', zero_division=0)\n",
    "    recall = recall_score(all_labels, all_predictions, average='weighted', zero_division=0)\n",
    "    f1 = f1_score(all_labels, all_predictions, average='weighted', zero_division=0)\n",
    "    mcc = matthews_corrcoef(all_labels, all_predictions)\n",
    "    return accuracy, precision, recall, f1, mcc, mae, std_dev\n"
   ]
  },
  {
   "cell_type": "code",
   "execution_count": null,
   "metadata": {},
   "outputs": [],
   "source": [
    "MODEL_NAME = 'microsoft/deberta-v3-base'\n",
    "tokenizer = AutoTokenizer.from_pretrained(MODEL_NAME)\n",
    "config = {\n",
    "    'batch_size': 16,\n",
    "    'learning_rate': 1e-3,\n",
    "    'hidden_dim': 512,\n",
    "    'embedding_dim': 768,\n",
    "    'num_layers': 2,\n",
    "    'dropout': 0.3,\n",
    "    'epochs': 3,\n",
    "    'max_len': 512,\n",
    "    'weight_decay': 0.01,\n",
    "    'gradient_clip': 1.0\n",
    "}\n",
    "\n",
    "train_df = pd.read_csv('/content/drive/MyDrive/SCI AIGC/sentence_train_data.csv')\n",
    "dev_df = pd.read_csv('/content/drive/MyDrive/SCI AIGC/sentence_dev_data.csv')\n",
    "\n",
    "train_texts = train_df[\"text\"].tolist()\n",
    "train_labels = train_df[\"label\"].tolist()\n",
    "dev_texts = dev_df[\"text\"].tolist()\n",
    "dev_labels = dev_df[\"label\"].tolist()\n",
    "\n",
    "train_dataset = MixedTextDataset(train_texts, train_labels, tokenizer, max_len=config['max_len'])\n",
    "dev_dataset = MixedTextDataset(dev_texts, dev_labels, tokenizer, max_len=config['max_len'])\n",
    "\n",
    "train_loader = DataLoader(train_dataset, batch_size=config['batch_size'], shuffle=True)\n",
    "dev_loader = DataLoader(dev_dataset, batch_size=config['batch_size'], shuffle=False)\n",
    "\n",
    "device = torch.device(\"cuda\" if torch.cuda.is_available() else \"cpu\")\n",
    "vocab_size = tokenizer.vocab_size\n",
    "num_labels = len(set([label for label in train_labels] + [label for label in dev_labels]))\n",
    "\n",
    "model = RNNCRFTagger(vocab_size, config['hidden_dim'], num_labels,\n",
    "                     embedding_dim=config['embedding_dim'],\n",
    "                     num_layers=config['num_layers'],\n",
    "                     dropout=config['dropout']).to(device)\n",
    "\n",
    "optimizer = torch.optim.AdamW(model.parameters(), lr=config['learning_rate'], weight_decay=config['weight_decay'])\n",
    "total_steps = len(train_loader) * config['epochs']\n",
    "scheduler = torch.optim.lr_scheduler.OneCycleLR(optimizer, max_lr=config['learning_rate'],\n",
    "                                               total_steps=total_steps, pct_start=0.1, anneal_strategy='cos')\n"
   ]
  },
  {
   "cell_type": "code",
   "execution_count": null,
   "metadata": {
    "colab": {
     "base_uri": "https://localhost:8080/"
    },
    "id": "aaGdbaxiK18e",
    "outputId": "644f5e93-8aff-44d9-e001-dcb7fa29a40e"
   },
   "outputs": [],
   "source": [
    "best_f1 = 0.0\n",
    "best_epoch = 0\n",
    "patience = 3\n",
    "patience_counter = 0\n",
    "best_model_path = \"RNNCRF_bestmodel.pth\"\n",
    "train_losses = []\n",
    "val_metrics = {'accuracy': [], 'precision': [], 'recall': [], 'f1': [], 'mcc': [], 'mae': [], 'std_dev': []}\n",
    "\n",
    "print(\"Starting training...\")\n",
    "print(f\"Training on device: {device}\")\n",
    "print(f\"Number of training examples: {len(train_dataset)}\")\n",
    "print(f\"Number of validation examples: {len(dev_dataset)}\")\n",
    "\n",
    "for epoch in range(config['epochs']):\n",
    "    print(f\"\\nEpoch {epoch + 1}/{config['epochs']}\")\n",
    "    train_loss = train_model(model, train_loader, optimizer, scheduler, device, config['gradient_clip'])\n",
    "    train_losses.append(train_loss)\n",
    "    val_accuracy, val_precision, val_recall, val_f1, val_mcc, val_mae, val_std_dev = evaluate_model(model, dev_loader, device)\n",
    "    val_metrics['accuracy'].append(val_accuracy)\n",
    "    val_metrics['precision'].append(val_precision)\n",
    "    val_metrics['recall'].append(val_recall)\n",
    "    val_metrics['f1'].append(val_f1)\n",
    "    val_metrics['mcc'].append(val_mcc)\n",
    "    val_metrics['mae'].append(val_mae)\n",
    "    val_metrics['std_dev'].append(val_std_dev)\n",
    "\n",
    "    print(f\"Train Loss: {train_loss:.4f}\")\n",
    "    print(f\"Validation Metrics:\")\n",
    "    print(f\"Accuracy: {val_accuracy:.4f}\")\n",
    "    print(f\"Precision: {val_precision:.4f}\")\n",
    "    print(f\"Recall: {val_recall:.4f}\")\n",
    "    print(f\"F1 Score: {val_f1:.4f}\")\n",
    "    print(f\"MCC: {val_mcc:.4f}\")\n",
    "    print(f\"MAE: {val_mae:.2f}±{val_std_dev:.2f}\")\n",
    "\n",
    "    if val_f1 > best_f1:\n",
    "        best_f1 = val_f1\n",
    "        best_epoch = epoch + 1\n",
    "        patience_counter = 0\n",
    "        torch.save({\n",
    "            'epoch': epoch + 1,\n",
    "            'model_state_dict': model.state_dict(),\n",
    "            'optimizer_state_dict': optimizer.state_dict(),\n",
    "            'scheduler_state_dict': scheduler.state_dict(),\n",
    "            'config': config,\n",
    "            'metrics': {\n",
    "                'f1': val_f1,\n",
    "                'accuracy': val_accuracy,\n",
    "                'precision': val_precision,\n",
    "                'recall': val_recall,\n",
    "                'mcc': val_mcc,\n",
    "                'mae': val_mae,\n",
    "                'std_dev': val_std_dev\n",
    "            }\n",
    "        }, best_model_path)\n",
    "        print(f\"New best model saved with F1 Score: {val_f1:.4f}\")\n",
    "    else:\n",
    "        patience_counter += 1\n",
    "        if patience_counter >= patience:\n",
    "            print(f\"Early stopping triggered after {epoch + 1} epochs\")\n",
    "            break\n",
    "\n",
    "print(\"\\nTraining completed!\")\n",
    "print(f\"Best model saved at epoch {best_epoch} with F1 Score: {best_f1:.4f}\")"
   ]
  },
  {
   "cell_type": "code",
   "execution_count": null,
   "metadata": {
    "colab": {
     "base_uri": "https://localhost:8080/"
    },
    "id": "z70DEFTGcnx9",
    "outputId": "692ddacd-1932-4f37-dcb2-979b2632f7ee"
   },
   "outputs": [],
   "source": [
    "model.eval()\n",
    "\n",
    "test_df = pd.read_csv('/content/drive/MyDrive/SCI AIGC/sentence_test.csv')\n",
    "test_texts = test_df[\"text\"].tolist()\n",
    "test_labels = test_df[\"label\"].tolist()\n",
    "\n",
    "test_dataset = MixedTextDataset(test_texts, test_labels, tokenizer, max_len=512)\n",
    "test_loader = DataLoader(test_dataset, batch_size=8, shuffle=False)\n",
    "\n",
    "test_accuracy, test_precision, test_recall, test_f1, test_mcc, test_mae, test_std_dev = evaluate_model(model, test_loader, device)\n",
    "\n",
    "print(f\"Test Results: Accuracy: {test_accuracy:.4f}, Precision: {test_precision:.4f}, Recall: {test_recall:.4f}, \"\n",
    "      f\"F1 Score: {test_f1:.4f}, MCC: {test_mcc:.4f}, MAE: {test_mae:.2f}±{test_std_dev:.2f}\")\n"
   ]
  },
  {
   "cell_type": "code",
   "execution_count": null,
   "metadata": {
    "id": "TRDIcxyAp8aO"
   },
   "outputs": [],
   "source": [
    "def predict_boundary(model, text, tokenizer, max_len, device):\n",
    "    model.eval()\n",
    "    encoding = tokenizer(\n",
    "        text,\n",
    "        max_length=max_len,\n",
    "        padding=\"max_length\",\n",
    "        truncation=True,\n",
    "        return_tensors=\"pt\",\n",
    "        return_special_tokens_mask=True\n",
    "    )\n",
    "\n",
    "    input_ids = encoding[\"input_ids\"].to(device)\n",
    "    attention_mask = encoding[\"attention_mask\"].to(device)\n",
    "\n",
    "    with torch.no_grad():\n",
    "        embedded = model.embedding(input_ids)\n",
    "        embedded = model.embed_dropout(embedded)\n",
    "        embedded = embedded * attention_mask.unsqueeze(-1)\n",
    "        lstm_out, _ = model.lstm(embedded)\n",
    "        lstm_out = model.layer_norm(lstm_out)\n",
    "        lstm_out = model.hidden2hidden(lstm_out)\n",
    "        logits = model.hidden2tag(lstm_out)\n",
    "        mask = attention_mask.bool()\n",
    "        predictions = model.crf.decode(logits, mask=mask)\n",
    "\n",
    "    pred_labels = predictions[0]\n",
    "    boundary_index = next((i for i, label in enumerate(pred_labels) if label == 1), len(pred_labels))\n",
    "    special_tokens_mask = encoding['special_tokens_mask'][0].tolist()\n",
    "    actual_tokens = [i for i, is_special in enumerate(special_tokens_mask) if not is_special]\n",
    "\n",
    "    if boundary_index < len(actual_tokens):\n",
    "        boundary_index = actual_tokens[boundary_index]\n",
    "\n",
    "    return boundary_index\n"
   ]
  },
  {
   "cell_type": "code",
   "execution_count": null,
   "metadata": {
    "id": "6Uy6kJJXpLbz"
   },
   "outputs": [],
   "source": [
    "test_df[\"predicted_boundary\"] = test_df[\"text\"].apply(\n",
    "    lambda x: predict_boundary(model, x, tokenizer, max_len=512, device=device)\n",
    ")"
   ]
  },
  {
   "cell_type": "code",
   "execution_count": null,
   "metadata": {
    "colab": {
     "base_uri": "https://localhost:8080/",
     "height": 423
    },
    "id": "gI9Gff_yqGte",
    "outputId": "5e39279f-3a01-42cd-8603-74f2032f662f"
   },
   "outputs": [],
   "source": [
    "test_df"
   ]
  },
  {
   "cell_type": "code",
   "execution_count": null,
   "metadata": {
    "id": "c905GA-DqIl_"
   },
   "outputs": [],
   "source": [
    "test_df.to_csv('BiLSTM_CRF.csv', index = False)"
   ]
  },
  {
   "cell_type": "code",
   "execution_count": null,
   "metadata": {
    "colab": {
     "base_uri": "https://localhost:8080/"
    },
    "id": "x0NB2jI9qTEZ",
    "outputId": "efe22780-4db9-48cc-ddc7-6c2e5ac0079d"
   },
   "outputs": [],
   "source": [
    "mae = (test_df['label'] - test_df['predicted_boundary']).abs().mean()\n",
    "mae"
   ]
  },
  {
   "cell_type": "code",
   "execution_count": null,
   "metadata": {
    "colab": {
     "base_uri": "https://localhost:8080/"
    },
    "id": "bGkA3Lwtwjlh",
    "outputId": "22f067d5-864e-4e15-bb37-1e0a2b78ace1"
   },
   "outputs": [],
   "source": [
    "difference = (test_df['label'] - test_df['predicted_boundary']).abs()\n",
    "mae = difference.mean()\n",
    "sd = difference.std()\n",
    "print(f\"MAE ± SD: {mae:.4f} ± {sd:.4f}\")\n"
   ]
  },
  {
   "cell_type": "code",
   "execution_count": null,
   "metadata": {
    "id": "wNjYE1XmwmH-"
   },
   "outputs": [],
   "source": []
  }
 ],
 "metadata": {
  "accelerator": "GPU",
  "colab": {
   "gpuType": "T4",
   "provenance": []
  },
  "kernelspec": {
   "display_name": "Python 3 (ipykernel)",
   "language": "python",
   "name": "python3"
  },
  "language_info": {
   "codemirror_mode": {
    "name": "ipython",
    "version": 3
   },
   "file_extension": ".py",
   "mimetype": "text/x-python",
   "name": "python",
   "nbconvert_exporter": "python",
   "pygments_lexer": "ipython3",
   "version": "3.10.11"
  }
 },
 "nbformat": 4,
 "nbformat_minor": 4
}
